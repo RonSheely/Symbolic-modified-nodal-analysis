{
 "cells": [
  {
   "cell_type": "markdown",
   "metadata": {},
   "source": [
    "# Symbolic modified nodal analysis\n",
    "Last update: 9 Jan 2024\n",
    "\n",
    "> Maintenance – This project is not actively maintained, but I do use the code from time to time. The biggest issue has been deprecated SymPy functions. Since I’m in the mode not upgrading or updating Anaconda, I don’t encounter too many issues with deprecation of features. Usually at the end of the long term support period for whatever version of Linux that I have installed, is when I update Anaconda along with the Python libraries. This is when these type of issues pop up. See the backup folder for version history.\n",
    "\n",
    "**Abstract:** The python code in this jupyter notebook will read in a spice like circuit netlist file and formulate a set of network equations in symbolic form using sympy. These equations can then be copied to a different notebook where the node voltages can be numerically solved using sympy or numpy.  Linear resistors, capacitors, inductors, independent sources and controlled sources are supported.\n",
    "\n",
    "**Introduction:** This nodal analysis code started as a translation from some C code to generate a nodal admittance matrix that I had written in 1988. I wrote this code for two reasons. Free versions of Spice for the PC didn't exist at the time and I wanted to use some of the code from the Numerical Recipes in C [[1]](#ref1) Book. The original C code worked well and calculated numeric solutions.  I then started writing some C code to generate the matrices with symbolic values and then intended to use LISP to symbolically solve the equations. I didn’t get too far with this effort. The LISP code would generate huge symbolic strings with no simplification. The output was a big pile of trash that was not in the least bit useful or decipherable.\n",
    "\n",
    "In 2014, I started to use python for my little coding projects and engineering calculations. There are some nice python libraries for numeric and symbolic calculations (such as numpy and sympy), so I decided to try writing a python script to generate the node equations based on the old C code I had written many years before. Part way into this project I discovered that there is a new nodal analysis technique being taught today in engineering school called the modified nodal analysis [[2]](#ref2)[[3]](#ref3). My motivation for reviving this coding project is my continued interest in circuit analysis and synthesis.  \n",
    "\n",
    "**Description:** The modified nodal analysis provides an algorithmic method for generating systems of independent equations for linear circuit analysis. Some of my younger colleagues at work were taught this method, but I never heard of it until a short time ago. These days, I never really analyze a circuit by hand, unless it’s so simple that you can almost do it by inspection. Most problems that an electrical engineer encounters on the job are complex enough that they use computers to analyze the circuits. LTspice [[4]](#ref4) is the version of spice that I use, since it’s free and does a good job converging when analyzing switching circuits.\n",
    "\n",
    "My code started initially by following Erik Cheever's Analysis of Resistive Circuits, reference [[5]](#ref5) MATLAB code, to generate modified nodal equations. I somewhat followed his MATLAB file for resistors, capacitors, opamps and independent sources. The naming of the matrices follows his convention. The preprocessor and parser code was converted from my old C code. The use of pandas for a data frame is new and sympy [[6]](#ref6) is used to do the math and the use of element stamps is from reference [[7]](#ref7).\n",
    "\n",
    "Inductors are being addressed in the D matrix. Erik's code puts inductors into the G matrix as 1/s/L.  My code puts the inductor contribution into the D matrix and the unknown current from the inductor into the B and C matrices.  Coupled inductors also affect the D matrix, so it makes sense to allow the inductors to be in the D matrix rather than the G matrix.\n",
    "\n",
    "**Network equations:** The network equations are a set of independent equations expressed in this code in matrix form.  There is an equation for each node based on Kirchhoff's current law (KCL) [[8]](#ref8) and an equation for each current unknown.   The current unknowns are the currents from the voltages sources, op amps, voltage controlled voltage sources, current controlled voltage sources, current controlled current sources and inductors.\n",
    "\n",
    "Equation 1 is the network equations in matrix form.  \n",
    "\n",
    "$A\\cdot X = Z$\n",
    "\n",
    "The A matrix describes the connectivity of the resistors, capacitors and G type (VCCS) circuit elements. The column vector X are the unknown node voltages and unknown currents terms from the voltage sources and inductors. The column vector Z is made of the known voltages and currents. The A is formed by four sub matrices, G, B, C and D, which are described below.\n",
    "\n",
    "$A = \\begin{bmatrix}G B\\\\C D\\end{bmatrix}$\n",
    "\n",
    "The matrix G is formed from the coefficients representing the KCL equations for each node.\n",
    "The positive diagonal of $G_{k,k}$ are the conductance terms of the resistor and capacitor elements connected to node k.  The off diagonal terms of $G_{k,j}$ are the resistors and capacitor conductances connecting node k to node j.  G type elements (VCCS) have input to the G matrix at the connection and controlling node positions.\n",
    "\n",
    "The B matrix describes the connectivity of the unknown branch currents.  Independent voltage sources, opamps, H, F and E type elements as well as inductors have inputs to the B matrix.\n",
    "\n",
    "The C matrix describes the connectivity of the unknown branch currents and is mainly the transpose of B the matrix, with the exception of the F type elements (CCCS) and includes the E type value. \n",
    "\n",
    "The D matrix also describes connectivity of the unknown currents.  The D matrix is composed of zeros unless there are controlled sources and inductors in the network.  \n",
    "\n",
    "The X vector is composed of the V and J vectors as shown below.   \n",
    "$X = \\begin{bmatrix}V\\\\J\\end{bmatrix}$  \n",
    "The V vector contains the node voltages which are the voltage unknowns to be solved for.  The J vector contains the unknown currents from each voltage source.\n",
    "\n",
    "The Z vector is composed of the I and Ev vectors as shown below.  \n",
    "$Z = \\begin{bmatrix}I\\\\Ev\\end{bmatrix}$  \n",
    "The I vector contains the known currents and the Ev vector contains the known voltages. Ev is used as the variable because sympy uses e and E sometimes for the constant e=2.71, sometimes called Euler's number [[9]](#ref9). The use of E or e as a symbol was causing some errors when the code was run.  \n",
    "\n",
    "Putting all the parts together:\n",
    "\n",
    "$\\begin{bmatrix}G B\\\\C D\\end{bmatrix} \\cdot \\begin{bmatrix}V\\\\J\\end{bmatrix} = \\begin{bmatrix}I\\\\Ev\\end{bmatrix}$\n",
    "\n",
    "**Stamps:** Stamps are templates for modifying the B, C and D matrices and facilitate the construction of the matrices. The stamps used in this implementation of the MNA follow the stamps of reference [[7]](#ref7).  \n",
    "\n",
    "**Code description:**  The code is divided in the following sections.  \n",
    "Preprocessor: The preprocessor reads in the netlist text file and removes comments, extra spaces and blank lines. The first letter of the element type is capitalized to make subsequent parsing of the file easier. The number of lines are counted and the number of entries on each line are checked to make sure the count is consistent with the element type.\n",
    "\n",
    "Parser: The parser code loads the preprocessed netlist into a data frame.  A report is generated which consists of a count of the element types in the netlist.  \n",
    "\n",
    "Matrix formulation: Each of the matrices and vectors are generated.  \n",
    "\n",
    "Circuit equation generation: The circuit equations are generated in a for loop. Sympy automatically does some simplification according to its default settings. Two for loops perform the matrix multiplication on equation 1. The Laplace variable s is used when inductors and capacitors are included in the circuit [[7]](#ref7).  \n",
    "\n",
    "**Code validation:**  Basic validation of the code consisted of analyzing simple networks and examining the results. A more comprehensive evaluation of the code was performed by solving test circuits and comparing the results to LTSpice. As of October 2023 all the element types have been tested. See the circuits used for validation [here](https://github.com/Tiburonboy/Symbolic-modified-nodal-analysis/tree/master/test%20circuits). The validation circuits range from simple to large and complex. The largest validation circuit consist of 32 nodes, 59 branches and multiple instances all of the element types. For this large test circuit, there are small numerical differences between the Python MNA code results and the LTSpice solution, which are describe in the test report. Additionally, various interesting problem circuits have been solved using the MNA code and comparing the results to LTSpice. These problem circuits can also be found in the github repository. \n",
    "Code verification often looks at requirements or specifications versus what was implemented. This project didn’t have a formal set of requirements, only a general goal of implementing symbolic MNA using the Python libraries. No formal software or code verification is included.\n",
    "\n",
    "**Usage:**  The input file is a text file called the netlist.  It can be generated by using a text editor using the format listed below or by drawing the schematic and exporting the net list.  LTspice can be used to draw the schematic of the circuit to be analyzed.  The bit mapped image of the schematic can be copied and included in a document.  The net list can be imported into the python code and the circuit equations can be generated in symbolic form.  The [User’s guide](https://github.com/Tiburonboy/Symbolic-modified-nodal-analysis/blob/master/user_guide.md) can be found on github repository.\n",
    "\n",
    "**Change log:**  The code development change log can be found on github [here](https://github.com/Tiburonboy/Symbolic-modified-nodal-analysis/blob/master/Change%20Log.md).\n",
    "\n",
    "The backup history can also be found on github.\n",
    "[Backups](https://github.com/Tiburonboy/Symbolic-modified-nodal-analysis/tree/master/backup)\n",
    "\n",
    "**Survey of other symbolic circuit analysis code:**  The python code presented in this notebook is somewhat unique since python is open source, free and runs on a variety of platforms.  The code presented in this ipython notebook is portable.  As described below, this code is made available under a public domain license and archived in a github [repository](https://github.com/Tiburonboy/Symbolic-modified-nodal-analysis).  \n",
    "\n",
    "There are other symbolic circuit analysis codes available and some of these are described here.  Some of these codes are based on commercial software such as MATLAB [[12]](#ref12), TINA  [[13]](#ref13) and Maple [[14]](#ref14).  \n",
    "\n",
    "[SLiCAP](https://www.analog-electronics.eu/slicap/slicap.html) is a symbolic linear analysis tool.  SLiCAP runs in MATLAB.  \n",
    "\n",
    "[TINA](https://www.tina.com) is an acronym of Toolkit for Interactive Network Analysis.  The TINA design suite is a circuit simulator and PCB design software package for analyzing, designing, and real time testing of analog, digital, HDL, MCU, and mixed electronic circuits and their PCB layouts. TINA has some [symbolic analysis capability](https://www.tina.com/symbolic-analysis).\n",
    "\n",
    "Maple is a mathematical package and there is an application [note](https://www.maplesoft.com/applications/view.aspx?SID=1427) available describing its use in symbolic circuit analysis. The application note presents a method for evaluating, solving and designing a common, but not so simple pulse-mode high-gain transimpedance amplifier or TIA circuit. \n",
    "\n",
    "[Symbolic Circuit Analysis](https://rodanski.net/ben/work/symbolic/index.htm) is a web page devoted to symbolic circuit analysis.  \n",
    "\n",
    "[SAPWIN](http://www.ewh.ieee.org/soc/es/May2001/12/Begin.htm) is a windows program package for symbolic and numerical simulation of analog circuits.\n",
    "\n",
    "[Lcapy](https://github.com/mph-/lcapy) is an experimental Python package for teaching linear circuit analysis. It uses SymPy for symbolic mathematics.  \n",
    "\n",
    "**License:**  This work (includes python code, documentation, test circuits, etc.) is licensed under a Creative Commons Attribution-ShareAlike 4.0 International License.  \n",
    "Share — copy and redistribute the material in any medium or format  \n",
    "Adapt — remix, transform, and build upon the material for any purpose, even commercially.  \n",
    "https://creativecommons.org/licenses/by-sa/4.0/  \n",
    "\n",
    "<img alt=\"Creative Commons License\" style=\"border-width:0\" src=\"https://i.creativecommons.org/l/by-sa/4.0/88x31.png\" />\n",
    "\n",
    "---\n",
    "**References:**  \n",
    "<a id='ref1'></a>\n",
    "1. Numerical Recipes in C: The Art of Scientific Computing, William H. Press, Brian P. Flannery, Saul A. Teukolsky, William T. Vetterling, Cambridge University Press; 1988  \n",
    "<a id='ref2'></a>\n",
    "2. The modified nodal approach to network analysis, Chung-Wen Ho, A. Ruehli, P. Brennan, IEEE Transactions on Circuits and Systems ( Volume: 22, Issue: 6, Jun 1975 )  \n",
    "<a id='ref3'></a>\n",
    "3. [Modified nodal analysis](https://en.wikipedia.org/wiki/Modified_nodal_analysis), wikipedia.org, retrieved October 6, 2017  \n",
    "<a id='ref4'></a>\n",
    "4. [LTspice](http://www.linear.com/solutions/ltspice), Linear Technology Corporation, retrieved October 6, 2017. The updated link is [here](https://www.analog.com/en/design-center/design-tools-and-calculators/ltspice-simulator.html), retrieved November 13, 2023  \n",
    "<a id='ref5'></a>\n",
    "5. [Analysis of  Resistive Circuits](http://www.swarthmore.edu/NatSci/echeeve1/Ref/mna/MNA1.html), retrieved October 6, 2017  \n",
    "<a id='ref6'></a>\n",
    "6. [Sympy](https://www.scipy.org/), Scipy.org, retrieved October 8, 2017  \n",
    "<a id='ref7'></a>\n",
    "7. [Laplace transform](https://en.wikipedia.org/wiki/Laplace_transform), wikipedia.org, retrieved December 3, 2017  \n",
    "<a id='ref8'></a>\n",
    "8. [ECE 570 Session 3](http://www2.engr.arizona.edu/~ece570/session3.pdf), Computer Aided Engineering for Integrated Circuits, retreived November 13, 2023  \n",
    "<a id='ref9'></a>\n",
    "9. [Kirchhoff's circuit laws](https://en.wikipedia.org/wiki/Kirchhoff%27s_circuit_laws), Wikipedia.com, retrieved October 8, 2017  \n",
    "<a id='ref10'></a>\n",
    "10. [e (mathematical constant)](https://en.wikipedia.org/wiki/E_(mathematical_constant)), Wikipedia.com, retrieved October 8, 2017  \n",
    "<a id='ref11'></a>\n",
    "11. Solved Problems, A Source of Free Solved Problems, [Category Archives: Electrical Circuits](http://www.solved-problems.com/circuits/electrical-circuits-problems/716/supernode-dependent-voltage-source/), retrieved October 6, 2017 - as of 13 Nov 2023 this link is no good.  \n",
    "<a id='ref12'></a>\n",
    "12. [MATLAB](https://www.mathworks.com/products/matlab.html), retrieved October 6, 2017  \n",
    "<a id='ref13'></a>\n",
    "13. [TINA](https://www.tina.com/), retrieved October 6, 2017  \n",
    "<a id='ref14'></a>\n",
    "14. [Maple](https://www.maplesoft.com/), retrieved October 6, 2017  \n",
    "\n",
    "### Python library versions used  \n",
    "- python: 3.10.9  \n",
    "- numpy: 1.23.5  \n",
    "- sympy: 1.11.1  \n",
    "- pandas: 1.5.3  "
   ]
  },
  {
   "cell_type": "code",
   "execution_count": 1,
   "metadata": {
    "collapsed": false,
    "jupyter": {
     "outputs_hidden": false
    }
   },
   "outputs": [],
   "source": [
    "import os\n",
    "from sympy import *\n",
    "import numpy as np\n",
    "import pandas as pd\n",
    "init_printing()"
   ]
  },
  {
   "cell_type": "code",
   "execution_count": 48,
   "metadata": {
    "collapsed": false,
    "jupyter": {
     "outputs_hidden": false
    }
   },
   "outputs": [],
   "source": [
    "# initialize variables\n",
    "num_rlc = 0 # number of passive elements\n",
    "num_ind = 0 # number of inductors\n",
    "num_v = 0    # number of independent voltage sources\n",
    "num_i = 0    # number of independent current sources\n",
    "i_unk = 0  # number of current unknowns\n",
    "num_opamps = 0   # number of op amps\n",
    "num_vcvs = 0     # number of controlled sources of various types\n",
    "num_vccs = 0\n",
    "num_cccs = 0\n",
    "num_ccvs = 0\n",
    "num_cpld_ind = 0 # number of coupled inductors"
   ]
  },
  {
   "cell_type": "markdown",
   "metadata": {},
   "source": [
    "## Open net list and preprocess it\n",
    "The following steps are performed:  \n",
    "1. file name extension is defaulted to .net  \n",
    "2. remove blank lines and comments  \n",
    "3. convert first letter of element name to upper case  \n",
    "4. removes extra spaces between entries  \n",
    "5. count number of entries on each line, make sure the count is correct, count each element type  "
   ]
  },
  {
   "cell_type": "code",
   "execution_count": 91,
   "metadata": {
    "collapsed": false,
    "jupyter": {
     "outputs_hidden": false
    }
   },
   "outputs": [],
   "source": [
    "#os.chdir('/home/jeff32/Documents/Solving Electrical Engineering Problems with Python Blog/MNA Test Circuits/test_13/') # change directory to net list location\n",
    "#os.chdir('/home/jeff32/Documents/Solving Electrical Engineering Problems with Python Blog/MNA Problem Circuits/Two amplifier RIAA Phone Preamp/') # change directory to net list location\n",
    "#os.chdir('/home/jeff32/Documents/Solving Electrical Engineering Problems with Python Blog/MNA Problem Circuits/Wien bridge oscillator/') # change directory to net list location\n",
    "#os.chdir('/home/jeff32/Documents/Solving Electrical Engineering Problems with Python Blog/MNA Problem Circuits/BiQuad Filters/') # change directory to net list location\n",
    "#os.chdir('/home/jeff32/Documents/Solving Electrical Engineering Problems with Python Blog/MNA Problem Circuits/State variable filter/') # change directory to net list location\n",
    "#os.chdir('/home/jeff32/Documents/Solving Electrical Engineering Problems with Python Blog/MNA Problem Circuits/LP OpAmp filters/') # change directory to net list location\n",
    "#os.chdir('/home/jeff32/Documents/Solving Electrical Engineering Problems with Python Blog/MNA Problem Circuits/SMNA_example/') # change directory to net list location\n",
    "#os.chdir('/home/jeff32/Documents/JupyterLab/Node Analysis/') # change directory to net list location\n",
    "#os.chdir('/home/jeff32/Documents/Solving Electrical Engineering Problems with Python Blog/MNA Problem Circuits/Elliptic function VCVS LPF/')\n",
    "#os.chdir('/home/jeff32/Documents/Solving Electrical Engineering Problems with Python Blog/MNA Problem Circuits/State variable filter/')\n",
    "#os.chdir('/home/jeff32/Documents/Solving Electrical Engineering Problems with Python Blog/MNA Problem Circuits/Chuas circuit/')\n",
    "os.chdir('/home/jeff32/Documents/Solving Electrical Engineering Problems with Python Blog/MNA Test Circuits/test_14/') \n",
    "\n",
    "fn = 'test_14a'\n",
    "#fn = 'Chua1-b' # net list\n",
    "#fn = 'state_variable_filter-1' # net list\n",
    "#fn = 'example-rc' # net list\n",
    "#fn = 'Two amplifier RIAA Phone Preamp w edits' # net list\n",
    "#fn = 'SMNA_example_net' # net list\n",
    "fd1 = open(fn+'.net','r')\n",
    "content = fd1.readlines()\n",
    "content = [x.strip() for x in content]  #remove leading and trailing white space\n",
    "# remove empty lines\n",
    "while '' in content:\n",
    "    content.pop(content.index(''))\n",
    "\n",
    "# remove comment lines, these start with a asterisk *\n",
    "content = [n for n in content if not n.startswith('*')]\n",
    "# remove other comment lines, these start with a semicolon ;\n",
    "content = [n for n in content if not n.startswith(';')]\n",
    "# remove spice directives, these start with a period, .\n",
    "content = [n for n in content if not n.startswith('.')]\n",
    "# converts 1st letter to upper case\n",
    "#content = [x.upper() for x in content] <- this converts all to upper case\n",
    "content = [x.capitalize() for x in content]\n",
    "# removes extra spaces between entries\n",
    "content = [' '.join(x.split()) for x in content]\n",
    "\n",
    "# change the working director back to the Jupyter folder\n",
    "os.chdir('/home/jeff32/Documents/JupyterLab/Node Analysis/')    "
   ]
  },
  {
   "cell_type": "code",
   "execution_count": 92,
   "metadata": {
    "tags": []
   },
   "outputs": [],
   "source": [
    "line_cnt = len(content) # number of lines in the netlist\n",
    "branch_cnt = 0  # number of branches in the netlist\n",
    "# check number of entries on each line, count each element type\n",
    "for i in range(line_cnt):\n",
    "    x = content[i][0]\n",
    "    tk_cnt = len(content[i].split()) # split the line into a list of words\n",
    "\n",
    "    if (x == 'R') or (x == 'L') or (x == 'C'):\n",
    "        if tk_cnt != 4:\n",
    "            print(\"branch {:d} not formatted correctly, {:s}\".format(i,content[i]))\n",
    "            print(\"had {:d} items and should only be 4\".format(tk_cnt))\n",
    "        num_rlc += 1\n",
    "        branch_cnt += 1\n",
    "        if x == 'L':\n",
    "            num_ind += 1\n",
    "    elif x == 'V':\n",
    "        if tk_cnt != 4:\n",
    "            print(\"branch {:d} not formatted correctly, {:s}\".format(i,content[i]))\n",
    "            print(\"had {:d} items and should only be 4\".format(tk_cnt))\n",
    "        num_v += 1\n",
    "        branch_cnt += 1\n",
    "    elif x == 'I':\n",
    "        if tk_cnt != 4:\n",
    "            print(\"branch {:d} not formatted correctly, {:s}\".format(i,content[i]))\n",
    "            print(\"had {:d} items and should only be 4\".format(tk_cnt))\n",
    "        num_i += 1\n",
    "        branch_cnt += 1\n",
    "    elif x == 'O':\n",
    "        if tk_cnt != 4:\n",
    "            print(\"branch {:d} not formatted correctly, {:s}\".format(i,content[i]))\n",
    "            print(\"had {:d} items and should only be 4\".format(tk_cnt))\n",
    "        num_opamps += 1\n",
    "    elif x == 'E':\n",
    "        if (tk_cnt != 6):\n",
    "            print(\"branch {:d} not formatted correctly, {:s}\".format(i,content[i]))\n",
    "            print(\"had {:d} items and should only be 6\".format(tk_cnt))\n",
    "        num_vcvs += 1\n",
    "        branch_cnt += 1\n",
    "    elif x == 'G':\n",
    "        if (tk_cnt != 6):\n",
    "            print(\"branch {:d} not formatted correctly, {:s}\".format(i,content[i]))\n",
    "            print(\"had {:d} items and should only be 6\".format(tk_cnt))\n",
    "        num_vccs += 1\n",
    "        branch_cnt += 1\n",
    "    elif x == 'F':\n",
    "        if (tk_cnt != 5):\n",
    "            print(\"branch {:d} not formatted correctly, {:s}\".format(i,content[i]))\n",
    "            print(\"had {:d} items and should only be 5\".format(tk_cnt))\n",
    "        num_cccs += 1\n",
    "        branch_cnt += 1\n",
    "    elif x == 'H':\n",
    "        if (tk_cnt != 5):\n",
    "            print(\"branch {:d} not formatted correctly, {:s}\".format(i,content[i]))\n",
    "            print(\"had {:d} items and should only be 5\".format(tk_cnt))\n",
    "        num_ccvs += 1\n",
    "        branch_cnt += 1\n",
    "    elif x == 'K':\n",
    "        if (tk_cnt != 4):\n",
    "            print(\"branch {:d} not formatted correctly, {:s}\".format(i,content[i]))\n",
    "            print(\"had {:d} items and should only be 4\".format(tk_cnt))\n",
    "        num_cpld_ind += 1\n",
    "    else:\n",
    "        print(\"unknown element type in branch {:d}, {:s}\".format(i,content[i]))"
   ]
  },
  {
   "cell_type": "markdown",
   "metadata": {},
   "source": [
    "## Parser\n",
    "The parser performs the following operations.\n",
    "1. puts branch elements into data frame  \n",
    "2. counts number of nodes  \n",
    "\n",
    "data frame labels:\n",
    "- element: type of element  \n",
    "- p node: positive node  \n",
    "- n node: negative node, for a current source, the arrow point terminal, LTspice puts the inductor phasing dot on this terminal  \n",
    "- cp node: controlling positive node of branch  \n",
    "- cn node: controlling negative node of branch  \n",
    "- Vout: opamp output node  \n",
    "- value: value of element or voltage  \n",
    "- Vname: voltage source through which the controlling current flows. Need to add a zero volt voltage source to the controlling branch.  \n",
    "- Lname1: name of coupled inductor 1  \n",
    "- Lname2: name of coupled inductor 2  "
   ]
  },
  {
   "cell_type": "code",
   "execution_count": 93,
   "metadata": {
    "collapsed": false,
    "jupyter": {
     "outputs_hidden": false
    }
   },
   "outputs": [],
   "source": [
    "# build the pandas data frame\n",
    "df = pd.DataFrame(columns=['element','p node','n node','cp node','cn node',\n",
    "    'Vout','value','Vname','Lname1','Lname2'])\n",
    "\n",
    "# this data frame is for branches with unknown currents\n",
    "df2 = pd.DataFrame(columns=['element','p node','n node'])"
   ]
  },
  {
   "cell_type": "markdown",
   "metadata": {},
   "source": [
    "### Functions to load branch elements into data frame and check for gaps in node numbering"
   ]
  },
  {
   "cell_type": "code",
   "execution_count": 94,
   "metadata": {
    "collapsed": false,
    "jupyter": {
     "outputs_hidden": false
    }
   },
   "outputs": [],
   "source": [
    "# loads voltage or current sources into branch structure\n",
    "def indep_source(line_nu):\n",
    "    tk = content[line_nu].split()\n",
    "    df.loc[line_nu,'element'] = tk[0]\n",
    "    df.loc[line_nu,'p node'] = int(tk[1])\n",
    "    df.loc[line_nu,'n node'] = int(tk[2])\n",
    "    df.loc[line_nu,'value'] = float(tk[3])\n",
    "\n",
    "# loads passive elements into branch structure\n",
    "def rlc_element(line_nu):\n",
    "    tk = content[line_nu].split()\n",
    "    df.loc[line_nu,'element'] = tk[0]\n",
    "    df.loc[line_nu,'p node'] = int(tk[1])\n",
    "    df.loc[line_nu,'n node'] = int(tk[2])\n",
    "    df.loc[line_nu,'value'] = float(tk[3])\n",
    "\n",
    "# loads multi-terminal elements into branch structure\n",
    "# O - Op Amps\n",
    "def opamp_sub_network(line_nu):\n",
    "    tk = content[line_nu].split()\n",
    "    df.loc[line_nu,'element'] = tk[0]\n",
    "    df.loc[line_nu,'p node'] = int(tk[1])\n",
    "    df.loc[line_nu,'n node'] = int(tk[2])\n",
    "    df.loc[line_nu,'Vout'] = int(tk[3])\n",
    "\n",
    "# G - VCCS\n",
    "def vccs_sub_network(line_nu):\n",
    "    tk = content[line_nu].split()\n",
    "    df.loc[line_nu,'element'] = tk[0]\n",
    "    df.loc[line_nu,'p node'] = int(tk[1])\n",
    "    df.loc[line_nu,'n node'] = int(tk[2])\n",
    "    df.loc[line_nu,'cp node'] = int(tk[3])\n",
    "    df.loc[line_nu,'cn node'] = int(tk[4])\n",
    "    df.loc[line_nu,'value'] = float(tk[5])\n",
    "\n",
    "# E - VCVS\n",
    "# in sympy E is the number 2.718, replacing E with Ea otherwise, sympify() errors out\n",
    "def vcvs_sub_network(line_nu):\n",
    "    tk = content[line_nu].split()\n",
    "    df.loc[line_nu,'element'] = tk[0].replace('E', 'Ea')\n",
    "    df.loc[line_nu,'p node'] = int(tk[1])\n",
    "    df.loc[line_nu,'n node'] = int(tk[2])\n",
    "    df.loc[line_nu,'cp node'] = int(tk[3])\n",
    "    df.loc[line_nu,'cn node'] = int(tk[4])\n",
    "    df.loc[line_nu,'value'] = float(tk[5])\n",
    "\n",
    "# F - CCCS\n",
    "def cccs_sub_network(line_nu):\n",
    "    tk = content[line_nu].split()\n",
    "    df.loc[line_nu,'element'] = tk[0]\n",
    "    df.loc[line_nu,'p node'] = int(tk[1])\n",
    "    df.loc[line_nu,'n node'] = int(tk[2])\n",
    "    df.loc[line_nu,'Vname'] = tk[3].capitalize()\n",
    "    df.loc[line_nu,'value'] = float(tk[4])\n",
    "\n",
    "# H - CCVS\n",
    "def ccvs_sub_network(line_nu):\n",
    "    tk = content[line_nu].split()\n",
    "    df.loc[line_nu,'element'] = tk[0]\n",
    "    df.loc[line_nu,'p node'] = int(tk[1])\n",
    "    df.loc[line_nu,'n node'] = int(tk[2])\n",
    "    df.loc[line_nu,'Vname'] = tk[3].capitalize()\n",
    "    df.loc[line_nu,'value'] = float(tk[4])\n",
    "\n",
    "# K - Coupled inductors\n",
    "def cpld_ind_sub_network(line_nu):\n",
    "    tk = content[line_nu].split()\n",
    "    df.loc[line_nu,'element'] = tk[0]\n",
    "    df.loc[line_nu,'Lname1'] = tk[1].capitalize()\n",
    "    df.loc[line_nu,'Lname2'] = tk[2].capitalize()\n",
    "    df.loc[line_nu,'value'] = float(tk[3])\n",
    "\n",
    "# function to scan df and get largest node number\n",
    "def count_nodes():\n",
    "    # need to check that nodes are consecutive\n",
    "    # fill array with node numbers\n",
    "    p = np.zeros(line_cnt+1)\n",
    "    for i in range(line_cnt):\n",
    "        # need to skip coupled inductor 'K' statements\n",
    "        if df.loc[i,'element'][0] != 'K': #get 1st letter of element name\n",
    "            p[df['p node'][i]] = df['p node'][i]\n",
    "            p[df['n node'][i]] = df['n node'][i]\n",
    "\n",
    "    # find the largest node number\n",
    "    if df['n node'].max() > df['p node'].max():\n",
    "        largest = df['n node'].max()\n",
    "    else:\n",
    "        largest =  df['p node'].max()\n",
    "\n",
    "    largest = int(largest)\n",
    "    # check for unfilled elements, skip node 0\n",
    "    for i in range(1,largest):\n",
    "        if p[i] == 0:\n",
    "            print('nodes not in continuous order, node {:.0f} is missing'.format(p[i-1]+1))\n",
    "\n",
    "    return largest"
   ]
  },
  {
   "cell_type": "markdown",
   "metadata": {},
   "source": [
    "### Load circuit netlist into the data frames"
   ]
  },
  {
   "cell_type": "code",
   "execution_count": 95,
   "metadata": {
    "collapsed": false,
    "jupyter": {
     "outputs_hidden": false
    }
   },
   "outputs": [],
   "source": [
    "# load branch info into data frame\n",
    "for i in range(line_cnt):\n",
    "    x = content[i][0]\n",
    "\n",
    "    if (x == 'R') or (x == 'L') or (x == 'C'):\n",
    "        rlc_element(i)\n",
    "    elif (x == 'V') or (x == 'I'):\n",
    "        indep_source(i)\n",
    "    elif x == 'O':\n",
    "        opamp_sub_network(i)\n",
    "    elif x == 'E':\n",
    "        vcvs_sub_network(i)\n",
    "    elif x == 'G':\n",
    "        vccs_sub_network(i)\n",
    "    elif x == 'F':\n",
    "        cccs_sub_network(i)\n",
    "    elif x == 'H':\n",
    "        ccvs_sub_network(i)\n",
    "    elif x == 'K':\n",
    "        cpld_ind_sub_network(i)\n",
    "    else:\n",
    "        print(\"unknown element type in branch {:d}, {:s}\".format(i,content[i]))"
   ]
  },
  {
   "cell_type": "markdown",
   "metadata": {},
   "source": [
    "29 Nov 2023:  When the D matrix is built, independent voltage sources are processed in the data frame order when building the D matrix. If the voltage source followed element L, H, F, K types in the netlist, a row was inserted that put the voltage source in a different row in relation to its position in the Ev matrix. This would cause the node attached to the terminal of the voltage source to be zero volts.  \n",
    "Solution - The following block of code was added to move voltage source types to the beginning of the net list dataframe before any calculations are performed. "
   ]
  },
  {
   "cell_type": "code",
   "execution_count": 96,
   "metadata": {},
   "outputs": [],
   "source": [
    "# Check for position of voltages sources in the dataframe.\n",
    "source_index = [] # keep track of voltage source row number\n",
    "other_index = [] # make a list of all other types\n",
    "for i in range(len(df)):\n",
    "    # process all the elements creating unknown currents\n",
    "    x = df.loc[i,'element'][0]   #get 1st letter of element name\n",
    "    if (x == 'V'):\n",
    "        source_index.append(i)\n",
    "    else:\n",
    "        other_index.append(i)\n",
    "\n",
    "df = df.reindex(source_index+other_index,copy=True) # re-order the data frame\n",
    "df.reset_index(drop=True, inplace=True) # renumber the index"
   ]
  },
  {
   "cell_type": "code",
   "execution_count": 97,
   "metadata": {
    "collapsed": false,
    "jupyter": {
     "outputs_hidden": false
    }
   },
   "outputs": [],
   "source": [
    "# count number of nodes\n",
    "num_nodes = count_nodes()\n",
    "\n",
    "# Build df2: consists of branches with current unknowns, used for C & D matrices\n",
    "# walk through data frame and find these parameters\n",
    "count = 0\n",
    "for i in range(len(df)):\n",
    "    # process all the elements creating unknown currents\n",
    "    x = df.loc[i,'element'][0]   #get 1st letter of element name\n",
    "    if (x == 'L') or (x == 'V') or (x == 'O') or (x == 'E') or (x == 'H') or (x == 'F'):\n",
    "        df2.loc[count,'element'] = df.loc[i,'element']\n",
    "        df2.loc[count,'p node'] = df.loc[i,'p node']\n",
    "        df2.loc[count,'n node'] = df.loc[i,'n node']\n",
    "        count += 1"
   ]
  },
  {
   "cell_type": "markdown",
   "metadata": {},
   "source": [
    "## Print net list report"
   ]
  },
  {
   "cell_type": "code",
   "execution_count": 98,
   "metadata": {
    "collapsed": false,
    "jupyter": {
     "outputs_hidden": false
    }
   },
   "outputs": [
    {
     "name": "stdout",
     "output_type": "stream",
     "text": [
      "Net list report\n",
      "number of lines in netlist: 4\n",
      "number of branches: 4\n",
      "number of nodes: 2\n",
      "number of unknown currents: 1\n",
      "number of RLC (passive components): 8\n",
      "number of inductors: 1\n",
      "number of independent voltage sources: 0\n",
      "number of independent current sources: 2\n",
      "number of op amps: 0\n",
      "number of E - VCVS: 0\n",
      "number of G - VCCS: 0\n",
      "number of F - CCCS: 0\n",
      "number of H - CCVS: 0\n",
      "number of K - Coupled inductors: 0\n"
     ]
    }
   ],
   "source": [
    "# print a report\n",
    "print('Net list report')\n",
    "print('number of lines in netlist: {:d}'.format(line_cnt))\n",
    "print('number of branches: {:d}'.format(branch_cnt))\n",
    "print('number of nodes: {:d}'.format(num_nodes))\n",
    "# count the number of element types that affect the size of the B, C, D, E and J arrays\n",
    "# these are current unknows\n",
    "i_unk = num_v+num_opamps+num_vcvs+num_ccvs+num_cccs+num_ind\n",
    "print('number of unknown currents: {:d}'.format(i_unk))\n",
    "print('number of RLC (passive components): {:d}'.format(num_rlc))\n",
    "print('number of inductors: {:d}'.format(num_ind))\n",
    "print('number of independent voltage sources: {:d}'.format(num_v))\n",
    "print('number of independent current sources: {:d}'.format(num_i))\n",
    "print('number of op amps: {:d}'.format(num_opamps))\n",
    "print('number of E - VCVS: {:d}'.format(num_vcvs))\n",
    "print('number of G - VCCS: {:d}'.format(num_vccs))\n",
    "print('number of F - CCCS: {:d}'.format(num_cccs))\n",
    "print('number of H - CCVS: {:d}'.format(num_ccvs))\n",
    "print('number of K - Coupled inductors: {:d}'.format(num_cpld_ind))"
   ]
  },
  {
   "cell_type": "code",
   "execution_count": 99,
   "metadata": {
    "collapsed": false,
    "jupyter": {
     "outputs_hidden": false
    }
   },
   "outputs": [
    {
     "data": {
      "text/html": [
       "<div>\n",
       "<style scoped>\n",
       "    .dataframe tbody tr th:only-of-type {\n",
       "        vertical-align: middle;\n",
       "    }\n",
       "\n",
       "    .dataframe tbody tr th {\n",
       "        vertical-align: top;\n",
       "    }\n",
       "\n",
       "    .dataframe thead th {\n",
       "        text-align: right;\n",
       "    }\n",
       "</style>\n",
       "<table border=\"1\" class=\"dataframe\">\n",
       "  <thead>\n",
       "    <tr style=\"text-align: right;\">\n",
       "      <th></th>\n",
       "      <th>element</th>\n",
       "      <th>p node</th>\n",
       "      <th>n node</th>\n",
       "      <th>cp node</th>\n",
       "      <th>cn node</th>\n",
       "      <th>Vout</th>\n",
       "      <th>value</th>\n",
       "      <th>Vname</th>\n",
       "      <th>Lname1</th>\n",
       "      <th>Lname2</th>\n",
       "    </tr>\n",
       "  </thead>\n",
       "  <tbody>\n",
       "    <tr>\n",
       "      <th>0</th>\n",
       "      <td>I1</td>\n",
       "      <td>1</td>\n",
       "      <td>0</td>\n",
       "      <td>NaN</td>\n",
       "      <td>NaN</td>\n",
       "      <td>NaN</td>\n",
       "      <td>1.0</td>\n",
       "      <td>NaN</td>\n",
       "      <td>NaN</td>\n",
       "      <td>NaN</td>\n",
       "    </tr>\n",
       "    <tr>\n",
       "      <th>1</th>\n",
       "      <td>R1</td>\n",
       "      <td>1</td>\n",
       "      <td>0</td>\n",
       "      <td>NaN</td>\n",
       "      <td>NaN</td>\n",
       "      <td>NaN</td>\n",
       "      <td>0.05</td>\n",
       "      <td>NaN</td>\n",
       "      <td>NaN</td>\n",
       "      <td>NaN</td>\n",
       "    </tr>\n",
       "    <tr>\n",
       "      <th>2</th>\n",
       "      <td>L1</td>\n",
       "      <td>1</td>\n",
       "      <td>2</td>\n",
       "      <td>NaN</td>\n",
       "      <td>NaN</td>\n",
       "      <td>NaN</td>\n",
       "      <td>0.025</td>\n",
       "      <td>NaN</td>\n",
       "      <td>NaN</td>\n",
       "      <td>NaN</td>\n",
       "    </tr>\n",
       "    <tr>\n",
       "      <th>3</th>\n",
       "      <td>C1</td>\n",
       "      <td>2</td>\n",
       "      <td>0</td>\n",
       "      <td>NaN</td>\n",
       "      <td>NaN</td>\n",
       "      <td>NaN</td>\n",
       "      <td>0.25</td>\n",
       "      <td>NaN</td>\n",
       "      <td>NaN</td>\n",
       "      <td>NaN</td>\n",
       "    </tr>\n",
       "  </tbody>\n",
       "</table>\n",
       "</div>"
      ],
      "text/plain": [
       "  element p node n node cp node cn node Vout  value Vname Lname1 Lname2\n",
       "0      I1      1      0     NaN     NaN  NaN    1.0   NaN    NaN    NaN\n",
       "1      R1      1      0     NaN     NaN  NaN   0.05   NaN    NaN    NaN\n",
       "2      L1      1      2     NaN     NaN  NaN  0.025   NaN    NaN    NaN\n",
       "3      C1      2      0     NaN     NaN  NaN   0.25   NaN    NaN    NaN"
      ]
     },
     "execution_count": 99,
     "metadata": {},
     "output_type": "execute_result"
    }
   ],
   "source": [
    "df"
   ]
  },
  {
   "cell_type": "code",
   "execution_count": 100,
   "metadata": {
    "collapsed": false,
    "jupyter": {
     "outputs_hidden": false
    }
   },
   "outputs": [
    {
     "data": {
      "text/html": [
       "<div>\n",
       "<style scoped>\n",
       "    .dataframe tbody tr th:only-of-type {\n",
       "        vertical-align: middle;\n",
       "    }\n",
       "\n",
       "    .dataframe tbody tr th {\n",
       "        vertical-align: top;\n",
       "    }\n",
       "\n",
       "    .dataframe thead th {\n",
       "        text-align: right;\n",
       "    }\n",
       "</style>\n",
       "<table border=\"1\" class=\"dataframe\">\n",
       "  <thead>\n",
       "    <tr style=\"text-align: right;\">\n",
       "      <th></th>\n",
       "      <th>element</th>\n",
       "      <th>p node</th>\n",
       "      <th>n node</th>\n",
       "    </tr>\n",
       "  </thead>\n",
       "  <tbody>\n",
       "    <tr>\n",
       "      <th>0</th>\n",
       "      <td>L1</td>\n",
       "      <td>1</td>\n",
       "      <td>2</td>\n",
       "    </tr>\n",
       "  </tbody>\n",
       "</table>\n",
       "</div>"
      ],
      "text/plain": [
       "  element p node n node\n",
       "0      L1      1      2"
      ]
     },
     "execution_count": 100,
     "metadata": {},
     "output_type": "execute_result"
    }
   ],
   "source": [
    "df2"
   ]
  },
  {
   "cell_type": "code",
   "execution_count": 101,
   "metadata": {
    "collapsed": false,
    "jupyter": {
     "outputs_hidden": false
    }
   },
   "outputs": [],
   "source": [
    "# store the data frame as a pickle file\n",
    "# df.to_pickle(fn+'.pkl')  # <- uncomment if needed"
   ]
  },
  {
   "cell_type": "code",
   "execution_count": 102,
   "metadata": {
    "collapsed": false,
    "jupyter": {
     "outputs_hidden": false
    }
   },
   "outputs": [],
   "source": [
    "# initialize some symbolic matrix with zeros\n",
    "# A is formed by [[G, C] [B, D]]\n",
    "# Z = [I,E]\n",
    "# X = [V, J]\n",
    "V = zeros(num_nodes,1)\n",
    "I = zeros(num_nodes,1)\n",
    "G = zeros(num_nodes,num_nodes)  # also called Yr, the reduced nodal matrix\n",
    "s = Symbol('s')  # the Laplace variable\n",
    "\n",
    "# count the number of element types that affect the size of the B, C, D, E and J arrays\n",
    "# these are element types that have unknown currents\n",
    "i_unk = num_v+num_opamps+num_vcvs+num_ccvs+num_ind+num_cccs\n",
    "# if i_unk == 0, just generate empty arrays\n",
    "B = zeros(num_nodes,i_unk)\n",
    "C = zeros(i_unk,num_nodes)\n",
    "D = zeros(i_unk,i_unk)\n",
    "Ev = zeros(i_unk,1)\n",
    "J = zeros(i_unk,1)"
   ]
  },
  {
   "cell_type": "markdown",
   "metadata": {},
   "source": [
    "## G matrix\n",
    "The G matrix is n by n, where n is the number of nodes. The matrix is formed by the interconnections between the resistors, capacitors and VCCS type elements.  In the original paper G is called Yr, where Yr is a reduced form of the nodal matrix excluding the contributions due to voltage sources, current controlling elements, etc.  In python row and columns are: G[row, column]\n"
   ]
  },
  {
   "cell_type": "code",
   "execution_count": 103,
   "metadata": {
    "collapsed": false,
    "jupyter": {
     "outputs_hidden": false
    }
   },
   "outputs": [
    {
     "data": {
      "text/latex": [
       "$\\displaystyle \\left[\\begin{matrix}\\frac{1}{R_{1}} & 0\\\\0 & C_{1} s\\end{matrix}\\right]$"
      ],
      "text/plain": [
       "⎡1       ⎤\n",
       "⎢──   0  ⎥\n",
       "⎢R₁      ⎥\n",
       "⎢        ⎥\n",
       "⎣0   C₁⋅s⎦"
      ]
     },
     "execution_count": 103,
     "metadata": {},
     "output_type": "execute_result"
    }
   ],
   "source": [
    "# G matrix\n",
    "for i in range(len(df)):  # process each row in the data frame\n",
    "    n1 = df.loc[i,'p node']\n",
    "    n2 = df.loc[i,'n node']\n",
    "    cn1 = df.loc[i,'cp node']\n",
    "    cn2 = df.loc[i,'cn node']\n",
    "    # process all the passive elements, save conductance to temp value\n",
    "    x = df.loc[i,'element'][0]   #get 1st letter of element name\n",
    "    if x == 'R':\n",
    "        g = 1/sympify(df.loc[i,'element'])\n",
    "    if x == 'C':\n",
    "        g = s*sympify(df.loc[i,'element'])\n",
    "    if x == 'G':   #vccs type element\n",
    "        g = sympify(df.loc[i,'element'].lower())  # use a symbol for gain value\n",
    "\n",
    "    if (x == 'R') or (x == 'C'):\n",
    "        # If neither side of the element is connected to ground\n",
    "        # then subtract it from the appropriate location in the matrix.\n",
    "        if (n1 != 0) and (n2 != 0):\n",
    "            G[n1-1,n2-1] += -g\n",
    "            G[n2-1,n1-1] += -g\n",
    "\n",
    "        # If node 1 is connected to ground, add element to diagonal of matrix\n",
    "        if n1 != 0:\n",
    "            G[n1-1,n1-1] += g\n",
    "\n",
    "        # same for for node 2\n",
    "        if n2 != 0:\n",
    "            G[n2-1,n2-1] += g\n",
    "\n",
    "    if x == 'G':    #vccs type element\n",
    "        # check to see if any terminal is grounded\n",
    "        # then stamp the matrix\n",
    "        if n1 != 0 and cn1 != 0:\n",
    "            G[n1-1,cn1-1] += g\n",
    "\n",
    "        if n2 != 0 and cn2 != 0:\n",
    "            G[n2-1,cn2-1] += g\n",
    "\n",
    "        if n1 != 0 and cn2 != 0:\n",
    "            G[n1-1,cn2-1] -= g\n",
    "\n",
    "        if n2 != 0 and cn1 != 0:\n",
    "            G[n2-1,cn1-1] -= g\n",
    "\n",
    "G  # display the G matrix"
   ]
  },
  {
   "cell_type": "markdown",
   "metadata": {},
   "source": [
    "## B Matrix\n",
    "The B matrix is an n by m matrix with only 0, 1 and -1 elements, where n = number of nodes and m is the number of current unknowns, i_unk. There is one column for each unknown current. The code loop through all the branches and process elements that have stamps for the B matrix:  \n",
    "- Voltage sources (V)  \n",
    "- Opamps (O)  \n",
    "- CCVS (H)  \n",
    "- CCCS (F)  \n",
    "- VCVS (E)  \n",
    "- Inductors (L)    \n",
    "\n",
    "The order of the columns is as they appear in the netlist.  CCCS (F) does not get its own column because the controlling current is through a zero volt voltage source, called Vname and is already in the net list."
   ]
  },
  {
   "cell_type": "code",
   "execution_count": 104,
   "metadata": {
    "collapsed": false,
    "jupyter": {
     "outputs_hidden": false
    }
   },
   "outputs": [
    {
     "data": {
      "text/latex": [
       "$\\displaystyle \\left[\\begin{matrix}1\\\\-1\\end{matrix}\\right]$"
      ],
      "text/plain": [
       "⎡1 ⎤\n",
       "⎢  ⎥\n",
       "⎣-1⎦"
      ]
     },
     "execution_count": 104,
     "metadata": {},
     "output_type": "execute_result"
    }
   ],
   "source": [
    "# generate the B Matrix\n",
    "sn = 0   # count source number as code walks through the data frame\n",
    "for i in range(len(df)):\n",
    "    n1 = df.loc[i,'p node']\n",
    "    n2 = df.loc[i,'n node']\n",
    "    n_vout = df.loc[i,'Vout'] # node connected to op amp output\n",
    "\n",
    "    # process elements with input to B matrix\n",
    "    x = df.loc[i,'element'][0]   #get 1st letter of element name\n",
    "    if x == 'V':\n",
    "        if i_unk > 1:  #is B greater than 1 by n?, V\n",
    "            if n1 != 0:\n",
    "                B[n1-1,sn] = 1\n",
    "            if n2 != 0:\n",
    "                B[n2-1,sn] = -1\n",
    "        else:\n",
    "            if n1 != 0:\n",
    "                B[n1-1] = 1\n",
    "            if n2 != 0:\n",
    "                B[n2-1] = -1\n",
    "        sn += 1   #increment source count\n",
    "    if x == 'O':  # op amp type, output connection of the opamp goes in the B matrix\n",
    "        B[n_vout-1,sn] = 1\n",
    "        sn += 1   # increment source count\n",
    "    if (x == 'H') or (x == 'F'):  # H: ccvs, F: cccs,\n",
    "        if i_unk > 1:  #is B greater than 1 by n?, H, F\n",
    "            # check to see if any terminal is grounded\n",
    "            # then stamp the matrix\n",
    "            if n1 != 0:\n",
    "                B[n1-1,sn] = 1\n",
    "            if n2 != 0:\n",
    "                B[n2-1,sn] = -1\n",
    "        else:\n",
    "            if n1 != 0:\n",
    "                B[n1-1] = 1\n",
    "            if n2 != 0:\n",
    "                B[n2-1] = -1\n",
    "        sn += 1   #increment source count\n",
    "    if x == 'E':   # vcvs type, only ik column is altered at n1 and n2\n",
    "        if i_unk > 1:  #is B greater than 1 by n?, E\n",
    "            if n1 != 0:\n",
    "                B[n1-1,sn] = 1\n",
    "            if n2 != 0:\n",
    "                B[n2-1,sn] = -1\n",
    "        else:\n",
    "            if n1 != 0:\n",
    "                B[n1-1] = 1\n",
    "            if n2 != 0:\n",
    "                B[n2-1] = -1\n",
    "        sn += 1   #increment source count\n",
    "    if x == 'L':\n",
    "        if i_unk > 1:  #is B greater than 1 by n?, L\n",
    "            if n1 != 0:\n",
    "                B[n1-1,sn] = 1\n",
    "            if n2 != 0:\n",
    "                B[n2-1,sn] = -1\n",
    "        else:\n",
    "            if n1 != 0:\n",
    "                B[n1-1] = 1\n",
    "            if n2 != 0:\n",
    "                B[n2-1] = -1\n",
    "        sn += 1   #increment source count\n",
    "\n",
    "# check source count\n",
    "if sn != i_unk:\n",
    "    print('source number, sn={:d} not equal to i_unk={:d} in matrix B'.format(sn,i_unk))\n",
    "\n",
    "B   # display the B matrix"
   ]
  },
  {
   "cell_type": "markdown",
   "metadata": {},
   "source": [
    "## C matrix\n",
    "The C matrix is an m by n matrix with only 0, 1 and -1 elements (except for controlled sources).  The code is similar to the B matrix code, except the indices are swapped.   The code loops through all the branches and process elements that have stamps for the C matrix:  \n",
    "- Voltage sources (V)  \n",
    "- Opamps (O)  \n",
    "- CCVS (H)  \n",
    "- CCCS (F)  \n",
    "- VCVS (E)  \n",
    "- Inductors (L)  \n",
    "\n",
    "### Op Amp elements\n",
    "The op amp element is assumed to be an ideal op amp and use of this component is valid only when used in circuits with a DC path (a short or a resistor) from the output terminal to the negative input terminal of the op amp. No error checking is provided and if the condition is violated, the results likely will be erroneous.   \n",
    "\n",
    "References use in the debugging of the opamp stamp:   \n",
    "1. Design of Analog Circuits Through Symbolic Analysis, edited by Mourad Fakhfakh, Esteban Tlelo-Cuautle, Francisco V. Fernández   \n",
    "2. Computer Aided Design and Design Automation, edited by Wai-Kai Chen  \n"
   ]
  },
  {
   "cell_type": "code",
   "execution_count": 105,
   "metadata": {
    "collapsed": false,
    "jupyter": {
     "outputs_hidden": false
    }
   },
   "outputs": [],
   "source": [
    "# find the the column position in the C and D matrix for controlled sources\n",
    "# needs to return the node numbers and branch number of controlling branch\n",
    "def find_vname(name):\n",
    "    # need to walk through data frame and find these parameters\n",
    "    for i in range(len(df2)):\n",
    "        # process all the elements creating unknown currents\n",
    "        if name == df2.loc[i,'element']:\n",
    "            n1 = df2.loc[i,'p node']\n",
    "            n2 = df2.loc[i,'n node']\n",
    "            return n1, n2, i  # n1, n2 & col_num are from the branch of the controlling element\n",
    "\n",
    "    print('failed to find matching branch element in find_vname')"
   ]
  },
  {
   "cell_type": "code",
   "execution_count": 106,
   "metadata": {
    "collapsed": false,
    "jupyter": {
     "outputs_hidden": false
    }
   },
   "outputs": [
    {
     "data": {
      "text/latex": [
       "$\\displaystyle \\left[\\begin{matrix}1 & -1\\end{matrix}\\right]$"
      ],
      "text/plain": [
       "[1  -1]"
      ]
     },
     "execution_count": 106,
     "metadata": {},
     "output_type": "execute_result"
    }
   ],
   "source": [
    "# generate the C Matrix\n",
    "sn = 0   # count source number as code walks through the data frame\n",
    "for i in range(len(df)):\n",
    "    n1 = df.loc[i,'p node']\n",
    "    n2 = df.loc[i,'n node']\n",
    "    cn1 = df.loc[i,'cp node'] # nodes for controlled sources\n",
    "    cn2 = df.loc[i,'cn node']\n",
    "    n_vout = df.loc[i,'Vout'] # node connected to op amp output\n",
    "\n",
    "    # process elements with input to B matrix\n",
    "    x = df.loc[i,'element'][0]   #get 1st letter of element name\n",
    "    if x == 'V':\n",
    "        if i_unk > 1:  #is B greater than 1 by n?, V\n",
    "            if n1 != 0:\n",
    "                C[sn,n1-1] = 1\n",
    "            if n2 != 0:\n",
    "                C[sn,n2-1] = -1\n",
    "        else:\n",
    "            if n1 != 0:\n",
    "                C[n1-1] = 1\n",
    "            if n2 != 0:\n",
    "                C[n2-1] = -1\n",
    "        sn += 1   #increment source count\n",
    "\n",
    "    if x == 'O':  # op amp type, input connections of the opamp go into the C matrix\n",
    "        # C[sn,n_vout-1] = 1\n",
    "        if i_unk > 1:  #is B greater than 1 by n?, O\n",
    "            # check to see if any terminal is grounded\n",
    "            # then stamp the matrix\n",
    "            if n1 != 0:\n",
    "                C[sn,n1-1] = 1\n",
    "            if n2 != 0:\n",
    "                C[sn,n2-1] = -1\n",
    "        else:\n",
    "            if n1 != 0:\n",
    "                C[n1-1] = 1\n",
    "            if n2 != 0:\n",
    "                C[n2-1] = -1\n",
    "        sn += 1   # increment source count\n",
    "\n",
    "    if x == 'F':  # need to count F (cccs) types\n",
    "        sn += 1   #increment source count\n",
    "    if x == 'H':  # H: ccvs\n",
    "        if i_unk > 1:  #is B greater than 1 by n?, H\n",
    "            # check to see if any terminal is grounded\n",
    "            # then stamp the matrix\n",
    "            if n1 != 0:\n",
    "                C[sn,n1-1] = 1\n",
    "            if n2 != 0:\n",
    "                C[sn,n2-1] = -1\n",
    "        else:\n",
    "            if n1 != 0:\n",
    "                C[n1-1] = 1\n",
    "            if n2 != 0:\n",
    "                C[n2-1] = -1\n",
    "        sn += 1   #increment source count\n",
    "    if x == 'E':   # vcvs type, ik column is altered at n1 and n2, cn1 & cn2 get value\n",
    "        if i_unk > 1:  #is B greater than 1 by n?, E\n",
    "            if n1 != 0:\n",
    "                C[sn,n1-1] = 1\n",
    "            if n2 != 0:\n",
    "                C[sn,n2-1] = -1\n",
    "            # add entry for cp and cn of the controlling voltage\n",
    "            if cn1 != 0:\n",
    "                C[sn,cn1-1] = -sympify(df.loc[i,'element'].lower())\n",
    "            if cn2 != 0:\n",
    "                C[sn,cn2-1] = sympify(df.loc[i,'element'].lower())\n",
    "        else:\n",
    "            if n1 != 0:\n",
    "                C[n1-1] = 1\n",
    "            if n2 != 0:\n",
    "                C[n2-1] = -1\n",
    "            vn1, vn2, df2_index = find_vname(df.loc[i,'Vname'])\n",
    "            if vn1 != 0:\n",
    "                C[vn1-1] = -sympify(df.loc[i,'element'].lower())\n",
    "            if vn2 != 0:\n",
    "                C[vn2-1] = sympify(df.loc[i,'element'].lower())\n",
    "        sn += 1   #increment source count\n",
    "\n",
    "    if x == 'L':\n",
    "        if i_unk > 1:  #is B greater than 1 by n?, L\n",
    "            if n1 != 0:\n",
    "                C[sn,n1-1] = 1\n",
    "            if n2 != 0:\n",
    "                C[sn,n2-1] = -1\n",
    "        else:\n",
    "            if n1 != 0:\n",
    "                C[n1-1] = 1\n",
    "            if n2 != 0:\n",
    "                C[n2-1] = -1\n",
    "        sn += 1   #increment source count\n",
    "\n",
    "# check source count\n",
    "if sn != i_unk:\n",
    "    print('source number, sn={:d} not equal to i_unk={:d} in matrix C'.format(sn,i_unk))\n",
    "\n",
    "C   # display the C matrix"
   ]
  },
  {
   "cell_type": "markdown",
   "metadata": {},
   "source": [
    "## D matrix\n",
    "The D matrix is an m by m matrix, where m is the number of unknown currents.  \n",
    "> m = i_unk = num_v+num_opamps+num_vcvs+num_ccvs+num_ind+num_cccs\n",
    "\n",
    "Stamps that affect the D matrix are: inductor, ccvs and cccs  \n",
    "inductors: minus sign added to keep current flow convention consistent  \n",
    "\n",
    "Coupled inductors notes:  \n",
    "Can the K statement be anywhere in the net list, even before Lx and Ly?   \n",
    "12/6/2017 doing some debugging on with coupled inductors  \n",
    "LTspice seems to put the phasing dot on the neg node when it generates the netlist   \n",
    "This code uses M for mutual inductance, LTspice uses k for the coupling coefficient.  "
   ]
  },
  {
   "cell_type": "code",
   "execution_count": 107,
   "metadata": {
    "collapsed": false,
    "jupyter": {
     "outputs_hidden": false
    }
   },
   "outputs": [
    {
     "data": {
      "text/latex": [
       "$\\displaystyle \\left[\\begin{matrix}- L_{1} s\\end{matrix}\\right]$"
      ],
      "text/plain": [
       "[-L₁⋅s]"
      ]
     },
     "execution_count": 107,
     "metadata": {},
     "output_type": "execute_result"
    }
   ],
   "source": [
    "# generate the D Matrix\n",
    "sn = 0   # count source number as code walks through the data frame\n",
    "for i in range(len(df)):\n",
    "    n1 = df.loc[i,'p node']\n",
    "    n2 = df.loc[i,'n node']\n",
    "    #cn1 = df.loc[i,'cp node'] # nodes for controlled sources\n",
    "    #cn2 = df.loc[i,'cn node']\n",
    "    #n_vout = df.loc[i,'Vout'] # node connected to op amp output\n",
    "\n",
    "    # process elements with input to D matrix\n",
    "    x = df.loc[i,'element'][0]   #get 1st letter of element name\n",
    "    if (x == 'V') or (x == 'O') or (x == 'E'):  # need to count V, E & O types\n",
    "        sn += 1   #increment source count\n",
    "\n",
    "    if x == 'L':\n",
    "        if i_unk > 1:  #is D greater than 1 by 1?\n",
    "            D[sn,sn] += -s*sympify(df.loc[i,'element'])\n",
    "        else:\n",
    "            D[sn] += -s*sympify(df.loc[i,'element'])\n",
    "        sn += 1   #increment source count\n",
    "\n",
    "    if x == 'H':  # H: ccvs\n",
    "        # if there is a H type, D is m by m\n",
    "        # need to find the vn for Vname\n",
    "        # then stamp the matrix\n",
    "        vn1, vn2, df2_index = find_vname(df.loc[i,'Vname'])\n",
    "        D[sn,df2_index] += -sympify(df.loc[i,'element'].lower())\n",
    "        sn += 1   #increment source count\n",
    "\n",
    "    if x == 'F':  # F: cccs\n",
    "        # if there is a F type, D is m by m\n",
    "        # need to find the vn for Vname\n",
    "        # then stamp the matrix\n",
    "        vn1, vn2, df2_index = find_vname(df.loc[i,'Vname'])\n",
    "        D[sn,df2_index] += -sympify(df.loc[i,'element'].lower())\n",
    "        D[sn,sn] = 1\n",
    "        sn += 1   #increment source count\n",
    "\n",
    "    if x == 'K':  # K: coupled inductors, KXX LYY LZZ value\n",
    "        # if there is a K type, D is m by m\n",
    "        vn1, vn2, ind1_index = find_vname(df.loc[i,'Lname1'])  # get i_unk position for Lx\n",
    "        vn1, vn2, ind2_index = find_vname(df.loc[i,'Lname2'])  # get i_unk position for Ly\n",
    "        # enter sM on diagonals = value*sqrt(LXX*LZZ)\n",
    "\n",
    "        D[ind1_index,ind2_index] += -s*sympify('M{:s}'.format(df.loc[i,'element'].lower()[1:]))  # s*Mxx\n",
    "        D[ind2_index,ind1_index] += -s*sympify('M{:s}'.format(df.loc[i,'element'].lower()[1:]))  # -s*Mxx\n",
    "\n",
    "# display the The D matrix\n",
    "D"
   ]
  },
  {
   "cell_type": "markdown",
   "metadata": {},
   "source": [
    "## V matrix\n",
    "The V matrix is an n by 1 matrix formed of the node voltages, where n is the number of nodes. Each element in V corresponds to the voltage at the node.  \n",
    "\n",
    "Maybe make small v's v_1 so as not to confuse v1 with V1."
   ]
  },
  {
   "cell_type": "code",
   "execution_count": 108,
   "metadata": {
    "collapsed": false,
    "jupyter": {
     "outputs_hidden": false
    }
   },
   "outputs": [
    {
     "data": {
      "text/latex": [
       "$\\displaystyle \\left[\\begin{matrix}v_{1}\\\\v_{2}\\end{matrix}\\right]$"
      ],
      "text/plain": [
       "⎡v₁⎤\n",
       "⎢  ⎥\n",
       "⎣v₂⎦"
      ]
     },
     "execution_count": 108,
     "metadata": {},
     "output_type": "execute_result"
    }
   ],
   "source": [
    "# generate the V matrix\n",
    "for i in range(num_nodes):\n",
    "    V[i] = sympify('v{:d}'.format(i+1))\n",
    "\n",
    "V  # display the V matrix"
   ]
  },
  {
   "cell_type": "markdown",
   "metadata": {},
   "source": [
    "## J matrix\n",
    "The J matrix is an m by 1 matrix, where m is the number of unknown currents.\n",
    ">i_unk = num_v+num_opamps+num_vcvs+num_ccvs+num_ind+num_cccs"
   ]
  },
  {
   "cell_type": "code",
   "execution_count": 109,
   "metadata": {
    "collapsed": false,
    "jupyter": {
     "outputs_hidden": false
    }
   },
   "outputs": [
    {
     "data": {
      "text/latex": [
       "$\\displaystyle \\left[\\begin{matrix}I_{L1}\\end{matrix}\\right]$"
      ],
      "text/plain": [
       "[I_L1]"
      ]
     },
     "execution_count": 109,
     "metadata": {},
     "output_type": "execute_result"
    }
   ],
   "source": [
    "# The J matrix is an m by 1 matrix, with one entry for each i_unk from a source\n",
    "#sn = 0   # count i_unk source number\n",
    "#oan = 0   #count op amp number\n",
    "for i in range(len(df2)):\n",
    "    # process all the unknown currents\n",
    "    J[i] = sympify('I_{:s}'.format(df2.loc[i,'element']))\n",
    "\n",
    "J  # diplay the J matrix"
   ]
  },
  {
   "cell_type": "markdown",
   "metadata": {},
   "source": [
    "## I matrix\n",
    "The I matrix is an n by 1 matrix, where n is the number of nodes. The value of each element of I is determined by the sum of current sources into the corresponding node. If there are no current sources connected to the node, the value is zero."
   ]
  },
  {
   "cell_type": "code",
   "execution_count": 110,
   "metadata": {
    "collapsed": false,
    "jupyter": {
     "outputs_hidden": false
    }
   },
   "outputs": [
    {
     "data": {
      "text/latex": [
       "$\\displaystyle \\left[\\begin{matrix}- I_{1}\\\\0\\end{matrix}\\right]$"
      ],
      "text/plain": [
       "⎡-I₁⎤\n",
       "⎢   ⎥\n",
       "⎣ 0 ⎦"
      ]
     },
     "execution_count": 110,
     "metadata": {},
     "output_type": "execute_result"
    }
   ],
   "source": [
    "# generate the I matrix, current sources have n2 = arrow end of the element\n",
    "for i in range(len(df)):\n",
    "    n1 = df.loc[i,'p node']\n",
    "    n2 = df.loc[i,'n node']\n",
    "    # process all the passive elements, save conductance to temp value\n",
    "    x = df.loc[i,'element'][0]   #get 1st letter of element name\n",
    "    if x == 'I':\n",
    "        g = sympify(df.loc[i,'element'])\n",
    "        # sum the current into each node\n",
    "        if n1 != 0:\n",
    "            I[n1-1] -= g\n",
    "        if n2 != 0:\n",
    "            I[n2-1] += g\n",
    "\n",
    "I  # display the I matrix"
   ]
  },
  {
   "cell_type": "markdown",
   "metadata": {},
   "source": [
    "## Ev matrix\n",
    "The Ev matrix is m by 1 and holds the values of the independent voltage sources."
   ]
  },
  {
   "cell_type": "code",
   "execution_count": 111,
   "metadata": {
    "collapsed": false,
    "jupyter": {
     "outputs_hidden": false
    }
   },
   "outputs": [
    {
     "data": {
      "text/latex": [
       "$\\displaystyle \\left[\\begin{matrix}0\\end{matrix}\\right]$"
      ],
      "text/plain": [
       "[0]"
      ]
     },
     "execution_count": 111,
     "metadata": {},
     "output_type": "execute_result"
    }
   ],
   "source": [
    "# generate the E matrix\n",
    "sn = 0   # count source number\n",
    "for i in range(len(df)):\n",
    "    # process all the passive elements\n",
    "    x = df.loc[i,'element'][0]   #get 1st letter of element name\n",
    "    if x == 'V':\n",
    "        Ev[sn] = sympify(df.loc[i,'element'])\n",
    "        sn += 1\n",
    "\n",
    "Ev   # display the E matrix"
   ]
  },
  {
   "cell_type": "markdown",
   "metadata": {},
   "source": [
    "## Z matrix\n",
    "The Z matrix holds the independent voltage and current sources and is the combination of 2 smaller matrices I and Ev. The Z matrix is (m+n) by 1, n is the number of nodes, and m is the number of independent voltage sources. The I matrix is n by 1 and contains the sum of the currents through the passive elements into the corresponding node (either zero, or the sum of independent current sources). The Ev matrix is m by 1 and holds the values of the independent voltage sources."
   ]
  },
  {
   "cell_type": "code",
   "execution_count": 112,
   "metadata": {
    "collapsed": false,
    "jupyter": {
     "outputs_hidden": false
    }
   },
   "outputs": [
    {
     "data": {
      "image/png": "[encoded data removed]",
      "text/latex": [
       "$\\displaystyle \\left[ - I_{1}, \\  0, \\  0\\right]$"
      ],
      "text/plain": [
       "[-I₁, 0, 0]"
      ]
     },
     "execution_count": 112,
     "metadata": {},
     "output_type": "execute_result"
    }
   ],
   "source": [
    "Z = I[:] + Ev[:]  # the + operator in python concatenates the lists\n",
    "Z  # display the Z matrix"
   ]
  },
  {
   "cell_type": "markdown",
   "metadata": {},
   "source": [
    "## X matrix\n",
    "The X matrix is an (n+m) by 1 vector that holds the unknown quantities (node voltages and the currents through the independent voltage sources). The top n elements are the n node voltages. The bottom m elements represent the currents through the m independent voltage sources in the circuit. The V matrix is n by 1 and holds the unknown voltages. The J matrix is m by 1 and holds the unknown currents through the voltage sources"
   ]
  },
  {
   "cell_type": "code",
   "execution_count": 113,
   "metadata": {
    "collapsed": false,
    "jupyter": {
     "outputs_hidden": false
    }
   },
   "outputs": [
    {
     "data": {
      "image/png": "[encoded data removed]",
      "text/latex": [
       "$\\displaystyle \\left[ v_{1}, \\  v_{2}, \\  I_{L1}\\right]$"
      ],
      "text/plain": [
       "[v₁, v₂, I_L1]"
      ]
     },
     "execution_count": 113,
     "metadata": {},
     "output_type": "execute_result"
    }
   ],
   "source": [
    "X = V[:] + J[:]  # the + operator in python concatenates the lists\n",
    "X  # display the X matrix"
   ]
  },
  {
   "cell_type": "markdown",
   "metadata": {},
   "source": [
    "## A matrix\n",
    "The A matrix is (m+n) by (m+n) and will be developed as the combination of 4 smaller matrices, G, B, C, and D."
   ]
  },
  {
   "cell_type": "code",
   "execution_count": 114,
   "metadata": {
    "collapsed": false,
    "jupyter": {
     "outputs_hidden": false
    }
   },
   "outputs": [
    {
     "data": {
      "text/latex": [
       "$\\displaystyle \\left[\\begin{matrix}\\frac{1}{R_{1}} & 0 & 1\\\\0 & C_{1} s & -1\\\\1 & -1 & - L_{1} s\\end{matrix}\\right]$"
      ],
      "text/plain": [
       "⎡1              ⎤\n",
       "⎢──   0      1  ⎥\n",
       "⎢R₁             ⎥\n",
       "⎢               ⎥\n",
       "⎢0   C₁⋅s   -1  ⎥\n",
       "⎢               ⎥\n",
       "⎣1    -1   -L₁⋅s⎦"
      ]
     },
     "execution_count": 114,
     "metadata": {},
     "output_type": "execute_result"
    }
   ],
   "source": [
    "n = num_nodes\n",
    "m = i_unk\n",
    "A = zeros(m+n,m+n)\n",
    "for i in range(n):\n",
    "    for j in range(n):\n",
    "        A[i,j] = G[i,j]\n",
    "\n",
    "if i_unk > 1:\n",
    "    for i in range(n):\n",
    "        for j in range(m):\n",
    "            A[i,n+j] = B[i,j]\n",
    "            A[n+j,i] = C[j,i]\n",
    "\n",
    "    for i in range(m):\n",
    "        for j in range(m):\n",
    "            A[n+i,n+j] = D[i,j]\n",
    "\n",
    "if i_unk == 1:\n",
    "    for i in range(n):\n",
    "        A[i,n] = B[i]\n",
    "        A[n,i] = C[i]\n",
    "    A[n,n] = D[0] # added 1/7/2024 while debugging source free circuit with one inductor\n",
    "\n",
    "A  # display the A matrix"
   ]
  },
  {
   "cell_type": "markdown",
   "metadata": {},
   "source": [
    "## generate the circuit equations"
   ]
  },
  {
   "cell_type": "code",
   "execution_count": 116,
   "metadata": {},
   "outputs": [
    {
     "data": {
      "text/latex": [
       "$\\displaystyle \\left[\\begin{matrix}I_{L1} + \\frac{v_{1}}{R_{1}}\\\\C_{1} s v_{2} - I_{L1}\\\\- I_{L1} L_{1} s + v_{1} - v_{2}\\end{matrix}\\right] = \\left[\\begin{matrix}- I_{1}\\\\0\\\\0\\end{matrix}\\right]$"
      ],
      "text/plain": [
       "⎡            v₁      ⎤        \n",
       "⎢     I_L1 + ──      ⎥   ⎡-I₁⎤\n",
       "⎢            R₁      ⎥   ⎢   ⎥\n",
       "⎢                    ⎥ = ⎢ 0 ⎥\n",
       "⎢   C₁⋅s⋅v₂ - I_L1   ⎥   ⎢   ⎥\n",
       "⎢                    ⎥   ⎣ 0 ⎦\n",
       "⎣-I_L1⋅L₁⋅s + v₁ - v₂⎦        "
      ]
     },
     "execution_count": 116,
     "metadata": {},
     "output_type": "execute_result"
    }
   ],
   "source": [
    "equ = Eq(A*Matrix(X),Matrix(Z))\n",
    "equ"
   ]
  },
  {
   "cell_type": "markdown",
   "metadata": {},
   "source": [
    "## Display the equations using Unicode Pretty Printer\n",
    "pprint() prints the output to the screen.\n",
    "\n",
    "See the following:  \n",
    "- https://stackoverflow.com/questions/20979993/how-to-pretty-print-in-ipython-notebook-via-sympy  \n",
    "- https://docs.sympy.org/latest/tutorials/intro-tutorial/printing.html  \n",
    "\n",
    "\n",
    "Unicode Pretty Printer  \n",
    "The Unicode pretty printer is accessed from pprint().  "
   ]
  },
  {
   "cell_type": "code",
   "execution_count": 125,
   "metadata": {},
   "outputs": [
    {
     "name": "stdout",
     "output_type": "stream",
     "text": [
      "       v₁      \n",
      "I_L1 + ── = -I₁\n",
      "       R₁      \n",
      "C₁⋅s⋅v₂ - I_L1 = 0\n",
      "-I_L1⋅L₁⋅s + v₁ - v₂ = 0\n"
     ]
    }
   ],
   "source": [
    "# reform X and Z into Matrix type for printing\n",
    "Xp = Matrix(X)\n",
    "Zp = Matrix(Z)\n",
    "\n",
    "for i in range(len(X)):\n",
    "    pprint(Eq((A*Xp)[i:i+1][0],Zp[i]))"
   ]
  },
  {
   "cell_type": "markdown",
   "metadata": {},
   "source": [
    "Latex formated equations"
   ]
  },
  {
   "cell_type": "code",
   "execution_count": 126,
   "metadata": {},
   "outputs": [
    {
     "name": "stdout",
     "output_type": "stream",
     "text": [
      "I_{L1} + \\frac{v_{1}}{R_{1}} = - I_{1} \\\\\n",
      "C_{1} s v_{2} - I_{L1} = 0 \\\\\n",
      "- I_{L1} L_{1} s + v_{1} - v_{2} = 0 \\\\\n"
     ]
    }
   ],
   "source": [
    "for i in range(len(X)):\n",
    "    print(latex(Eq((A*Xp)[i:i+1][0],Zp[i])),'\\\\\\\\')"
   ]
  },
  {
   "cell_type": "markdown",
   "metadata": {},
   "source": [
    "There is also a printer for MathML, called print_mathml().   \n",
    "from sympy.printing.mathml import print_mathml"
   ]
  },
  {
   "cell_type": "markdown",
   "metadata": {},
   "source": [
    "MathJax formated equations"
   ]
  },
  {
   "cell_type": "code",
   "execution_count": 127,
   "metadata": {},
   "outputs": [
    {
     "name": "stdout",
     "output_type": "stream",
     "text": [
      "$I_{L1} + \\frac{v_{1}}{R_{1}} = - I_{1}$  \n",
      "$C_{1} s v_{2} - I_{L1} = 0$  \n",
      "$- I_{L1} L_{1} s + v_{1} - v_{2} = 0$  \n"
     ]
    }
   ],
   "source": [
    "for i in range(len(X)):\n",
    "    print('${:s}$  '.format(latex(Eq((A*Xp)[i:i+1][0],Zp[i]))))"
   ]
  },
  {
   "cell_type": "raw",
   "metadata": {},
   "source": [
    "for i in range(len(X)):\n",
    "    print_mathml(Eq((A*Xp)[i:i+1][0],Zp[i]))"
   ]
  },
  {
   "cell_type": "markdown",
   "metadata": {},
   "source": [
    "## generate text strings for copy/paste of network equations into different notebooks\n",
    "The folloing code produces text srings that can be copied into a different notebook for running numerical solutions. See the notebook example48-new.ipynb for details. Other other notebooks have not been updated. "
   ]
  },
  {
   "cell_type": "code",
   "execution_count": 128,
   "metadata": {},
   "outputs": [
    {
     "name": "stdout",
     "output_type": "stream",
     "text": [
      "I_L1, v1, v2, I1, R1, L1, C1, s = symbols(' I_L1  v1  v2  I1  R1  L1  C1  s ')\n"
     ]
    }
   ],
   "source": [
    "symbol_list = str(equ.free_symbols).replace('{','').replace('}','')\n",
    "print(symbol_list,'= symbols(\\'',symbol_list.replace(',',' '),'\\')')"
   ]
  },
  {
   "cell_type": "code",
   "execution_count": 129,
   "metadata": {},
   "outputs": [
    {
     "name": "stdout",
     "output_type": "stream",
     "text": [
      "A = Matrix([[1/R1, 0, 1], [0, C1*s, -1], [1, -1, -L1*s]])\n"
     ]
    }
   ],
   "source": [
    "print('A =',A)"
   ]
  },
  {
   "cell_type": "code",
   "execution_count": 130,
   "metadata": {},
   "outputs": [
    {
     "name": "stdout",
     "output_type": "stream",
     "text": [
      "X = Matrix( [v1, v2, I_L1] )\n"
     ]
    }
   ],
   "source": [
    "print('X = Matrix(',X,')')"
   ]
  },
  {
   "cell_type": "code",
   "execution_count": 131,
   "metadata": {},
   "outputs": [
    {
     "name": "stdout",
     "output_type": "stream",
     "text": [
      "Z = Matrix( [-I1, 0, 0] )\n"
     ]
    }
   ],
   "source": [
    "print('Z = Matrix(',Z,')')"
   ]
  },
  {
   "cell_type": "code",
   "execution_count": 132,
   "metadata": {},
   "outputs": [
    {
     "name": "stdout",
     "output_type": "stream",
     "text": [
      "I1:1.0000e+00,\n",
      "R1:5.0000e-02,\n",
      "L1:2.5000e-02,\n",
      "C1:2.5000e-01,\n"
     ]
    }
   ],
   "source": [
    "# print a list of the element values in python dictionary format\n",
    "for i in range(len(df)):\n",
    "    if df.iloc[i]['element'][0] == 'F' or df.iloc[i]['element'][0] == 'E' or df.iloc[i]['element'][0] == 'G' or df.iloc[i]['element'][0] == 'H':\n",
    "        print('{:s}:{:f},'.format(df.iloc[i]['element'].lower(),df.iloc[i]['value']))\n",
    "    else:\n",
    "        print('{:s}:{:.4e},'.format(df.iloc[i]['element'],df.iloc[i]['value']))"
   ]
  },
  {
   "cell_type": "markdown",
   "metadata": {},
   "source": [
    "Formulate the newtork equations the following:  \n",
    "equ = Eq(A*X,Z)\n",
    "\n",
    "Solve symbolically or numerically after making susbstitutions for elemenet values. For example: solve(equ,X)\n"
   ]
  },
  {
   "cell_type": "code",
   "execution_count": null,
   "metadata": {},
   "outputs": [],
   "source": []
  }
 ],
 "metadata": {
  "kernelspec": {
   "display_name": "Python 3 (ipykernel)",
   "language": "python",
   "name": "python3"
  },
  "language_info": {
   "codemirror_mode": {
    "name": "ipython",
    "version": 3
   },
   "file_extension": ".py",
   "mimetype": "text/x-python",
   "name": "python",
   "nbconvert_exporter": "python",
   "pygments_lexer": "ipython3",
   "version": "3.10.9"
  }
 },
 "nbformat": 4,
 "nbformat_minor": 4
}
