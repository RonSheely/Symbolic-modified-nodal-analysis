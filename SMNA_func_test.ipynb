{
 "cells": [
  {
   "cell_type": "markdown",
   "metadata": {
    "tags": []
   },
   "source": [
    "# SymMNA function test\n",
    "last update: 15 Jan 2024  \n",
    "\n",
    "## Introduction\n",
    "This notebook test the SMNA_func\n",
    "\n",
    "## Circuit description\n",
    "The circuit below is a 2nd order band pass filter with magnetic coupling. The schematic of the circuit is shown below with each node explicity annotated.\n",
    "\n",
    "<img src=\"SMNA_example.png\" width=\"700\">  \n",
    "\n",
    "The value of K1 has been changed to 0.15. The net list for this circuit is:\n",
    "```\n",
    "SMNA_example.asc\n",
    "V1 1 0 1\n",
    "R1 3 1 1e3\n",
    "R4 2 0 10e3\n",
    "C1 3 0 0.01e-6\n",
    "C2 2 0 0.01e-6\n",
    "L1 4 0 1e-6\n",
    "L2 5 0 1e-6\n",
    "R2 4 3 0.5\n",
    "R3 2 5 0.5\n",
    "K1 L1 L2 0.15\n",
    "```\n"
   ]
  },
  {
   "cell_type": "code",
   "execution_count": 1,
   "metadata": {
    "collapsed": false,
    "jupyter": {
     "outputs_hidden": false
    }
   },
   "outputs": [],
   "source": [
    "import os\n",
    "from sympy import *\n",
    "import numpy as np\n",
    "from scipy import signal\n",
    "import matplotlib.pyplot as plt\n",
    "import pandas as pd\n",
    "import SymMNA\n",
    "init_printing()"
   ]
  },
  {
   "cell_type": "markdown",
   "metadata": {},
   "source": [
    "## Symbolic MNA code "
   ]
  },
  {
   "cell_type": "markdown",
   "metadata": {
    "tags": []
   },
   "source": [
    "## Load the net list"
   ]
  },
  {
   "cell_type": "code",
   "execution_count": 2,
   "metadata": {},
   "outputs": [],
   "source": [
    "example_net_list = '''V1 1 0 1 \n",
    "R1 3 1 1e3\n",
    "R4 2 0 10e3\n",
    "C1 3 0 0.01e-6\n",
    "C2 2 0 0.01e-6\n",
    "L1 4 0 1e-6\n",
    "L2 5 0 1e-6\n",
    "R2 4 3 0.5\n",
    "R3 2 5 0.5\n",
    "K1 L1 L2 0.15'''"
   ]
  },
  {
   "cell_type": "code",
   "execution_count": 3,
   "metadata": {},
   "outputs": [],
   "source": [
    "df, df2, A, X, Z = SymMNA.smna(example_net_list)"
   ]
  },
  {
   "cell_type": "code",
   "execution_count": 4,
   "metadata": {},
   "outputs": [],
   "source": [
    "# Put matricies into SymPy \n",
    "#A = Matrix(A)\n",
    "X = Matrix(X)\n",
    "Z = Matrix(Z)"
   ]
  },
  {
   "cell_type": "code",
   "execution_count": 5,
   "metadata": {},
   "outputs": [],
   "source": [
    "equ = Eq(A*X,Z)"
   ]
  },
  {
   "cell_type": "code",
   "execution_count": 6,
   "metadata": {},
   "outputs": [
    {
     "data": {
      "text/latex": [
       "$\\displaystyle \\left[\\begin{matrix}I_{V1} + \\frac{v_{1}}{R_{1}} - \\frac{v_{3}}{R_{1}}\\\\v_{2} \\left(C_{2} s + \\frac{1}{R_{4}} + \\frac{1}{R_{3}}\\right) - \\frac{v_{5}}{R_{3}}\\\\v_{3} \\left(C_{1} s + \\frac{1}{R_{2}} + \\frac{1}{R_{1}}\\right) - \\frac{v_{4}}{R_{2}} - \\frac{v_{1}}{R_{1}}\\\\I_{L1} - \\frac{v_{3}}{R_{2}} + \\frac{v_{4}}{R_{2}}\\\\I_{L2} - \\frac{v_{2}}{R_{3}} + \\frac{v_{5}}{R_{3}}\\\\v_{1}\\\\- I_{L1} L_{1} s - I_{L2} M_{1} s + v_{4}\\\\- I_{L1} M_{1} s - I_{L2} L_{2} s + v_{5}\\end{matrix}\\right] = \\left[\\begin{matrix}0\\\\0\\\\0\\\\0\\\\0\\\\V_{1}\\\\0\\\\0\\end{matrix}\\right]$"
      ],
      "text/plain": [
       "⎡              v₁   v₃        ⎤       \n",
       "⎢       I_V1 + ── - ──        ⎥       \n",
       "⎢              R₁   R₁        ⎥       \n",
       "⎢                             ⎥       \n",
       "⎢     ⎛       1    1 ⎞   v₅   ⎥       \n",
       "⎢  v₂⋅⎜C₂⋅s + ── + ──⎟ - ──   ⎥   ⎡0 ⎤\n",
       "⎢     ⎝       R₄   R₃⎠   R₃   ⎥   ⎢  ⎥\n",
       "⎢                             ⎥   ⎢0 ⎥\n",
       "⎢   ⎛       1    1 ⎞   v₄   v₁⎥   ⎢  ⎥\n",
       "⎢v₃⋅⎜C₁⋅s + ── + ──⎟ - ── - ──⎥   ⎢0 ⎥\n",
       "⎢   ⎝       R₂   R₁⎠   R₂   R₁⎥   ⎢  ⎥\n",
       "⎢                             ⎥   ⎢0 ⎥\n",
       "⎢              v₃   v₄        ⎥ = ⎢  ⎥\n",
       "⎢       I_L1 - ── + ──        ⎥   ⎢0 ⎥\n",
       "⎢              R₂   R₂        ⎥   ⎢  ⎥\n",
       "⎢                             ⎥   ⎢V₁⎥\n",
       "⎢              v₂   v₅        ⎥   ⎢  ⎥\n",
       "⎢       I_L2 - ── + ──        ⎥   ⎢0 ⎥\n",
       "⎢              R₃   R₃        ⎥   ⎢  ⎥\n",
       "⎢                             ⎥   ⎣0 ⎦\n",
       "⎢             v₁              ⎥       \n",
       "⎢                             ⎥       \n",
       "⎢ -I_L1⋅L₁⋅s - I_L2⋅M₁⋅s + v₄ ⎥       \n",
       "⎢                             ⎥       \n",
       "⎣ -I_L1⋅M₁⋅s - I_L2⋅L₂⋅s + v₅ ⎦       "
      ]
     },
     "execution_count": 6,
     "metadata": {},
     "output_type": "execute_result"
    }
   ],
   "source": [
    "equ"
   ]
  },
  {
   "cell_type": "code",
   "execution_count": 7,
   "metadata": {},
   "outputs": [
    {
     "data": {
      "image/png": "[encoded data removed]",
      "text/latex": [
       "$\\displaystyle \\left( V_{1}, \\  M_{1}, \\  I_{V1}, \\  R_{2}, \\  L_{1}, \\  v_{3}, \\  R_{3}, \\  v_{5}, \\  R_{4}, \\  v_{2}, \\  I_{L1}, \\  R_{1}, \\  v_{1}, \\  I_{L2}, \\  C_{2}, \\  v_{4}, \\  C_{1}, \\  L_{2}, \\  s\\right)$"
      ],
      "text/plain": [
       "(V₁, M₁, I_V1, R₂, L₁, v₃, R₃, v₅, R₄, v₂, I_L1, R₁, v₁, I_L2, C₂, v₄, C₁, L₂,\n",
       " s)"
      ]
     },
     "execution_count": 7,
     "metadata": {},
     "output_type": "execute_result"
    }
   ],
   "source": [
    "# turn the free symbols into SymPy variables\n",
    "var(str(equ.free_symbols).replace('{','').replace('}',''))"
   ]
  },
  {
   "cell_type": "markdown",
   "metadata": {},
   "source": [
    "## Symbolic solution"
   ]
  },
  {
   "cell_type": "code",
   "execution_count": 8,
   "metadata": {},
   "outputs": [],
   "source": [
    "symbolic_solution = solve(equ,X)"
   ]
  },
  {
   "cell_type": "markdown",
   "metadata": {},
   "source": [
    "The symbolic solution for the voltage at node 2 is:"
   ]
  },
  {
   "cell_type": "code",
   "execution_count": 9,
   "metadata": {},
   "outputs": [
    {
     "data": {
      "image/png": "[encoded data removed]",
      "text/latex": [
       "$\\displaystyle \\frac{M_{1} R_{4} V_{1} s}{C_{1} C_{2} L_{1} L_{2} R_{1} R_{4} s^{4} + C_{1} C_{2} L_{1} R_{1} R_{3} R_{4} s^{3} + C_{1} C_{2} L_{2} R_{1} R_{2} R_{4} s^{3} - C_{1} C_{2} M_{1}^{2} R_{1} R_{4} s^{4} + C_{1} C_{2} R_{1} R_{2} R_{3} R_{4} s^{2} + C_{1} L_{1} L_{2} R_{1} s^{3} + C_{1} L_{1} R_{1} R_{3} s^{2} + C_{1} L_{1} R_{1} R_{4} s^{2} + C_{1} L_{2} R_{1} R_{2} s^{2} - C_{1} M_{1}^{2} R_{1} s^{3} + C_{1} R_{1} R_{2} R_{3} s + C_{1} R_{1} R_{2} R_{4} s + C_{2} L_{1} L_{2} R_{4} s^{3} + C_{2} L_{1} R_{3} R_{4} s^{2} + C_{2} L_{2} R_{1} R_{4} s^{2} + C_{2} L_{2} R_{2} R_{4} s^{2} - C_{2} M_{1}^{2} R_{4} s^{3} + C_{2} R_{1} R_{3} R_{4} s + C_{2} R_{2} R_{3} R_{4} s + L_{1} L_{2} s^{2} + L_{1} R_{3} s + L_{1} R_{4} s + L_{2} R_{1} s + L_{2} R_{2} s - M_{1}^{2} s^{2} + R_{1} R_{3} + R_{1} R_{4} + R_{2} R_{3} + R_{2} R_{4}}$"
      ],
      "text/plain": [
       "                                                                              \n",
       "──────────────────────────────────────────────────────────────────────────────\n",
       "                   4                      3                      3           2\n",
       "C₁⋅C₂⋅L₁⋅L₂⋅R₁⋅R₄⋅s  + C₁⋅C₂⋅L₁⋅R₁⋅R₃⋅R₄⋅s  + C₁⋅C₂⋅L₂⋅R₁⋅R₂⋅R₄⋅s  - C₁⋅C₂⋅M₁ \n",
       "\n",
       "                                                                              \n",
       "──────────────────────────────────────────────────────────────────────────────\n",
       "        4                      2                3                2            \n",
       "⋅R₁⋅R₄⋅s  + C₁⋅C₂⋅R₁⋅R₂⋅R₃⋅R₄⋅s  + C₁⋅L₁⋅L₂⋅R₁⋅s  + C₁⋅L₁⋅R₁⋅R₃⋅s  + C₁⋅L₁⋅R₁⋅\n",
       "\n",
       "                                                       M₁⋅R₄⋅V₁⋅s             \n",
       "──────────────────────────────────────────────────────────────────────────────\n",
       "    2                2        2     3                                         \n",
       "R₄⋅s  + C₁⋅L₂⋅R₁⋅R₂⋅s  - C₁⋅M₁ ⋅R₁⋅s  + C₁⋅R₁⋅R₂⋅R₃⋅s + C₁⋅R₁⋅R₂⋅R₄⋅s + C₂⋅L₁⋅\n",
       "\n",
       "                                                                              \n",
       "──────────────────────────────────────────────────────────────────────────────\n",
       "       3                2                2                2        2     3    \n",
       "L₂⋅R₄⋅s  + C₂⋅L₁⋅R₃⋅R₄⋅s  + C₂⋅L₂⋅R₁⋅R₄⋅s  + C₂⋅L₂⋅R₂⋅R₄⋅s  - C₂⋅M₁ ⋅R₄⋅s  + C\n",
       "\n",
       "                                                                              \n",
       "──────────────────────────────────────────────────────────────────────────────\n",
       "                                      2                                       \n",
       "₂⋅R₁⋅R₃⋅R₄⋅s + C₂⋅R₂⋅R₃⋅R₄⋅s + L₁⋅L₂⋅s  + L₁⋅R₃⋅s + L₁⋅R₄⋅s + L₂⋅R₁⋅s + L₂⋅R₂⋅\n",
       "\n",
       "                                          \n",
       "──────────────────────────────────────────\n",
       "      2  2                                \n",
       "s - M₁ ⋅s  + R₁⋅R₃ + R₁⋅R₄ + R₂⋅R₃ + R₂⋅R₄"
      ]
     },
     "execution_count": 9,
     "metadata": {},
     "output_type": "execute_result"
    }
   ],
   "source": [
    "symbolic_solution[v2]"
   ]
  },
  {
   "cell_type": "markdown",
   "metadata": {},
   "source": [
    "Built a python dictionary of element values"
   ]
  },
  {
   "cell_type": "code",
   "execution_count": 10,
   "metadata": {},
   "outputs": [],
   "source": [
    "element_value_keys = []\n",
    "element_value_values = []\n",
    "\n",
    "for i in range(len(df)):\n",
    "    if df.iloc[i]['element'][0] == 'F' or df.iloc[i]['element'][0] == 'E' or df.iloc[i]['element'][0] == 'G' or df.iloc[i]['element'][0] == 'H':\n",
    "        element_value_keys.append(var(df.iloc[i]['element'].lower()))\n",
    "        element_value_values.append(df.iloc[i]['value'])\n",
    "        #print('{:s}:{:f},'.format(df.iloc[i]['element'].lower(),df.iloc[i]['value']))\n",
    "    else:\n",
    "        element_value_keys.append(var(df.iloc[i]['element']))\n",
    "        element_value_values.append(df.iloc[i]['value'])\n",
    "        #print('{:s}:{:.4e},'.format(df.iloc[i]['element'],df.iloc[i]['value']))\n",
    "\n",
    "element_values = dict(zip(element_value_keys, element_value_values))"
   ]
  },
  {
   "cell_type": "code",
   "execution_count": 11,
   "metadata": {},
   "outputs": [
    {
     "name": "stdout",
     "output_type": "stream",
     "text": [
      "mutual inductance, M1 = 0.000000150\n"
     ]
    }
   ],
   "source": [
    "# calculate the coupling constant from the mutual inductance\n",
    "element_values[M1] = element_values[K1]*np.sqrt(element_values[L1] *element_values[L2])\n",
    "print('mutual inductance, M1 = {:.9f}'.format(element_values[M1]))"
   ]
  },
  {
   "cell_type": "code",
   "execution_count": 12,
   "metadata": {},
   "outputs": [
    {
     "data": {
      "image/png": "[encoded data removed]",
      "text/latex": [
       "$\\displaystyle \\left\\{ C_{1} : 1.0 \\cdot 10^{-8}, \\  C_{2} : 1.0 \\cdot 10^{-8}, \\  K_{1} : 0.15, \\  L_{1} : 1.0 \\cdot 10^{-6}, \\  L_{2} : 1.0 \\cdot 10^{-6}, \\  M_{1} : 1.5 \\cdot 10^{-7}, \\  R_{1} : 1000.0, \\  R_{2} : 0.5, \\  R_{3} : 0.5, \\  R_{4} : 10000.0, \\  V_{1} : 1.0\\right\\}$"
      ],
      "text/plain": [
       "{C₁: 1e-08, C₂: 1e-08, K₁: 0.15, L₁: 1e-06, L₂: 1e-06, M₁: 1.5e-07, R₁: 1000.0\n",
       ", R₂: 0.5, R₃: 0.5, R₄: 10000.0, V₁: 1.0}"
      ]
     },
     "execution_count": 12,
     "metadata": {},
     "output_type": "execute_result"
    }
   ],
   "source": [
    "element_values"
   ]
  },
  {
   "cell_type": "markdown",
   "metadata": {},
   "source": [
    "## Numeric solution\n",
    "Substitue the element values into the equations and solve for unknown node voltages and currents. Need to set the current source, I1, to zero."
   ]
  },
  {
   "cell_type": "code",
   "execution_count": 13,
   "metadata": {},
   "outputs": [
    {
     "data": {
      "text/latex": [
       "$\\displaystyle \\left[\\begin{matrix}I_{V1} + 0.001 v_{1} - 0.001 v_{3}\\\\v_{2} \\cdot \\left(1.0 \\cdot 10^{-8} s + 2.0001\\right) - 2.0 v_{5}\\\\- 0.001 v_{1} + v_{3} \\cdot \\left(1.0 \\cdot 10^{-8} s + 2.001\\right) - 2.0 v_{4}\\\\I_{L1} - 2.0 v_{3} + 2.0 v_{4}\\\\I_{L2} - 2.0 v_{2} + 2.0 v_{5}\\\\v_{1}\\\\- 1.0 \\cdot 10^{-6} I_{L1} s - 1.5 \\cdot 10^{-7} I_{L2} s + v_{4}\\\\- 1.5 \\cdot 10^{-7} I_{L1} s - 1.0 \\cdot 10^{-6} I_{L2} s + v_{5}\\end{matrix}\\right] = \\left[\\begin{matrix}0\\\\0\\\\0\\\\0\\\\0\\\\1.0\\\\0\\\\0\\end{matrix}\\right]$"
      ],
      "text/plain": [
       "⎡        I_V1 + 0.001⋅v₁ - 0.001⋅v₃        ⎤   ⎡ 0 ⎤\n",
       "⎢                                          ⎥   ⎢   ⎥\n",
       "⎢     v₂⋅(1.0e-8⋅s + 2.0001) - 2.0⋅v₅      ⎥   ⎢ 0 ⎥\n",
       "⎢                                          ⎥   ⎢   ⎥\n",
       "⎢-0.001⋅v₁ + v₃⋅(1.0e-8⋅s + 2.001) - 2.0⋅v₄⎥   ⎢ 0 ⎥\n",
       "⎢                                          ⎥   ⎢   ⎥\n",
       "⎢          I_L1 - 2.0⋅v₃ + 2.0⋅v₄          ⎥   ⎢ 0 ⎥\n",
       "⎢                                          ⎥ = ⎢   ⎥\n",
       "⎢          I_L2 - 2.0⋅v₂ + 2.0⋅v₅          ⎥   ⎢ 0 ⎥\n",
       "⎢                                          ⎥   ⎢   ⎥\n",
       "⎢                    v₁                    ⎥   ⎢1.0⎥\n",
       "⎢                                          ⎥   ⎢   ⎥\n",
       "⎢   -1.0e-6⋅I_L1⋅s - 1.5e-7⋅I_L2⋅s + v₄    ⎥   ⎢ 0 ⎥\n",
       "⎢                                          ⎥   ⎢   ⎥\n",
       "⎣   -1.5e-7⋅I_L1⋅s - 1.0e-6⋅I_L2⋅s + v₅    ⎦   ⎣ 0 ⎦"
      ]
     },
     "execution_count": 13,
     "metadata": {},
     "output_type": "execute_result"
    }
   ],
   "source": [
    "equ1a = equ.subs(element_values)\n",
    "equ1a"
   ]
  },
  {
   "cell_type": "markdown",
   "metadata": {},
   "source": [
    "Solve for voltages and currents in terms of Laplace variable s."
   ]
  },
  {
   "cell_type": "code",
   "execution_count": 14,
   "metadata": {
    "collapsed": false,
    "jupyter": {
     "outputs_hidden": false
    }
   },
   "outputs": [
    {
     "data": {
      "image/png": "[encoded data removed]",
      "text/latex": [
       "$\\displaystyle \\left\\{ I_{L1} : \\frac{40000000000000.0 s^{2} + 2.04 \\cdot 10^{19} s + 4.0002 \\cdot 10^{27}}{391.0 s^{4} + 443010000.0 s^{3} + 8.0144391 \\cdot 10^{16} s^{2} + 4.44114 \\cdot 10^{22} s + 4.0022001 \\cdot 10^{30}}, \\  I_{L2} : \\frac{- 6000000000000.0 s^{2} - 6.0 \\cdot 10^{16} s}{391.0 s^{4} + 443010000.0 s^{3} + 8.0144391 \\cdot 10^{16} s^{2} + 4.44114 \\cdot 10^{22} s + 4.0022001 \\cdot 10^{30}}, \\  I_{V1} : \\frac{- 391.0 s^{4} - 403910000.0 s^{3} - 8.0104 \\cdot 10^{16} s^{2} - 4.0401 \\cdot 10^{22} s - 4.0002 \\cdot 10^{30}}{391000.0 s^{4} + 443010000000.0 s^{3} + 8.0144391 \\cdot 10^{19} s^{2} + 4.44114 \\cdot 10^{25} s + 4.0022001 \\cdot 10^{33}}, \\  v_{1} : 1.0, \\  v_{2} : \\frac{6.0 \\cdot 10^{20} s}{391.0 s^{4} + 443010000.0 s^{3} + 8.0144391 \\cdot 10^{16} s^{2} + 4.44114 \\cdot 10^{22} s + 4.0022001 \\cdot 10^{30}}, \\  v_{3} : \\frac{39100000.0 s^{3} + 40391000000000.0 s^{2} + 4.0104 \\cdot 10^{21} s + 2.0001 \\cdot 10^{27}}{391.0 s^{4} + 443010000.0 s^{3} + 8.0144391 \\cdot 10^{16} s^{2} + 4.44114 \\cdot 10^{22} s + 4.0022001 \\cdot 10^{30}}, \\  v_{4} : \\frac{39100000.0 s^{3} + 20391000000000.0 s^{2} + 4.0002 \\cdot 10^{21} s}{391.0 s^{4} + 443010000.0 s^{3} + 8.0144391 \\cdot 10^{16} s^{2} + 4.44114 \\cdot 10^{22} s + 4.0022001 \\cdot 10^{30}}, \\  v_{5} : \\frac{3000000000000.0 s^{2} + 6.0003 \\cdot 10^{20} s}{391.0 s^{4} + 443010000.0 s^{3} + 8.0144391 \\cdot 10^{16} s^{2} + 4.44114 \\cdot 10^{22} s + 4.0022001 \\cdot 10^{30}}\\right\\}$"
      ],
      "text/plain": [
       "⎧                                       2                                     \n",
       "⎪                     40000000000000.0⋅s  + 2.04e+19⋅s + 4.0002e+27           \n",
       "⎨I_L1: ───────────────────────────────────────────────────────────────────────\n",
       "⎪             4                3                  2                           \n",
       "⎩      391.0⋅s  + 443010000.0⋅s  + 8.0144391e+16⋅s  + 4.44114e+22⋅s + 4.002200\n",
       "\n",
       "                                                      2                       \n",
       "                                   - 6000000000000.0⋅s  - 6.0e+16⋅s           \n",
       "─────, I_L2: ─────────────────────────────────────────────────────────────────\n",
       "                    4                3                  2                     \n",
       "1e+30        391.0⋅s  + 443010000.0⋅s  + 8.0144391e+16⋅s  + 4.44114e+22⋅s + 4.\n",
       "\n",
       "                                 4                3               2           \n",
       "                        - 391.0⋅s  - 403910000.0⋅s  - 8.0104e+16⋅s  - 4.0401e+\n",
       "───────────, I_V1: ───────────────────────────────────────────────────────────\n",
       "                             4                   3                  2         \n",
       "0022001e+30        391000.0⋅s  + 443010000000.0⋅s  + 8.0144391e+19⋅s  + 4.4411\n",
       "\n",
       "                                                                              \n",
       "22⋅s - 4.0002e+30                                                      6.0e+20\n",
       "───────────────────────, v₁: 1.0, v₂: ────────────────────────────────────────\n",
       "                                             4                3               \n",
       "4e+25⋅s + 4.0022001e+33               391.0⋅s  + 443010000.0⋅s  + 8.0144391e+1\n",
       "\n",
       "                                                            3                 \n",
       "⋅s                                              39100000.0⋅s  + 40391000000000\n",
       "────────────────────────────────────, v₃: ────────────────────────────────────\n",
       "   2                                             4                3           \n",
       "6⋅s  + 4.44114e+22⋅s + 4.0022001e+30      391.0⋅s  + 443010000.0⋅s  + 8.014439\n",
       "\n",
       "    2                                                                  3      \n",
       ".0⋅s  + 4.0104e+21⋅s + 2.0001e+27                          39100000.0⋅s  + 203\n",
       "────────────────────────────────────────, v₄: ────────────────────────────────\n",
       "       2                                             4                3       \n",
       "1e+16⋅s  + 4.44114e+22⋅s + 4.0022001e+30      391.0⋅s  + 443010000.0⋅s  + 8.01\n",
       "\n",
       "               2                                                              \n",
       "91000000000.0⋅s  + 4.0002e+21⋅s                                        3000000\n",
       "────────────────────────────────────────────, v₅: ────────────────────────────\n",
       "           2                                             4                3   \n",
       "44391e+16⋅s  + 4.44114e+22⋅s + 4.0022001e+30      391.0⋅s  + 443010000.0⋅s  + \n",
       "\n",
       "          2                                     ⎫\n",
       "000000.0⋅s  + 6.0003e+20⋅s                      ⎪\n",
       "────────────────────────────────────────────────⎬\n",
       "               2                                ⎪\n",
       "8.0144391e+16⋅s  + 4.44114e+22⋅s + 4.0022001e+30⎭"
      ]
     },
     "execution_count": 14,
     "metadata": {},
     "output_type": "execute_result"
    }
   ],
   "source": [
    "u1 = solve(equ1a,X)\n",
    "u1"
   ]
  },
  {
   "cell_type": "markdown",
   "metadata": {},
   "source": [
    "## AC analysis\n",
    "Solve equations a frequency of 1.491MHz or $\\omega$ equal to 9.3682292e6 radians per second, s = 9.3682292e6j."
   ]
  },
  {
   "cell_type": "code",
   "execution_count": 15,
   "metadata": {},
   "outputs": [
    {
     "data": {
      "text/latex": [
       "$\\displaystyle \\left[\\begin{matrix}I_{V1} + 0.001 v_{1} - 0.001 v_{3}\\\\v_{2} \\cdot \\left(2.0001 + 0.093682292 i\\right) - 2.0 v_{5}\\\\- 0.001 v_{1} + v_{3} \\cdot \\left(2.001 + 0.093682292 i\\right) - 2.0 v_{4}\\\\I_{L1} - 2.0 v_{3} + 2.0 v_{4}\\\\I_{L2} - 2.0 v_{2} + 2.0 v_{5}\\\\v_{1}\\\\- 9.3682292 i I_{L1} - 1.40523438 i I_{L2} + v_{4}\\\\- 1.40523438 i I_{L1} - 9.3682292 i I_{L2} + v_{5}\\end{matrix}\\right] = \\left[\\begin{matrix}0\\\\0\\\\0\\\\0\\\\0\\\\1.0\\\\0\\\\0\\end{matrix}\\right]$"
      ],
      "text/plain": [
       "⎡          I_V1 + 0.001⋅v₁ - 0.001⋅v₃           ⎤   ⎡ 0 ⎤\n",
       "⎢                                               ⎥   ⎢   ⎥\n",
       "⎢     v₂⋅(2.0001 + 0.093682292⋅ⅈ) - 2.0⋅v₅      ⎥   ⎢ 0 ⎥\n",
       "⎢                                               ⎥   ⎢   ⎥\n",
       "⎢-0.001⋅v₁ + v₃⋅(2.001 + 0.093682292⋅ⅈ) - 2.0⋅v₄⎥   ⎢ 0 ⎥\n",
       "⎢                                               ⎥   ⎢   ⎥\n",
       "⎢            I_L1 - 2.0⋅v₃ + 2.0⋅v₄             ⎥   ⎢ 0 ⎥\n",
       "⎢                                               ⎥ = ⎢   ⎥\n",
       "⎢            I_L2 - 2.0⋅v₂ + 2.0⋅v₅             ⎥   ⎢ 0 ⎥\n",
       "⎢                                               ⎥   ⎢   ⎥\n",
       "⎢                      v₁                       ⎥   ⎢1.0⎥\n",
       "⎢                                               ⎥   ⎢   ⎥\n",
       "⎢  -9.3682292⋅ⅈ⋅I_L1 - 1.40523438⋅ⅈ⋅I_L2 + v₄   ⎥   ⎢ 0 ⎥\n",
       "⎢                                               ⎥   ⎢   ⎥\n",
       "⎣  -1.40523438⋅ⅈ⋅I_L1 - 9.3682292⋅ⅈ⋅I_L2 + v₅   ⎦   ⎣ 0 ⎦"
      ]
     },
     "execution_count": 15,
     "metadata": {},
     "output_type": "execute_result"
    }
   ],
   "source": [
    "equ1a_1rad_per_s = equ1a.subs({s:9.3682292e6j})\n",
    "equ1a_1rad_per_s  # display the equations"
   ]
  },
  {
   "cell_type": "code",
   "execution_count": 16,
   "metadata": {},
   "outputs": [
    {
     "data": {
      "image/png": "[encoded data removed]",
      "text/latex": [
       "$\\displaystyle \\left\\{ I_{L1} : 5.09621815338978 \\cdot 10^{-5} - 0.00946910929361758 i, \\  I_{L2} : -0.00341102801805529 - 0.00885202679501199 i, \\  I_{V1} : -0.000898826560341741 - 9.05042309178178 \\cdot 10^{-6} i, \\  v_{1} : 1.0, \\  v_{2} : 0.094528619818555 - 0.0363096918686984 i, \\  v_{3} : 0.101173439658259 - 0.00905042309178178 i, \\  v_{4} : 0.101147958567492 - 0.00431586844497299 i, \\  v_{5} : 0.0962341338275827 - 0.0318836784711925 i\\right\\}$"
      ],
      "text/plain": [
       "{I_L1: 5.09621815338978e-5 - 0.00946910929361758⋅ⅈ, I_L2: -0.00341102801805529\n",
       " - 0.00885202679501199⋅ⅈ, I_V1: -0.000898826560341741 - 9.05042309178178e-6⋅ⅈ,\n",
       " v₁: 1.0, v₂: 0.094528619818555 - 0.0363096918686984⋅ⅈ, v₃: 0.101173439658259 \n",
       "- 0.00905042309178178⋅ⅈ, v₄: 0.101147958567492 - 0.00431586844497299⋅ⅈ, v₅: 0.\n",
       "0962341338275827 - 0.0318836784711925⋅ⅈ}"
      ]
     },
     "execution_count": 16,
     "metadata": {},
     "output_type": "execute_result"
    }
   ],
   "source": [
    "ans1 = solve(equ1a_1rad_per_s,X)\n",
    "ans1"
   ]
  },
  {
   "cell_type": "code",
   "execution_count": 17,
   "metadata": {},
   "outputs": [
    {
     "name": "stdout",
     "output_type": "stream",
     "text": [
      "v1   : mag:   1.000000 phase:     0.00000 deg\n",
      "v2   : mag:   0.101262 phase:   -21.01244 deg\n",
      "v3   : mag:   0.101577 phase:    -5.11176 deg\n",
      "v4   : mag:   0.101240 phase:    -2.44326 deg\n",
      "v5   : mag:   0.101378 phase:   -18.33074 deg\n",
      "I_V1 : mag:   0.000899 phase:  -179.42310 deg\n",
      "I_L1 : mag:   0.009469 phase:   -89.69164 deg\n",
      "I_L2 : mag:   0.009486 phase:  -111.07360 deg\n"
     ]
    }
   ],
   "source": [
    "for name, value in ans1.items():\n",
    "    print('{:5s}: mag: {:10.6f} phase: {:11.5f} deg'.format(str(name),float(abs(value)),float(arg(value)*180/np.pi)))"
   ]
  },
  {
   "cell_type": "markdown",
   "metadata": {},
   "source": [
    "## AC Sweep\n",
    "Looking at node 2 voltage."
   ]
  },
  {
   "cell_type": "code",
   "execution_count": 18,
   "metadata": {
    "collapsed": false,
    "jupyter": {
     "outputs_hidden": false
    }
   },
   "outputs": [
    {
     "data": {
      "image/png": "[encoded data removed]",
      "text/latex": [
       "$\\displaystyle \\frac{6.0 \\cdot 10^{20} s}{391.0 s^{4} + 443010000.0 s^{3} + 8.0144391 \\cdot 10^{16} s^{2} + 4.44114 \\cdot 10^{22} s + 4.0022001 \\cdot 10^{30}}$"
      ],
      "text/plain": [
       "                                 6.0e+20⋅s                                  \n",
       "────────────────────────────────────────────────────────────────────────────\n",
       "       4                3                  2                                \n",
       "391.0⋅s  + 443010000.0⋅s  + 8.0144391e+16⋅s  + 4.44114e+22⋅s + 4.0022001e+30"
      ]
     },
     "execution_count": 18,
     "metadata": {},
     "output_type": "execute_result"
    }
   ],
   "source": [
    "H = u1[v2]\n",
    "H"
   ]
  },
  {
   "cell_type": "code",
   "execution_count": 19,
   "metadata": {
    "collapsed": false,
    "jupyter": {
     "outputs_hidden": false
    }
   },
   "outputs": [],
   "source": [
    "num, denom = fraction(H) #returns numerator and denominator\n",
    "\n",
    "# convert symbolic to numpy polynomial\n",
    "a = np.array(Poly(num, s).all_coeffs(), dtype=float)\n",
    "b = np.array(Poly(denom, s).all_coeffs(), dtype=float)\n",
    "system = (a, b) # system for circuit"
   ]
  },
  {
   "cell_type": "code",
   "execution_count": 20,
   "metadata": {
    "collapsed": false,
    "jupyter": {
     "outputs_hidden": false
    }
   },
   "outputs": [],
   "source": [
    "x = np.logspace(6, 6.5, 1000, endpoint=True)*2*np.pi\n",
    "w, mag, phase = signal.bode(system, w=x) # returns: rad/s, mag in dB, phase in deg"
   ]
  },
  {
   "cell_type": "code",
   "execution_count": 21,
   "metadata": {},
   "outputs": [
    {
     "data": {
      "image/png": "[encoded data removed]",
      "text/plain": [
       "<Figure size 640x480 with 2 Axes>"
      ]
     },
     "metadata": {},
     "output_type": "display_data"
    }
   ],
   "source": [
    "fig, ax1 = plt.subplots()\n",
    "ax1.set_ylabel('magnitude, dB')\n",
    "ax1.set_xlabel('frequency, Hz')\n",
    "\n",
    "plt.semilogx(w/(2*np.pi), mag,'-k')    # Bode magnitude plot\n",
    "\n",
    "ax1.tick_params(axis='y')\n",
    "plt.grid()\n",
    "\n",
    "# instantiate a second y-axes that shares the same x-axis\n",
    "ax2 = ax1.twinx()\n",
    "plt.semilogx(w/(2*np.pi), phase,':',color='b')  # Bode phase plot\n",
    "\n",
    "ax2.set_ylabel('phase, deg',color='b')\n",
    "ax2.tick_params(axis='y', labelcolor='b')\n",
    "#ax2.set_ylim((-5,25))\n",
    "\n",
    "plt.title('Bode plot')\n",
    "plt.show()"
   ]
  },
  {
   "cell_type": "code",
   "execution_count": 22,
   "metadata": {},
   "outputs": [
    {
     "name": "stdout",
     "output_type": "stream",
     "text": [
      "peak: -19.89 dB at 1.490 MHz\n"
     ]
    }
   ],
   "source": [
    "print('peak: {:.2f} dB at {:.3f} MHz'.format(mag.max(),w[np.argmax(mag)]/(2*np.pi)/1e6,))"
   ]
  },
  {
   "cell_type": "code",
   "execution_count": null,
   "metadata": {},
   "outputs": [],
   "source": []
  }
 ],
 "metadata": {
  "kernelspec": {
   "display_name": "Python 3 (ipykernel)",
   "language": "python",
   "name": "python3"
  },
  "language_info": {
   "codemirror_mode": {
    "name": "ipython",
    "version": 3
   },
   "file_extension": ".py",
   "mimetype": "text/x-python",
   "name": "python",
   "nbconvert_exporter": "python",
   "pygments_lexer": "ipython3",
   "version": "3.10.9"
  }
 },
 "nbformat": 4,
 "nbformat_minor": 4
}
