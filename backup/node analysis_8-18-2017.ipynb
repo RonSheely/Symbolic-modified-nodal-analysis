{
 "cells": [
  {
   "cell_type": "markdown",
   "metadata": {
    "collapsed": false
   },
   "source": [
    "# NODE ANALYSIS PROGRAM"
   ]
  },
  {
   "cell_type": "markdown",
   "metadata": {
    "collapsed": false
   },
   "source": [
    "```\n",
    "Python code to generate nodal equations from a circuit net list\n",
    "by Tony\n",
    "Date: April 17, 2017\n",
    "Name: network.ipynb\n",
    "Synopsis: This program will read in a spice type file and compute the node equations.\n",
    "\n",
    "Description:\n",
    "\n",
    "Requires: Python version 3 or higher\n",
    "Author: Tony Cirineo\n",
    "Revision History\n",
    "7/1/2015: Ver 1 - coding started, derived from network.c code\n",
    "\n",
    "Todo\n",
    "need to merge DC and AC analysis, omega is the frequency variable\n",
    "\n",
    "```"
   ]
  },
  {
   "cell_type": "code",
   "execution_count": 63,
   "metadata": {
    "collapsed": false
   },
   "outputs": [
   ],
   "source": [
    "import os\n",
    "import re as re\n",
    "#import sympy as sympy\n",
    "import numpy as np\n",
    "import pandas as pd\n",
    "# import matplotlib.pyplot as plt\n",
    "#init_printing()"
   ]
  },
  {
   "cell_type": "markdown",
   "metadata": {
    "collapsed": false
   },
   "source": [
    "#### open file and preprocess it\n",
    "- remove blank lines and comments\n",
    "- converts all lower case to upper\n",
    "- removes extra spaces between entries\n",
    "- count number of entries on each line, make sure the count is correct"
   ]
  },
  {
   "cell_type": "code",
   "execution_count": 64,
   "metadata": {
    "collapsed": false
   },
   "outputs": [
   ],
   "source": [
    "fn = 'TEST2'\n",
    "fd1 = open(fn+'.NET','r')\n",
    "content = fd1.readlines()\n",
    "content = [x.strip() for x in content]  #remove leading and trailing white space\n",
    "# remove empty lines\n",
    "while '' in content:\n",
    "    content.pop(content.index(''))\n",
    "\n",
    "# remove comment lines, these start with a asterisk *\n",
    "content = [n for n in content if not n.startswith('*')]\n",
    "# converts all lower case to upper\n",
    "content = [x.upper() for x in content]\n",
    "# removes extra spaces between entries\n",
    "content = [' '.join(x.split()) for x in content]"
   ]
  },
  {
   "cell_type": "code",
   "execution_count": 65,
   "metadata": {
    "collapsed": false
   },
   "outputs": [
   ],
   "source": [
    "branch_cnt = len(content)\n",
    "# chech number of entries on each line\n",
    "for i in range(branch_cnt):\n",
    "    x = content[i][0]\n",
    "    tk_cnt = len(content[i].split())\n",
    "\n",
    "    if (x == 'R') or (x == 'L') or (x == 'C'):\n",
    "        if tk_cnt != 4:\n",
    "            print(\"branch {:d} not formatted correctly, {:s}\".format(i,content[i]))\n",
    "            print(\"1had {:d} items and should only be 4\".format(tk_cnt))\n",
    "    elif (x == 'V') or (x == 'I'):\n",
    "        if (tk_cnt != 6) and (tk_cnt != 7):\n",
    "            print(\"branch {:d} not formatted correctly, {:s}\".format(i,content[i]))\n",
    "            print(\"2had {:d} items and should only be 6 or 7\".format(tk_cnt))\n",
    "    elif (x == 'E') or (x == 'F') or (x == 'G') or (x == 'H'):\n",
    "        if (tk_cnt != 6):\n",
    "            print(\"branch {:d} not formatted correctly, {}\".format(i,content[i]))\n",
    "            print(\"3had {:d} items and should only be 6\".format(tk_cnt))\n",
    "    else:\n",
    "        print(\"unknown element type in branch {:d}, {}\".format(i,content[i]))"
   ]
  },
  {
   "cell_type": "markdown",
   "metadata": {
    "collapsed": false
   },
   "source": [
    "#### PARSER\n",
    "- puts branch elements into structure\n",
    "- counts number of nodes"
   ]
  },
  {
   "cell_type": "code",
   "execution_count": 66,
   "metadata": {
    "collapsed": false
   },
   "outputs": [
   ],
   "source": [
    "# try puting the branch structre in a pandas data frame\n",
    "count = []\n",
    "element = []   # type of element\n",
    "p_node = []   # positive node\n",
    "n_node = []  #  neg node\n",
    "cp_node = []   # controlling pos node of branch\n",
    "cn_node = [] # controlling neg node of branch\n",
    "source_type = []  # 1 = AC, 2 = DC source, 3 for multi-terminal\n",
    "value = []   # value of element or voltage\n",
    "phase = []   # AC phase\n",
    "source_imp = [] # source impedance\n",
    "\n",
    "df = pd.DataFrame(index=count, columns=['element','p node','n node','cp node','cn node',\n",
    "    'source type','value','phase','source imp'])"
   ]
  },
  {
   "cell_type": "markdown",
   "metadata": {
    "collapsed": false
   },
   "source": [
    "#### INDEPENDENT SOURCES\n",
    "- functions to load AC and DC voltage and current sources into branch structure"
   ]
  },
  {
   "cell_type": "code",
   "execution_count": 67,
   "metadata": {
    "collapsed": false
   },
   "outputs": [
   ],
   "source": [
    "# loads AC and DC voltage and current sources into branch structure\n",
    "def indep_source(br_nu):\n",
    "    tk = content[br_nu].split()\n",
    "    df.loc[br_nu,'element'] = tk[0]\n",
    "    df.loc[br_nu,'p node'] = int(tk[1])\n",
    "    df.loc[br_nu,'n node'] = int(tk[2])\n",
    "    df.loc[br_nu,'source type'] = tk[3]\n",
    "    if tk[3] == 'AC':\n",
    "        df.loc[br_nu,'value'] = float(tk[4])\n",
    "        df.loc[br_nu,'phase'] = float(tk[5])\n",
    "        df.loc[br_nu,'source imp'] = float(tk[6])\n",
    "    if tk[3] == 'DC':\n",
    "        df.loc[br_nu,'value'] = float(tk[4])\n",
    "        df.loc[br_nu,'source imp'] = float(tk[6])"
   ]
  },
  {
   "cell_type": "code",
   "execution_count": 68,
   "metadata": {
    "collapsed": false
   },
   "outputs": [
   ],
   "source": [
    "# loads passive elements into branch structure\n",
    "def pass_element(br_nu):\n",
    "    tk = content[br_nu].split()\n",
    "    df.loc[br_nu,'element'] = tk[0]\n",
    "    df.loc[br_nu,'p node'] = int(tk[1])\n",
    "    df.loc[br_nu,'n node'] = int(tk[2])\n",
    "    df.loc[br_nu,'value'] = float(tk[3])"
   ]
  },
  {
   "cell_type": "code",
   "execution_count": 69,
   "metadata": {
    "collapsed": false
   },
   "outputs": [
   ],
   "source": [
    "'''\n",
    "loads multi-terminal sub-networks\n",
    "into branch structure\n",
    "Types:\n",
    "E - VCVS\n",
    "G - VCCS\n",
    "F - CCCS\n",
    "H - CCVS\n",
    "not implemented yet:\n",
    "K - Coupled inductors\n",
    "'''\n",
    "def sub_network(br_nu):\n",
    "    tk = content[br_nu].split()\n",
    "    df.loc[br_nu,'element'] = tk[0]\n",
    "    df.loc[br_nu,'p node'] = int(tk[1])\n",
    "    df.loc[br_nu,'n node'] = int(tk[2])\n",
    "    df.loc[br_nu,'cp node'] = int(tk[3])\n",
    "    df.loc[br_nu,'cn node'] = int(tk[4])\n",
    "    df.loc[br_nu,'value'] = float(tk[5])"
   ]
  },
  {
   "cell_type": "code",
   "execution_count": 70,
   "metadata": {
    "collapsed": false
   },
   "outputs": [
   ],
   "source": [
    "# scan df and get largest node number\n",
    "def count_nodes():\n",
    "    # need to ckeck that nodes are consecutive\n",
    "    # fill array with node numbers\n",
    "    p = np.zeros(branch_cnt+1)\n",
    "    for i in range(branch_cnt-1):\n",
    "        p[df['p node'][i]] = df['p node'][i]\n",
    "        p[df['n node'][i]] = df['n node'][i]\n",
    "\n",
    "    # find the largest node number\n",
    "    if df['n node'].max() > df['p node'].max():\n",
    "        largest = df['n node'].max()\n",
    "    else:\n",
    "        largest =  df['p node'].max()\n",
    "\n",
    "        largest = int(largest)\n",
    "    # check for unfilled elements, skip node 0\n",
    "    for i in range(1,largest):\n",
    "        if p[i] == 0:\n",
    "            print(\"nodes not in continuous order\");\n",
    "\n",
    "    return largest"
   ]
  },
  {
   "cell_type": "code",
   "execution_count": 71,
   "metadata": {
    "collapsed": false
   },
   "outputs": [
   ],
   "source": [
    "# load branches into data frame\n",
    "for i in range(branch_cnt):\n",
    "    x = content[i][0]\n",
    "\n",
    "    if (x == 'R') or (x == 'L') or (x == 'C'):\n",
    "        pass_element(i)\n",
    "    elif (x == 'V') or (x == 'I'):\n",
    "        indep_source(i)\n",
    "    elif (x == 'E') or (x == 'F') or (x == 'G') or (x == 'H'):\n",
    "        sub_network(i)\n",
    "    else:\n",
    "        print(\"unknown element type in branch {:d}, {}\".format(i,content[i]))\n",
    "\n",
    "# count number of nodes\n",
    "num_nodes = count_nodes()"
   ]
  },
  {
   "cell_type": "code",
   "execution_count": 72,
   "metadata": {
    "collapsed": false
   },
   "outputs": [
    {
     "data": {
      "text/plain": [
       "10"
      ]
     },
     "execution_count": 72,
     "metadata": {
     },
     "output_type": "execute_result"
    }
   ],
   "source": [
    "num_nodes"
   ]
  },
  {
   "cell_type": "code",
   "execution_count": 49,
   "metadata": {
    "collapsed": false
   },
   "outputs": [
    {
     "data": {
      "text/html": [
       "<div>\n",
       "<style>\n",
       "    .dataframe thead tr:only-child th {\n",
       "        text-align: right;\n",
       "    }\n",
       "\n",
       "    .dataframe thead th {\n",
       "        text-align: left;\n",
       "    }\n",
       "\n",
       "    .dataframe tbody tr th {\n",
       "        vertical-align: top;\n",
       "    }\n",
       "</style>\n",
       "<table border=\"1\" class=\"dataframe\">\n",
       "  <thead>\n",
       "    <tr style=\"text-align: right;\">\n",
       "      <th></th>\n",
       "      <th>element</th>\n",
       "      <th>p node</th>\n",
       "      <th>n node</th>\n",
       "      <th>cp node</th>\n",
       "      <th>cn node</th>\n",
       "      <th>source type</th>\n",
       "      <th>value</th>\n",
       "      <th>phase</th>\n",
       "      <th>source imp</th>\n",
       "    </tr>\n",
       "  </thead>\n",
       "  <tbody>\n",
       "    <tr>\n",
       "      <th>0</th>\n",
       "      <td>V1</td>\n",
       "      <td>1</td>\n",
       "      <td>0</td>\n",
       "      <td>NaN</td>\n",
       "      <td>NaN</td>\n",
       "      <td>AC</td>\n",
       "      <td>10</td>\n",
       "      <td>0</td>\n",
       "      <td>1</td>\n",
       "    </tr>\n",
       "    <tr>\n",
       "      <th>1</th>\n",
       "      <td>R1</td>\n",
       "      <td>10</td>\n",
       "      <td>3</td>\n",
       "      <td>NaN</td>\n",
       "      <td>NaN</td>\n",
       "      <td>NaN</td>\n",
       "      <td>1</td>\n",
       "      <td>NaN</td>\n",
       "      <td>NaN</td>\n",
       "    </tr>\n",
       "    <tr>\n",
       "      <th>2</th>\n",
       "      <td>R2</td>\n",
       "      <td>1</td>\n",
       "      <td>2</td>\n",
       "      <td>NaN</td>\n",
       "      <td>NaN</td>\n",
       "      <td>NaN</td>\n",
       "      <td>1</td>\n",
       "      <td>NaN</td>\n",
       "      <td>NaN</td>\n",
       "    </tr>\n",
       "    <tr>\n",
       "      <th>3</th>\n",
       "      <td>R3</td>\n",
       "      <td>2</td>\n",
       "      <td>5</td>\n",
       "      <td>NaN</td>\n",
       "      <td>NaN</td>\n",
       "      <td>NaN</td>\n",
       "      <td>1</td>\n",
       "      <td>NaN</td>\n",
       "      <td>NaN</td>\n",
       "    </tr>\n",
       "    <tr>\n",
       "      <th>4</th>\n",
       "      <td>R4</td>\n",
       "      <td>3</td>\n",
       "      <td>4</td>\n",
       "      <td>NaN</td>\n",
       "      <td>NaN</td>\n",
       "      <td>NaN</td>\n",
       "      <td>1</td>\n",
       "      <td>NaN</td>\n",
       "      <td>NaN</td>\n",
       "    </tr>\n",
       "    <tr>\n",
       "      <th>5</th>\n",
       "      <td>R5</td>\n",
       "      <td>5</td>\n",
       "      <td>7</td>\n",
       "      <td>NaN</td>\n",
       "      <td>NaN</td>\n",
       "      <td>NaN</td>\n",
       "      <td>1</td>\n",
       "      <td>NaN</td>\n",
       "      <td>NaN</td>\n",
       "    </tr>\n",
       "    <tr>\n",
       "      <th>6</th>\n",
       "      <td>R6</td>\n",
       "      <td>8</td>\n",
       "      <td>9</td>\n",
       "      <td>NaN</td>\n",
       "      <td>NaN</td>\n",
       "      <td>NaN</td>\n",
       "      <td>1</td>\n",
       "      <td>NaN</td>\n",
       "      <td>NaN</td>\n",
       "    </tr>\n",
       "    <tr>\n",
       "      <th>7</th>\n",
       "      <td>C1</td>\n",
       "      <td>1</td>\n",
       "      <td>10</td>\n",
       "      <td>NaN</td>\n",
       "      <td>NaN</td>\n",
       "      <td>NaN</td>\n",
       "      <td>1</td>\n",
       "      <td>NaN</td>\n",
       "      <td>NaN</td>\n",
       "    </tr>\n",
       "    <tr>\n",
       "      <th>8</th>\n",
       "      <td>C2</td>\n",
       "      <td>5</td>\n",
       "      <td>0</td>\n",
       "      <td>NaN</td>\n",
       "      <td>NaN</td>\n",
       "      <td>NaN</td>\n",
       "      <td>1</td>\n",
       "      <td>NaN</td>\n",
       "      <td>NaN</td>\n",
       "    </tr>\n",
       "    <tr>\n",
       "      <th>9</th>\n",
       "      <td>C3</td>\n",
       "      <td>4</td>\n",
       "      <td>6</td>\n",
       "      <td>NaN</td>\n",
       "      <td>NaN</td>\n",
       "      <td>NaN</td>\n",
       "      <td>1</td>\n",
       "      <td>NaN</td>\n",
       "      <td>NaN</td>\n",
       "    </tr>\n",
       "    <tr>\n",
       "      <th>10</th>\n",
       "      <td>C4</td>\n",
       "      <td>6</td>\n",
       "      <td>8</td>\n",
       "      <td>NaN</td>\n",
       "      <td>NaN</td>\n",
       "      <td>NaN</td>\n",
       "      <td>1</td>\n",
       "      <td>NaN</td>\n",
       "      <td>NaN</td>\n",
       "    </tr>\n",
       "    <tr>\n",
       "      <th>11</th>\n",
       "      <td>C5</td>\n",
       "      <td>9</td>\n",
       "      <td>0</td>\n",
       "      <td>NaN</td>\n",
       "      <td>NaN</td>\n",
       "      <td>NaN</td>\n",
       "      <td>1</td>\n",
       "      <td>NaN</td>\n",
       "      <td>NaN</td>\n",
       "    </tr>\n",
       "    <tr>\n",
       "      <th>12</th>\n",
       "      <td>L1</td>\n",
       "      <td>2</td>\n",
       "      <td>0</td>\n",
       "      <td>NaN</td>\n",
       "      <td>NaN</td>\n",
       "      <td>NaN</td>\n",
       "      <td>1</td>\n",
       "      <td>NaN</td>\n",
       "      <td>NaN</td>\n",
       "    </tr>\n",
       "    <tr>\n",
       "      <th>13</th>\n",
       "      <td>L2</td>\n",
       "      <td>4</td>\n",
       "      <td>5</td>\n",
       "      <td>NaN</td>\n",
       "      <td>NaN</td>\n",
       "      <td>NaN</td>\n",
       "      <td>1</td>\n",
       "      <td>NaN</td>\n",
       "      <td>NaN</td>\n",
       "    </tr>\n",
       "    <tr>\n",
       "      <th>14</th>\n",
       "      <td>L3</td>\n",
       "      <td>7</td>\n",
       "      <td>0</td>\n",
       "      <td>NaN</td>\n",
       "      <td>NaN</td>\n",
       "      <td>NaN</td>\n",
       "      <td>1</td>\n",
       "      <td>NaN</td>\n",
       "      <td>NaN</td>\n",
       "    </tr>\n",
       "    <tr>\n",
       "      <th>15</th>\n",
       "      <td>L4</td>\n",
       "      <td>7</td>\n",
       "      <td>9</td>\n",
       "      <td>NaN</td>\n",
       "      <td>NaN</td>\n",
       "      <td>NaN</td>\n",
       "      <td>1</td>\n",
       "      <td>NaN</td>\n",
       "      <td>NaN</td>\n",
       "    </tr>\n",
       "  </tbody>\n",
       "</table>\n",
       "</div>"
      ]
     },
     "execution_count": 49,
     "metadata": {
     },
     "output_type": "execute_result"
    }
   ],
   "source": [
    "df"
   ]
  },
  {
   "cell_type": "code",
   "execution_count": 73,
   "metadata": {
    "collapsed": false
   },
   "outputs": [
   ],
   "source": [
    "# store the data frame as a pickle file\n",
    "#build file name\n",
    "df.to_pickle(fn+'.pkl')"
   ]
  },
  {
   "cell_type": "markdown",
   "metadata": {
    "collapsed": false
   },
   "source": [
    "#### Build the NAM\n",
    "- load up network matrix and vectors\n",
    "- load V & I vectors with vi_vector()\n",
    "- load branch admittances with load_admit_list()\n",
    "- build NAM and Y with build_nam()\n",
    "\n",
    "top level calls are from dc_analysis() and dc_output(), need to generalized the AC and DC case"
   ]
  },
  {
   "cell_type": "code",
   "execution_count": 74,
   "metadata": {
    "collapsed": false
   },
   "outputs": [
    {
     "data": {
      "text/plain": [
       "16"
      ]
     },
     "execution_count": 74,
     "metadata": {
     },
     "output_type": "execute_result"
    }
   ],
   "source": [
    "branch_cnt"
   ]
  },
  {
   "cell_type": "code",
   "execution_count": 75,
   "metadata": {
    "collapsed": false
   },
   "outputs": [
   ],
   "source": [
    "# initialize voltage and current source vectors\n",
    "# this function only does DC now, AC is a bit different, see C code\n",
    "V = np.zeros(branch_cnt, dtype=complex)\n",
    "I = np.zeros(branch_cnt, dtype=complex)\n",
    "\n",
    "# calculates voltage and current vectors for node equations\n",
    "def vi_vector():\n",
    "    for i in range(branch_cnt):\n",
    "        if df.loc[i,'element'] == 'V':\n",
    "            if df.loc[i,'source type'] == 'DC':\n",
    "                V[i] = df.loc[i,'value']\n",
    "            else:\n",
    "                V[i] = 0\n",
    "        if df.loc[i,'element'] == 'I':\n",
    "            if df.loc[i,'source type'] == 'DC':\n",
    "                I[i] = -df.loc[i,'value']\n",
    "            else:\n",
    "                I[i] = 0"
   ]
  },
  {
   "cell_type": "code",
   "execution_count": 3,
   "metadata": {
    "collapsed": false
   },
   "outputs": [
    {
     "ename": "NameError",
     "evalue": "name 'np' is not defined",
     "output_type": "error",
     "traceback": [
      "\u001b[0;31m---------------------------------------------------------------------------\u001b[0m",
      "\u001b[0;31mNameError\u001b[0m                                 Traceback (most recent call last)",
      "\u001b[0;32m<ipython-input-3-828965973d47>\u001b[0m in \u001b[0;36m<module>\u001b[0;34m()\u001b[0m\n\u001b[1;32m      1\u001b[0m \u001b[0;31m# initalize admmitance list, need to generalize for AC case\u001b[0m\u001b[0;34m\u001b[0m\u001b[0;34m\u001b[0m\u001b[0m\n\u001b[0;32m----> 2\u001b[0;31m \u001b[0mY\u001b[0m \u001b[0;34m=\u001b[0m \u001b[0mnp\u001b[0m\u001b[0;34m.\u001b[0m\u001b[0mzeros\u001b[0m\u001b[0;34m(\u001b[0m\u001b[0mbranch_cnt\u001b[0m\u001b[0;34m,\u001b[0m \u001b[0mdtype\u001b[0m\u001b[0;34m=\u001b[0m\u001b[0mcomplex\u001b[0m\u001b[0;34m)\u001b[0m\u001b[0;34m\u001b[0m\u001b[0m\n\u001b[0m\u001b[1;32m      3\u001b[0m \u001b[0;31m#JY = np.zeros(branch_cnt) don't need just use dthe 1j factor\u001b[0m\u001b[0;34m\u001b[0m\u001b[0;34m\u001b[0m\u001b[0m\n\u001b[1;32m      4\u001b[0m \u001b[0mSHORT\u001b[0m \u001b[0;34m=\u001b[0m \u001b[0;36m1E-10\u001b[0m\u001b[0;34m\u001b[0m\u001b[0m\n\u001b[1;32m      5\u001b[0m \u001b[0mOPEN\u001b[0m \u001b[0;34m=\u001b[0m \u001b[0;36m1E+10\u001b[0m\u001b[0;34m\u001b[0m\u001b[0m\n",
      "\u001b[0;31mNameError\u001b[0m: name 'np' is not defined"
     ]
    }
   ],
   "source": [
    "# initalize admmitance list, need to generalize for AC case\n",
    "Y = np.zeros(branch_cnt, dtype=complex)\n",
    "SHORT = 1E-10\n",
    "OPEN = 1E+10\n",
    "# formulates admittances list\n",
    "def load_admit_list():\n",
    "    #load R L & C branch values into Y and JY admittence lists\n",
    "    for i in range(branch_cnt):\n",
    "        x = df.loc[i,'element']\n",
    "        if x == 'R':\n",
    "            Y[i] = 1/df.loc[i,'value']\n",
    "        elif x == 'L':\n",
    "            Y[i] = OPEN   #for AC JY[i] = 1/(df.loc[i,'value']*omega*1J)\n",
    "        elif x == 'C':\n",
    "            Y[i] = SHORT  # df.loc[i,'value']*omega*1J;\n",
    "        elif (x == 'V') or (x == 'I'): #put in source impedance\n",
    "            Y[i] = 1/df.loc[i,'source imp']\n",
    "            # take care of AC sources\n",
    "            if df.loc[i,'type'] == 'AC':\n",
    "                if x == 'V':  Y[i] = SHORT;\n",
    "                if x == 'I':  Y[i] = OPEN;\n",
    "            else:\n",
    "                Y[i] = 1/df.loc[i,'source_imp']\n",
    "        else:\n",
    "            print('Problem loading R L & C\\'s into admittance list')"
   ]
  },
  {
   "cell_type": "code",
   "execution_count": 90,
   "metadata": {
    "collapsed": false
   },
   "outputs": [
    {
     "data": {
      "text/plain": [
       "(1+1j)"
      ]
     },
     "execution_count": 90,
     "metadata": {
     },
     "output_type": "execute_result"
    }
   ],
   "source": [
    "V[0] = 1\n",
    "Y[0]*V[0]"
   ]
  },
  {
   "cell_type": "code",
   "execution_count": 1,
   "metadata": {
    "collapsed": false
   },
   "outputs": [
    {
     "ename": "NameError",
     "evalue": "name 'np' is not defined",
     "output_type": "error",
     "traceback": [
      "\u001b[0;31m---------------------------------------------------------------------------\u001b[0m",
      "\u001b[0;31mNameError\u001b[0m                                 Traceback (most recent call last)",
      "\u001b[0;32m<ipython-input-1-0d5df2b50017>\u001b[0m in \u001b[0;36m<module>\u001b[0;34m()\u001b[0m\n\u001b[1;32m      8\u001b[0m '''\n\u001b[1;32m      9\u001b[0m \u001b[0;31m# initialize arrays\u001b[0m\u001b[0;34m\u001b[0m\u001b[0;34m\u001b[0m\u001b[0m\n\u001b[0;32m---> 10\u001b[0;31m \u001b[0mDV\u001b[0m \u001b[0;34m=\u001b[0m \u001b[0mnp\u001b[0m\u001b[0;34m.\u001b[0m\u001b[0mzeros\u001b[0m\u001b[0;34m(\u001b[0m\u001b[0mbranch_cnt\u001b[0m\u001b[0;34m,\u001b[0m \u001b[0mdtype\u001b[0m\u001b[0;34m=\u001b[0m\u001b[0mcomplex\u001b[0m\u001b[0;34m)\u001b[0m\u001b[0;34m\u001b[0m\u001b[0m\n\u001b[0m\u001b[1;32m     11\u001b[0m \u001b[0mNAM\u001b[0m \u001b[0;34m=\u001b[0m \u001b[0mnp\u001b[0m\u001b[0;34m.\u001b[0m\u001b[0mzeros\u001b[0m\u001b[0;34m(\u001b[0m\u001b[0;34m(\u001b[0m\u001b[0mbranch_cnt\u001b[0m\u001b[0;34m,\u001b[0m\u001b[0mbranch_cnt\u001b[0m\u001b[0;34m)\u001b[0m\u001b[0;34m,\u001b[0m \u001b[0mdtype\u001b[0m\u001b[0;34m=\u001b[0m\u001b[0mcomplex\u001b[0m\u001b[0;34m)\u001b[0m\u001b[0;34m\u001b[0m\u001b[0m\n\u001b[1;32m     12\u001b[0m \u001b[0;34m\u001b[0m\u001b[0m\n",
      "\u001b[0;31mNameError\u001b[0m: name 'np' is not defined"
     ]
    }
   ],
   "source": [
    "'''\n",
    "assembles NAM directly from circuit description\n",
    "NAM - Re part of nodal admittance matrix\n",
    "DV - Re part of the driving vector\n",
    "Y - RE branch admittence list\n",
    "UE - branch voltage source list\n",
    "IE - branch current source list\n",
    "'''\n",
    "# initialize arrays\n",
    "DV = np.zeros(branch_cnt, dtype=complex)\n",
    "NAM = np.zeros((branch_cnt,branch_cnt), dtype=complex)\n",
    "\n",
    "def build_nam():\n",
    "    # build NAM and driving vector\n",
    "    for k in range(branch_cnt):\n",
    "        # skip past multi-terminal networks\n",
    "        if df.loc[k,'source type'] == 3:  #need to check on source type\n",
    "            continue\n",
    "\n",
    "        p = df.loc[k,'p node']\n",
    "        q = df.loc[k,'n node']\n",
    "        # calculate NAM, can numpy do this math?\n",
    "        if p > 0:\n",
    "            NAM[p,p] = NAM[p,p] + Y[k]\n",
    "        if q > 0:\n",
    "            NAM[q,q] = NAM[q,q] + Y[k]\n",
    "        if p > 0 and q > 0:\n",
    "            NAM[p,q] = NAM[p,q] - Y[k]\n",
    "            NAM[q,p] = NAM[q,p] - Y[k]\n",
    "\n",
    "        # calculation of driving vector\n",
    "        current = Y[k] * V[k] - I[k]\n",
    "        if p > 0:\n",
    "            DV[p] = DV[p] + current\n",
    "        if q > 0:\n",
    "            DV[q] = DV[q] - current\n",
    "\n",
    "    # add sub-networks to NAM\n",
    "    super_impos()"
   ]
  },
  {
   "cell_type": "code",
   "execution_count": 79,
   "metadata": {
    "collapsed": false
   },
   "outputs": [
    {
     "data": {
      "text/plain": [
       "10000000000.0"
      ]
     },
     "execution_count": 79,
     "metadata": {
     },
     "output_type": "execute_result"
    }
   ],
   "source": [
   ]
  },
  {
   "cell_type": "code",
   "execution_count": 56,
   "metadata": {
    "collapsed": false
   },
   "outputs": [
    {
     "data": {
      "text/plain": [
       "'\\n    /* if no sub-networks return */\\n    if(num_multi == 0)\\n        return;\\n\\n    /* search thru network structure to find multi-terminal elements */\\n    for(k = 1,snc = 0;k <= num_branches;k++){\\n        if(branch[k-1].type  != 3)\\n            continue;\\n\\n        /* build temporary multi-terminal matrixes */\\n        switch(branch[k-1].element[0]){\\n            case \\'E\\': /* VCVS */\\n                ptr = mt_vcvs;\\n                break;\\n            case \\'G\\': /* VCCS */\\n                ptr = mt_vccs;\\n                break;\\n            case \\'F\\': /* CCCS */\\n                ptr = mt_cccs;\\n                break;\\n            case \\'H\\': /* CCVS */\\n                ptr = mt_ccvs;\\n                break;\\n            default:\\n                printf(\"\\r\\nunknown element type in branch %d\\r\\n\",k);\\n                puts(\"failed in super_impos\");\\n                exit(7);\\n        }\\n\\n        /* 1st element is size of square matrix */\\n        num_term = sub_net[snc].num_terminals = *ptr++;\\n\\n        /* allocate space for node terminal association list and temp matrix */\\n        sub_net[snc].lm = ivector(1,num_term);\\n        sub_net[snc].mt = dmatrix(1,num_term,1,num_term);\\n\\n        /* load multi-terminal matrix with network values */\\n        build_mt(sub_net[snc].mt,num_term,ptr,k);\\n\\n        /* build node/terminal association list  */\\n        sub_net[snc].lm[1] = branch[k-1].cp_node;\\n        sub_net[snc].lm[2] = branch[k-1].cn_node;\\n        sub_net[snc].lm[3] = branch[k-1].n_node;\\n        sub_net[snc].lm[4] = branch[k-1].p_node;\\n        for(i = 5;i <= num_term;i++)\\n            sub_net[snc].lm[i] = -1;\\n\\n        /* expand NAM and driving vector */\\n        for(i = 1;i <= num_term;i++){\\n            if(sub_net[snc].lm[i] < 0){\\n                /* isolated additional nodes */\\n                num_nodes += 1;     /* bump node count */\\n                expand_nam_dv();    /* grow NAM & DV */\\n                sub_net[snc].lm[i] = num_nodes;\\n                p = sub_net[snc].lm[i];\\n                /* zero added row and column */\\n                for(j = 1;j <= num_nodes;j++)\\n                    NAM[p][j] = 0.0;\\n                for(j = 1;j <= num_nodes;j++)\\n                    NAM[j][p] = 0.0;\\n                DV[p] = 0.0;\\n            }\\n        }\\n\\n        /* super position of multi-terminal admittence matrix */\\n        for(i = 1;i <= num_term;i++){\\n            p = sub_net[snc].lm[i];\\n            if(p > 0){\\n                for(j = 1;j <= num_term;j++){\\n                    q = sub_net[snc].lm[j];\\n                    if(q > 0)\\n                        NAM[p][q] = NAM[p][q] + sub_net[snc].mt[i][j];\\n                }\\n            }\\n        }\\n\\n        snc++;  /* bump index for sub-network struct */\\n    }\\n}\\n'"
      ]
     },
     "execution_count": 56,
     "metadata": {
     },
     "output_type": "execute_result"
    }
   ],
   "source": [
    "'''\n",
    "performs superposition of multi-terminal\n",
    "elements into the admittence matrix\n",
    "\n",
    "YM - multi-terminal matrix\n",
    "lm = terminal/node association list\n",
    "\n",
    "format of elements of multi-terminal matrixes\n",
    "-------------------------------------------\n",
    "| sign | g3 | g2 | g1 | p4 | p3 | p2 | p1 |\n",
    "-------------------------------------------\n",
    "\n",
    "sign - set to 1 if negative\n",
    "g1-3 - additional parameters\n",
    "p1-4 - gain factors\n",
    "'''\n",
    "def super_impos():\n",
    "    print('not supported at this time')\n",
    "\n",
    "'''\n",
    "    /* if no sub-networks return */\n",
    "    if(num_multi == 0)\n",
    "        return;\n",
    "\n",
    "    /* search thru network structure to find multi-terminal elements */\n",
    "    for(k = 1,snc = 0;k <= num_branches;k++){\n",
    "        if(branch[k-1].type  != 3)\n",
    "            continue;\n",
    "\n",
    "        /* build temporary multi-terminal matrixes */\n",
    "        switch(branch[k-1].element[0]){\n",
    "            case 'E': /* VCVS */\n",
    "                ptr = mt_vcvs;\n",
    "                break;\n",
    "            case 'G': /* VCCS */\n",
    "                ptr = mt_vccs;\n",
    "                break;\n",
    "            case 'F': /* CCCS */\n",
    "                ptr = mt_cccs;\n",
    "                break;\n",
    "            case 'H': /* CCVS */\n",
    "                ptr = mt_ccvs;\n",
    "                break;\n",
    "            default:\n",
    "                printf(\"\\r\\nunknown element type in branch %d\\r\\n\",k);\n",
    "                puts(\"failed in super_impos\");\n",
    "                exit(7);\n",
    "        }\n",
    "\n",
    "        /* 1st element is size of square matrix */\n",
    "        num_term = sub_net[snc].num_terminals = *ptr++;\n",
    "\n",
    "        /* allocate space for node terminal association list and temp matrix */\n",
    "        sub_net[snc].lm = ivector(1,num_term);\n",
    "        sub_net[snc].mt = dmatrix(1,num_term,1,num_term);\n",
    "\n",
    "        /* load multi-terminal matrix with network values */\n",
    "        build_mt(sub_net[snc].mt,num_term,ptr,k);\n",
    "\n",
    "        /* build node/terminal association list  */\n",
    "        sub_net[snc].lm[1] = branch[k-1].cp_node;\n",
    "        sub_net[snc].lm[2] = branch[k-1].cn_node;\n",
    "        sub_net[snc].lm[3] = branch[k-1].n_node;\n",
    "        sub_net[snc].lm[4] = branch[k-1].p_node;\n",
    "        for(i = 5;i <= num_term;i++)\n",
    "            sub_net[snc].lm[i] = -1;\n",
    "\n",
    "        /* expand NAM and driving vector */\n",
    "        for(i = 1;i <= num_term;i++){\n",
    "            if(sub_net[snc].lm[i] < 0){\n",
    "                /* isolated additional nodes */\n",
    "                num_nodes += 1;     /* bump node count */\n",
    "                expand_nam_dv();    /* grow NAM & DV */\n",
    "                sub_net[snc].lm[i] = num_nodes;\n",
    "                p = sub_net[snc].lm[i];\n",
    "                /* zero added row and column */\n",
    "                for(j = 1;j <= num_nodes;j++)\n",
    "                    NAM[p][j] = 0.0;\n",
    "                for(j = 1;j <= num_nodes;j++)\n",
    "                    NAM[j][p] = 0.0;\n",
    "                DV[p] = 0.0;\n",
    "            }\n",
    "        }\n",
    "\n",
    "        /* super position of multi-terminal admittence matrix */\n",
    "        for(i = 1;i <= num_term;i++){\n",
    "            p = sub_net[snc].lm[i];\n",
    "            if(p > 0){\n",
    "                for(j = 1;j <= num_term;j++){\n",
    "                    q = sub_net[snc].lm[j];\n",
    "                    if(q > 0)\n",
    "                        NAM[p][q] = NAM[p][q] + sub_net[snc].mt[i][j];\n",
    "                }\n",
    "            }\n",
    "        }\n",
    "\n",
    "        snc++;  /* bump index for sub-network struct */\n",
    "    }\n",
    "}\n",
    "'''"
   ]
  },
  {
   "cell_type": "code",
   "execution_count": 57,
   "metadata": {
    "collapsed": false
   },
   "outputs": [
   ],
   "source": [
    "vi_vector()"
   ]
  },
  {
   "cell_type": "code",
   "execution_count": 58,
   "metadata": {
    "collapsed": false
   },
   "outputs": [
    {
     "name": "stdout",
     "output_type": "stream",
     "text": [
      "Problem loading R L & C's into admittance list\n",
      "Problem loading R L & C's into admittance list\n",
      "Problem loading R L & C's into admittance list\n",
      "Problem loading R L & C's into admittance list\n",
      "Problem loading R L & C's into admittance list\n",
      "Problem loading R L & C's into admittance list\n",
      "Problem loading R L & C's into admittance list\n",
      "Problem loading R L & C's into admittance list\n",
      "Problem loading R L & C's into admittance list\n",
      "Problem loading R L & C's into admittance list\n",
      "Problem loading R L & C's into admittance list\n",
      "Problem loading R L & C's into admittance list\n",
      "Problem loading R L & C's into admittance list\n",
      "Problem loading R L & C's into admittance list\n",
      "Problem loading R L & C's into admittance list\n",
      "Problem loading R L & C's into admittance list\n"
     ]
    }
   ],
   "source": [
    "load_admit_list()"
   ]
  },
  {
   "cell_type": "code",
   "execution_count": 59,
   "metadata": {
    "collapsed": false
   },
   "outputs": [
    {
     "name": "stdout",
     "output_type": "stream",
     "text": [
      "not supported at this time\n"
     ]
    }
   ],
   "source": [
    "build_nam()"
   ]
  },
  {
   "cell_type": "code",
   "execution_count": 60,
   "metadata": {
    "collapsed": false
   },
   "outputs": [
    {
     "data": {
      "text/plain": [
       "3"
      ]
     },
     "execution_count": 60,
     "metadata": {
     },
     "output_type": "execute_result"
    }
   ],
   "source": [
    "df.loc[1,'n node']"
   ]
  },
  {
   "cell_type": "code",
   "execution_count": 61,
   "metadata": {
    "collapsed": false
   },
   "outputs": [
    {
     "ename": "IndentationError",
     "evalue": "unexpected indent (<ipython-input-61-31d1005ca758>, line 16)",
     "output_type": "error",
     "traceback": [
      "\u001b[0;36m  File \u001b[0;32m\"<ipython-input-61-31d1005ca758>\"\u001b[0;36m, line \u001b[0;32m16\u001b[0m\n\u001b[0;31m    *(calculate, branch, voltages, and, currents, */)\u001b[0m\n\u001b[0m    ^\u001b[0m\n\u001b[0;31mIndentationError\u001b[0m\u001b[0;31m:\u001b[0m unexpected indent\n"
     ]
    }
   ],
   "source": [
    "'''\n",
    "DC ANALYSIS\n",
    "SOLVED BY THE NODAL ADMITTANCE METHOD\n",
    "Y - branch admittance list\n",
    "I - independent current source\n",
    "E - independent voltage source\n",
    "NAM = nodal admittance matrix\n",
    "DV - driving vector\n",
    "'''\n",
    "\n",
    "# load up network matrix and vectors\n",
    "vi_vector()        # load V & I vectors\n",
    "load_admit_list()  # load branch admittances\n",
    "build_nam()        # build NAM and Y\n",
    "\n",
    "    /* calculate branch voltages and currents */\n",
    "    for(i = 1;i <= num_branches;i++){\n",
    "        p = branch[i-1].p_node;\n",
    "        q = branch[i-1].n_node;\n",
    "\n",
    "        if(p > 0 && q == 0){\n",
    "            BV[i] = NV[p] - V[i];\n",
    "            BI[i] = Y[i] * BV[i];\n",
    "        }\n",
    "\n",
    "        if(q > 0 && p == 0){\n",
    "            BV[i] =  - (NV[q] + V[i]);\n",
    "            BI[i] = Y[i] * BV[i];\n",
    "        }\n",
    "\n",
    "        if(p > 0 && q > 0){\n",
    "            BV[i] = NV[p] - NV[q] - V[i];\n",
    "            BI[i] = Y[i] * BV[i];\n",
    "        }\n",
    "    }\n",
    "    /* determine terminal currents of sub-networks */\n",
    "    terminal_currents();"
   ]
  },
  {
   "cell_type": "code",
   "execution_count": 0,
   "metadata": {
    "collapsed": false
   },
   "outputs": [
   ],
   "source": [
   ]
  }
 ],
 "metadata": {
  "kernelspec": {
   "display_name": "Python 3 (Anaconda)",
   "language": "python",
   "name": "anaconda3"
  },
  "language_info": {
   "codemirror_mode": {
    "name": "ipython",
    "version": 3
   },
   "file_extension": ".py",
   "mimetype": "text/x-python",
   "name": "python",
   "nbconvert_exporter": "python",
   "pygments_lexer": "ipython3",
   "version": "3.5.4"
  }
 },
 "nbformat": 4,
 "nbformat_minor": 0
}