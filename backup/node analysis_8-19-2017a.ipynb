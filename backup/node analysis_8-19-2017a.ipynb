{
 "cells": [
  {
   "cell_type": "markdown",
   "metadata": {
    "collapsed": false
   },
   "source": [
    "# NODE ANALYSIS PROGRAM"
   ]
  },
  {
   "cell_type": "markdown",
   "metadata": {
    "collapsed": false
   },
   "source": [
    "```\n",
    "Python code to generate nodal equations from a circuit net list\n",
    "by Tony\n",
    "Date: April 17, 2017\n",
    "Name: node analysis.ipynb\n",
    "Synopsis: This program will read in a spice type file and compute the node equations.\n",
    "Description: Follows Erik Cheever's Analysis of  Resistive Circuits [page](http://www.swarthmore.edu/NatSci/echeeve1/Ref/mna/MNA1.html) to generate modified nodal equations.  I somewhat followed his matlab file.  \n",
    "Requires: Python version 3 or higher\n",
    "Author: Tony Cirineo\n",
    "Revision History\n",
    "7/1/2015: Ver 1 - coding started, derived from network.c code\n",
    "8/18/2017\n",
    "change approach, now implementing a modified nodal analysis\n",
    "8/19/2017\n",
    "Wrote some code to generate symbolic matrices, work ok, so heading down the sympy path. Basic debugging finished, but still need to verify some circuits using Ls and Cs.\n",
    "Still to do:\n",
    "Clean up comments\n",
    "Add controlled sources\n",
    "Add Op Amps\n",
    "Add coupled inductors\n",
    "\n",
    "\n",
    "\n",
    "```"
   ]
  },
  {
   "cell_type": "code",
   "execution_count": 1,
   "metadata": {
    "collapsed": false
   },
   "outputs": [
   ],
   "source": [
    "import os\n",
    "from sympy import *\n",
    "import numpy as np\n",
    "import pandas as pd\n",
    "init_printing()"
   ]
  },
  {
   "cell_type": "code",
   "execution_count": 2,
   "metadata": {
    "collapsed": false
   },
   "outputs": [
   ],
   "source": [
    "# initialize some variables\n",
    "num_passives = 0    # number of passive elements\n",
    "num_v_ind = 0    # number of independent voltage sources\n",
    "num_i_ind = 0    # number of independent current sources\n",
    "\n",
    "num_opamps = 0   # Number of op amps\n",
    "num_vcvs = 0     # number of sources\n",
    "num_vccs = 0\n",
    "num_cccs = 0\n",
    "num_ccvs = 0\n",
    "num_cpld_ind = 0"
   ]
  },
  {
   "cell_type": "markdown",
   "metadata": {
    "collapsed": false
   },
   "source": [
    "#### open file and preprocess it\n",
    "- remove blank lines and comments\n",
    "- converts all lower case to upper\n",
    "- removes extra spaces between entries\n",
    "- count number of entries on each line, make sure the count is correct"
   ]
  },
  {
   "cell_type": "code",
   "execution_count": 3,
   "metadata": {
    "collapsed": false
   },
   "outputs": [
   ],
   "source": [
    "fn = 'example2'\n",
    "fd1 = open(fn+'.net','r')\n",
    "content = fd1.readlines()\n",
    "content = [x.strip() for x in content]  #remove leading and trailing white space\n",
    "# remove empty lines\n",
    "while '' in content:\n",
    "    content.pop(content.index(''))\n",
    "\n",
    "# remove comment lines, these start with a asterisk *\n",
    "content = [n for n in content if not n.startswith('*')]\n",
    "# converts all lower case to upper\n",
    "content = [x.upper() for x in content]\n",
    "# removes extra spaces between entries\n",
    "content = [' '.join(x.split()) for x in content]"
   ]
  },
  {
   "cell_type": "code",
   "execution_count": 4,
   "metadata": {
    "collapsed": false
   },
   "outputs": [
   ],
   "source": [
    "branch_cnt = len(content)\n",
    "# chech number of entries on each line\n",
    "for i in range(branch_cnt):\n",
    "    x = content[i][0]\n",
    "    tk_cnt = len(content[i].split())\n",
    "\n",
    "    if (x == 'R') or (x == 'L') or (x == 'C'):\n",
    "        if tk_cnt != 4:\n",
    "            print(\"branch {:d} not formatted correctly, {:s}\".format(i,content[i]))\n",
    "            print(\"had {:d} items and should only be 4\".format(tk_cnt))\n",
    "        num_passives += 1\n",
    "    elif x == 'V':\n",
    "        if tk_cnt != 4:\n",
    "            print(\"branch {:d} not formatted correctly, {:s}\".format(i,content[i]))\n",
    "            print(\"had {:d} items and should only be 4\".format(tk_cnt))\n",
    "        num_v_ind += 1\n",
    "    elif x == 'I':\n",
    "        if tk_cnt != 4:\n",
    "            print(\"branch {:d} not formatted correctly, {:s}\".format(i,content[i]))\n",
    "            print(\"2had {:d} items and should only be 4\".format(tk_cnt))\n",
    "        num_i_ind += 1\n",
    "    elif x == 'O':\n",
    "        if tk_cnt != 4:\n",
    "            print(\"branch {:d} not formatted correctly, {:s}\".format(i,content[i]))\n",
    "            print(\"2had {:d} items and should only be 4\".format(tk_cnt))\n",
    "        num_opamps += 1\n",
    "    elif x == 'E':\n",
    "        if (tk_cnt != 6):\n",
    "            print(\"branch {:d} not formatted correctly, {}\".format(i,content[i]))\n",
    "            print(\"had {:d} items and should only be 6\".format(tk_cnt))\n",
    "        num_vcvs += 1\n",
    "    elif x == 'G':\n",
    "        if (tk_cnt != 6):\n",
    "            print(\"branch {:d} not formatted correctly, {}\".format(i,content[i]))\n",
    "            print(\"had {:d} items and should only be 6\".format(tk_cnt))\n",
    "        num_vccs += 1\n",
    "    elif x == 'F':\n",
    "        if (tk_cnt != 5):\n",
    "            print(\"branch {:d} not formatted correctly, {}\".format(i,content[i]))\n",
    "            print(\"had {:d} items and should only be 5\".format(tk_cnt))\n",
    "        num_cccs += 1\n",
    "    elif x == 'H':\n",
    "        if (tk_cnt != 5):\n",
    "            print(\"branch {:d} not formatted correctly, {}\".format(i,content[i]))\n",
    "            print(\"had {:d} items and should only be 5\".format(tk_cnt))\n",
    "        num_ccvs += 1\n",
    "    elif x == 'K':\n",
    "        if (tk_cnt != 4):\n",
    "            print(\"branch {:d} not formatted correctly, {}\".format(i,content[i]))\n",
    "            print(\"had {:d} items and should only be 4\".format(tk_cnt))\n",
    "        num_cpld_ind += 1\n",
    "    else:\n",
    "        print(\"unknown element type in branch {:d}, {}\".format(i,content[i]))"
   ]
  },
  {
   "cell_type": "markdown",
   "metadata": {
    "collapsed": false
   },
   "source": [
    "#### PARSER\n",
    "- puts branch elements into structure\n",
    "- counts number of nodes"
   ]
  },
  {
   "cell_type": "code",
   "execution_count": 5,
   "metadata": {
    "collapsed": false
   },
   "outputs": [
   ],
   "source": [
    "# try puting the branch structre in a pandas data frame  <<-- needs some clean up eg not using phase\n",
    "count = []\n",
    "element = []      # type of element\n",
    "p_node = []       # positive node\n",
    "n_node = []       # neg node\n",
    "cp_node = []      # controlling pos node of branch\n",
    "cn_node = []      # controlling neg node of branch\n",
    "source_type = []  # 1 = AC, 2 = DC source, 3 for multi-terminal\n",
    "value = []        # value of element or voltage\n",
    "phase = []        # AC phase\n",
    "source_imp = []   # source impedance\n",
    "\n",
    "df = pd.DataFrame(index=count, columns=['element','p node','n node','cp node','cn node',\n",
    "    'source type','value','phase','source imp'])"
   ]
  },
  {
   "cell_type": "markdown",
   "metadata": {
    "collapsed": false
   },
   "source": [
    "#### Functions to load branch elements into data frame"
   ]
  },
  {
   "cell_type": "code",
   "execution_count": 6,
   "metadata": {
    "collapsed": false
   },
   "outputs": [
   ],
   "source": [
    "# loads AC and DC voltage and current sources into branch structure\n",
    "def indep_source(br_nu):\n",
    "    tk = content[br_nu].split()\n",
    "    df.loc[br_nu,'element'] = tk[0]\n",
    "    df.loc[br_nu,'p node'] = int(tk[1])\n",
    "    df.loc[br_nu,'n node'] = int(tk[2])\n",
    "    df.loc[br_nu,'source type'] = tk[3]\n",
    "    if tk[3] == 'AC':\n",
    "        df.loc[br_nu,'value'] = float(tk[4])\n",
    "        df.loc[br_nu,'phase'] = float(tk[5])\n",
    "        df.loc[br_nu,'source imp'] = float(tk[6])\n",
    "    if tk[3] == 'DC':\n",
    "        df.loc[br_nu,'value'] = float(tk[4])\n",
    "        df.loc[br_nu,'source imp'] = float(tk[6])"
   ]
  },
  {
   "cell_type": "code",
   "execution_count": 7,
   "metadata": {
    "collapsed": false
   },
   "outputs": [
   ],
   "source": [
    "# loads passive elements into branch structure\n",
    "def pass_element(br_nu):\n",
    "    tk = content[br_nu].split()\n",
    "    df.loc[br_nu,'element'] = tk[0]\n",
    "    df.loc[br_nu,'p node'] = int(tk[1])\n",
    "    df.loc[br_nu,'n node'] = int(tk[2])\n",
    "    df.loc[br_nu,'value'] = float(tk[3])"
   ]
  },
  {
   "cell_type": "code",
   "execution_count": 8,
   "metadata": {
    "collapsed": false
   },
   "outputs": [
   ],
   "source": [
    "'''\n",
    "loads multi-terminal sub-networks\n",
    "into branch structure\n",
    "Types:\n",
    "E - VCVS\n",
    "G - VCCS\n",
    "F - CCCS\n",
    "H - CCVS\n",
    "not implemented yet:\n",
    "K - Coupled inductors\n",
    "O - Op Amps\n",
    "'''\n",
    "def sub_network(br_nu):\n",
    "    tk = content[br_nu].split()\n",
    "    df.loc[br_nu,'element'] = tk[0]\n",
    "    df.loc[br_nu,'p node'] = int(tk[1])\n",
    "    df.loc[br_nu,'n node'] = int(tk[2])\n",
    "    df.loc[br_nu,'cp node'] = int(tk[3])\n",
    "    df.loc[br_nu,'cn node'] = int(tk[4])\n",
    "    df.loc[br_nu,'value'] = float(tk[5])"
   ]
  },
  {
   "cell_type": "code",
   "execution_count": 9,
   "metadata": {
    "collapsed": false
   },
   "outputs": [
   ],
   "source": [
    "# scan df and get largest node number\n",
    "def count_nodes():\n",
    "    # need to ckeck that nodes are consecutive\n",
    "    # fill array with node numbers\n",
    "    p = np.zeros(branch_cnt+1)\n",
    "    for i in range(branch_cnt-1):\n",
    "        p[df['p node'][i]] = df['p node'][i]\n",
    "        p[df['n node'][i]] = df['n node'][i]\n",
    "\n",
    "    # find the largest node number\n",
    "    if df['n node'].max() > df['p node'].max():\n",
    "        largest = df['n node'].max()\n",
    "    else:\n",
    "        largest =  df['p node'].max()\n",
    "\n",
    "        largest = int(largest)\n",
    "    # check for unfilled elements, skip node 0\n",
    "    for i in range(1,largest):\n",
    "        if p[i] == 0:\n",
    "            print(\"nodes not in continuous order\");\n",
    "\n",
    "    return largest"
   ]
  },
  {
   "cell_type": "code",
   "execution_count": 10,
   "metadata": {
    "collapsed": false
   },
   "outputs": [
   ],
   "source": [
    "# load branches into data frame\n",
    "for i in range(branch_cnt):\n",
    "    x = content[i][0]\n",
    "\n",
    "    if (x == 'R') or (x == 'L') or (x == 'C'):\n",
    "        pass_element(i)\n",
    "    elif (x == 'V') or (x == 'I'):\n",
    "        indep_source(i)\n",
    "    elif (x == 'E') or (x == 'F') or (x == 'G') or (x == 'H'):\n",
    "        sub_network(i)\n",
    "    else:\n",
    "        print(\"unknown element type in branch {:d}, {}\".format(i,content[i]))\n",
    "\n",
    "# count number of nodes\n",
    "num_nodes = count_nodes()"
   ]
  },
  {
   "cell_type": "code",
   "execution_count": 11,
   "metadata": {
    "collapsed": false
   },
   "outputs": [
    {
     "name": "stdout",
     "output_type": "stream",
     "text": [
      "number of branches: 5\n",
      "number of nodes: 2\n",
      "number of passive components: 3\n",
      "number of independent voltage sources: 1\n",
      "number of independent current sources: 1\n",
      "number of op amps: 0\n",
      "number of E - VCVS: 0\n",
      "number of G - VCCS: 0\n",
      "number of F - CCCS: 0\n",
      "number of F - CCCS: 0\n",
      "number of K - Coupled inductors: 0\n"
     ]
    }
   ],
   "source": [
    "# print a report\n",
    "print('number of branches: {:d}'.format(branch_cnt))\n",
    "print('number of nodes: {:d}'.format(num_nodes))\n",
    "print('number of passive components: {:d}'.format(num_passives))\n",
    "print('number of independent voltage sources: {:d}'.format(num_v_ind))\n",
    "print('number of independent current sources: {:d}'.format(num_i_ind))\n",
    "\n",
    "# not implemented yet\n",
    "print('number of op amps: {:d}'.format(num_opamps))\n",
    "print('number of E - VCVS: {:d}'.format(num_vcvs))\n",
    "print('number of G - VCCS: {:d}'.format(num_vccs))\n",
    "print('number of F - CCCS: {:d}'.format(num_cccs))\n",
    "print('number of F - CCCS: {:d}'.format(num_ccvs))\n",
    "print('number of K - Coupled inductors: {:d}'.format(num_cpld_ind))"
   ]
  },
  {
   "cell_type": "code",
   "execution_count": 12,
   "metadata": {
    "collapsed": false
   },
   "outputs": [
   ],
   "source": [
    "# store the data frame as a pickle file\n",
    "df.to_pickle(fn+'.pkl')"
   ]
  },
  {
   "cell_type": "code",
   "execution_count": 13,
   "metadata": {
    "collapsed": false
   },
   "outputs": [
   ],
   "source": [
    "# initialize some symbolic matrix with zeros\n",
    "# A is formed by [[G, C] [B, D]]\n",
    "# Z = [I,E]\n",
    "# X = [V, J]\n",
    "V = zeros(num_nodes,1)\n",
    "I = zeros(num_nodes,1)\n",
    "G = zeros(num_nodes,num_nodes)\n",
    "s = Symbol('s')\n",
    "\n",
    "if (num_v_ind+num_opamps) != 0:\n",
    "    B = zeros(num_nodes,num_v_ind+num_opamps)\n",
    "    C = zeros(num_v_ind+num_opamps,num_nodes)\n",
    "    D = zeros(num_v_ind+num_opamps,num_v_ind+num_opamps)\n",
    "    E = zeros(num_v_ind+num_opamps,1)\n",
    "    J = zeros(num_v_ind+num_opamps,1)"
   ]
  },
  {
   "cell_type": "code",
   "execution_count": 14,
   "metadata": {
    "collapsed": false
   },
   "outputs": [
   ],
   "source": [
    "'''\n",
    "G matrix\n",
    "the G matrix is nxn and is determined by the interconnections between the passive circuit elements (RLC's)\n",
    "The G matrix is an nxn matrix formed in two steps\n",
    "1) Each element in the diagonal matrix is equal to the sum of the conductance (one over the resistance) of each element connected to the corresponding node.  So the first diagonal element is the sum of conductances connected to node 1, the second diagonal element is the sum of conductances connected to node 2, and so on.\n",
    "2) The off diagonal elements are the negative conductance of the element connected to the pair of corresponding node.  Therefore a resistor between nodes 1 and 2 goes into the G matrix at location (1,2) and locations (2,1).\n",
    "'''\n",
    "for i in range(branch_cnt):\n",
    "    n1 = df.loc[i,'p node']\n",
    "    n2 = df.loc[i,'n node']\n",
    "    # process all the passive elements, save conductance to temp value\n",
    "    x = df.loc[i,'element'][0]   #get 1st letter of element name\n",
    "    if x == 'R':\n",
    "        g = 1/sympify(df.loc[i,'element'])\n",
    "    if x == 'L':\n",
    "        g = 1/(s/sympify(df.loc[i,'element']))\n",
    "    if x == 'C':\n",
    "        g = sympify(df.loc[i,'element'])*s\n",
    "\n",
    "    if (x == 'R') or (x == 'L') or (x == 'C'):\n",
    "        # If neither side of the element is connected to ground\n",
    "        # then subtract it from appropriate location in matrix.\n",
    "        if (n1 != 0) and (n2 != 0):\n",
    "            G[n1-1,n2-1] += -g\n",
    "            G[n2-1,n1-1] += -g\n",
    "\n",
    "        # If node 1 is connected to graound, add element to diagonal\n",
    "        # of matrix.\n",
    "        if n1 != 0:\n",
    "            G[n1-1,n1-1] += g\n",
    "\n",
    "        # Ditto for node 2.\n",
    "        if n2 != 0:\n",
    "            G[n2-1,n2-1] += g"
   ]
  },
  {
   "cell_type": "code",
   "execution_count": 15,
   "metadata": {
    "collapsed": false
   },
   "outputs": [
   ],
   "source": [
    "# The I matrix is an nx1 matrix with each element of the matrix corresponding to a particular node.  The value of each element of i is determined by the sum of current sources into the corresponding node.  If there are no current sources connected to the node, the value is zero.\n",
    "for i in range(branch_cnt):\n",
    "    n1 = df.loc[i,'p node']\n",
    "    n2 = df.loc[i,'n node']\n",
    "    # process all the passive elements, save conductance to temp value\n",
    "    x = df.loc[i,'element'][0]   #get 1st letter of element name\n",
    "    if x == 'I':\n",
    "        g = sympify(df.loc[i,'element'])\n",
    "        # sum the current into each node\n",
    "        if n1 != 0:\n",
    "            I[n1-1] += g\n",
    "        if n2 != 0:\n",
    "            I[n2-1] -= g"
   ]
  },
  {
   "cell_type": "code",
   "execution_count": 16,
   "metadata": {
    "collapsed": false
   },
   "outputs": [
   ],
   "source": [
    "# The V matrix is an nx1 matrix formed of the node voltages.  Each element in v corresponds to the voltage at the equivalent node in the circuit\n",
    "for i in range(num_nodes):\n",
    "    V[i] = sympify('v{:d}'.format(i+1))"
   ]
  },
  {
   "cell_type": "code",
   "execution_count": 17,
   "metadata": {
    "collapsed": false
   },
   "outputs": [
   ],
   "source": [
    "'''\n",
    "B Matrix\n",
    "Rules for making the B matrix\n",
    "The B matrix is an nxm matrix with only 0, 1 and -1 elements.  Each location in the matrix corresponds to a particular voltage source (first dimension) or a node (second dimension).  If the positive terminal of the ith voltage source is connected to node k, then the element (i,k) in the B matrix is a 1.  If the negative terminal of the ith voltage source is connected to node k, then the element (i,k) in the B matrix is a -1.  Otherwise, elements of the B matrix are zero.\n",
    "'''\n",
    "# First handle the case of the independent voltage sources.\n",
    "sn = 0   # count source number\n",
    "for i in range(branch_cnt):\n",
    "    n1 = df.loc[i,'p node']\n",
    "    n2 = df.loc[i,'n node']\n",
    "    # process all the independent voltage sources\n",
    "    x = df.loc[i,'element'][0]   #get 1st letter of element name\n",
    "    if x == 'V':\n",
    "        if num_v_ind+num_opamps > 1:\n",
    "            if n1 != 0:\n",
    "                B[n1-1,sn] = 1\n",
    "            if n2 != 0:\n",
    "                B[n2-1,sn] = -1\n",
    "            sn += 1   #increment source count\n",
    "        else:\n",
    "            if n1 != 0:\n",
    "                B[n1-1] = 1\n",
    "            if n2 != 0:\n",
    "                B[n2-1] = -1\n",
    "    # Op amps not implemented"
   ]
  },
  {
   "cell_type": "code",
   "execution_count": 18,
   "metadata": {
    "collapsed": false
   },
   "outputs": [
   ],
   "source": [
    "# The J matrix is an mx1 matrix, with one entry for the current through each voltage source.\n",
    "sn = 0   # count source number\n",
    "for i in range(branch_cnt):\n",
    "    # process all the passive elements\n",
    "    x = df.loc[i,'element'][0]   #get 1st letter of element name\n",
    "    if x == 'V':\n",
    "        J[sn] = sympify('I_{:s}'.format(df.loc[i,'element']))\n",
    "        sn += 1"
   ]
  },
  {
   "cell_type": "code",
   "execution_count": 19,
   "metadata": {
    "collapsed": false
   },
   "outputs": [
   ],
   "source": [
    "'''\n",
    "The C matrix is an mxn matrix with only 0, 1 and -1 elements.  Each location in the matrix corresponds to a particular node (first dimension) or voltage source (second dimension).  If the positive terminal of the ith voltage source is connected to node k, then the element (k,i) in the C matrix is a 1.  If the negative terminal of the ith voltage source is connected to node k, then the element (k,i) in the C matrix is a -1.  Otherwise, elements of the C matrix are zero.\n",
    "'''\n",
    "sn = 0   # count source number\n",
    "for i in range(branch_cnt):\n",
    "    n1 = df.loc[i,'p node']\n",
    "    n2 = df.loc[i,'n node']\n",
    "    # process all the independent voltage sources\n",
    "    x = df.loc[i,'element'][0]   #get 1st letter of element name\n",
    "    if x == 'V':\n",
    "        if num_v_ind+num_opamps > 1:\n",
    "            if n1 != 0:\n",
    "                C[sn,n1-1] = 1\n",
    "            if n2 != 0:\n",
    "                C[sn,n2-1] = -1\n",
    "            sn += 1   #increment source count\n",
    "        else:\n",
    "            if n1 != 0:\n",
    "                C[n1-1] = 1\n",
    "            if n2 != 0:\n",
    "                C[n2-1] = -1\n"
   ]
  },
  {
   "cell_type": "code",
   "execution_count": 20,
   "metadata": {
    "collapsed": false
   },
   "outputs": [
    {
     "data": {
      "text/latex": [
       "$$\\left[\\begin{matrix}0\\end{matrix}\\right]$$"
      ]
     },
     "execution_count": 20,
     "metadata": {
     },
     "output_type": "execute_result"
    }
   ],
   "source": [
    "# The D matrix is an mxm matrix that is composed entirely of zeros.  (It can be non-zero if dependent sources are considered.)\n",
    "D"
   ]
  },
  {
   "cell_type": "code",
   "execution_count": 21,
   "metadata": {
    "collapsed": false
   },
   "outputs": [
   ],
   "source": [
    "# the E matrix is mx1 and holds the values of the independent voltage sources.\n",
    "sn = 0   # count source number\n",
    "for i in range(branch_cnt):\n",
    "    # process all the passive elements\n",
    "    x = df.loc[i,'element'][0]   #get 1st letter of element name\n",
    "    if x == 'V':\n",
    "        E[sn] = sympify(df.loc[i,'element'])\n",
    "        sn += 1"
   ]
  },
  {
   "cell_type": "code",
   "execution_count": 22,
   "metadata": {
    "collapsed": false
   },
   "outputs": [
   ],
   "source": [
    "'''\n",
    "Form the Z matrix\n",
    "The z matrix holds the independent voltage and current sources and is the combination of 2 smaller matrices i and e.\n",
    "The z matrix is (m+n)x1, n is the number of nodes, and m is the number of independent voltage sources\n",
    "'''\n",
    "Z = I[:] + E[:]"
   ]
  },
  {
   "cell_type": "code",
   "execution_count": 23,
   "metadata": {
    "collapsed": false
   },
   "outputs": [
   ],
   "source": [
    "'''\n",
    "Form the X matrix\n",
    "The I matrix is nx1 and contains the sum of the currents through the passive elements into the corresponding node (either zero, or the sum of independent current sources).\n",
    "The E matrix is mx1 and holds the values of the independent voltage sources.\n",
    "'''\n",
    "X = V[:] + J[:]"
   ]
  },
  {
   "cell_type": "code",
   "execution_count": 24,
   "metadata": {
    "collapsed": false
   },
   "outputs": [
   ],
   "source": [
    "'''\n",
    "Form the A matrix\n",
    "The A matrix is (m+n)x(m+n) and will be developed as the combination of 4 smaller matrices, G, B, C, and D.\n",
    "'''\n",
    "n = num_nodes\n",
    "m = num_v_ind\n",
    "A = zeros(m+n,m+n)\n",
    "for i in range(n):\n",
    "    for j in range(n):\n",
    "        A[i,j] = G[i,j]\n",
    "\n",
    "if num_v_ind+num_opamps > 1:\n",
    "    for i in range(n):\n",
    "        for j in range(m):\n",
    "            A[i,n+j] = B[i,j]\n",
    "            A[n+j,i] = C[j,i]\n",
    "else:\n",
    "    for i in range(n):\n",
    "        A[i,n] = B[i]\n",
    "        A[n,i] = C[i]"
   ]
  },
  {
   "cell_type": "code",
   "execution_count": 25,
   "metadata": {
    "collapsed": false
   },
   "outputs": [
   ],
   "source": [
    "sn = 0   # count source number\n",
    "for i in range(branch_cnt):\n",
    "    n1 = df.loc[i,'p node']\n",
    "    n2 = df.loc[i,'n node']\n",
    "    # process all the independent voltage sources\n",
    "    x = df.loc[i,'element'][0]   #get 1st letter of element name\n",
    "    if x == 'V':\n",
    "        if num_v_ind+num_opamps > 1:\n",
    "            if n1 != 0:\n",
    "                C[sn,n1-1] = 1\n",
    "            if n2 != 0:\n",
    "                C[sn,n2-1] = -1\n",
    "            sn += 1   #increment source count\n",
    "        else:\n",
    "            if n1 != 0:\n",
    "                C[n1-1] = 1\n",
    "            if n2 != 0:\n",
    "                C[n2-1] = -1\n"
   ]
  },
  {
   "cell_type": "code",
   "execution_count": 26,
   "metadata": {
    "collapsed": false
   },
   "outputs": [
    {
     "data": {
      "text/latex": [
       "$$\\left[\\begin{matrix}\\frac{1}{R_{1}} & - \\frac{1}{R_{1}} & 1\\\\- \\frac{1}{R_{1}} & \\frac{1}{R_{3}} + \\frac{1}{R_{2}} + \\frac{1}{R_{1}} & 0\\\\1 & 0 & 0\\end{matrix}\\right]$$"
      ]
     },
     "execution_count": 26,
     "metadata": {
     },
     "output_type": "execute_result"
    }
   ],
   "source": [
    "A"
   ]
  },
  {
   "cell_type": "code",
   "execution_count": 27,
   "metadata": {
    "collapsed": false
   },
   "outputs": [
    {
     "data": {
      "text/latex": [
       "$$\\left [ 0, \\quad IS, \\quad VB\\right ]$$"
      ]
     },
     "execution_count": 27,
     "metadata": {
     },
     "output_type": "execute_result"
    }
   ],
   "source": [
    "Z"
   ]
  },
  {
   "cell_type": "code",
   "execution_count": 28,
   "metadata": {
    "collapsed": false
   },
   "outputs": [
    {
     "data": {
      "text/latex": [
       "$$\\left [ v_{1}, \\quad v_{2}, \\quad I_{VB}\\right ]$$"
      ]
     },
     "execution_count": 28,
     "metadata": {
     },
     "output_type": "execute_result"
    }
   ],
   "source": [
    "X"
   ]
  },
  {
   "cell_type": "code",
   "execution_count": 29,
   "metadata": {
    "collapsed": false
   },
   "outputs": [
   ],
   "source": [
    "# generate the node equations\n",
    "n = num_nodes\n",
    "m = num_v_ind\n",
    "eq1 = 0\n",
    "equ = zeros(m+n,1)\n",
    "for i in range(n+m):\n",
    "    for j in range(n+m):\n",
    "        eq1 += A[j,i]*X[j]\n",
    "    equ[i] = Eq(eq1,Z[i])\n",
    "    eq1 = 0"
   ]
  },
  {
   "cell_type": "code",
   "execution_count": 30,
   "metadata": {
    "collapsed": false
   },
   "outputs": [
    {
     "data": {
      "text/latex": [
       "$$\\left[\\begin{matrix}I_{VB} + \\frac{v_{1}}{R_{1}} - \\frac{v_{2}}{R_{1}} = 0\\\\v_{2} \\left(\\frac{1}{R_{3}} + \\frac{1}{R_{2}} + \\frac{1}{R_{1}}\\right) - \\frac{v_{1}}{R_{1}} = IS\\\\v_{1} = VB\\end{matrix}\\right]$$"
      ]
     },
     "execution_count": 30,
     "metadata": {
     },
     "output_type": "execute_result"
    }
   ],
   "source": [
    "equ"
   ]
  },
  {
   "cell_type": "code",
   "execution_count": 31,
   "metadata": {
    "collapsed": false
   },
   "outputs": [
   ],
   "source": [
    "R1, R2, R3 = symbols('R1 R2 R3')\n",
    "v1, v2, v3 = symbols('v1 v2 v3')\n",
    "VB, IS, IVB= symbols('VB IS IVB')"
   ]
  },
  {
   "cell_type": "code",
   "execution_count": 32,
   "metadata": {
    "collapsed": false
   },
   "outputs": [
   ],
   "source": [
    "equ1a = equ.subs({R1:5})\n",
    "equ1a = equ1a.subs({R2:3})\n",
    "equ1a = equ1a.subs({R3:10})\n",
    "\n",
    "equ1a = equ1a.subs({VB:30})\n",
    "equ1a = equ1a.subs({IS:2})"
   ]
  },
  {
   "cell_type": "code",
   "execution_count": 33,
   "metadata": {
    "collapsed": false
   },
   "outputs": [
    {
     "data": {
      "text/latex": [
       "$$\\left[\\begin{matrix}I_{VB} + \\frac{v_{1}}{5} - \\frac{v_{2}}{5} = 0\\\\- \\frac{v_{1}}{5} + \\frac{19 v_{2}}{30} = 2\\\\v_{1} = 30\\end{matrix}\\right]$$"
      ]
     },
     "execution_count": 33,
     "metadata": {
     },
     "output_type": "execute_result"
    }
   ],
   "source": [
    "equ1a"
   ]
  },
  {
   "cell_type": "code",
   "execution_count": 37,
   "metadata": {
    "collapsed": false
   },
   "outputs": [
   ],
   "source": [
    "equ1a.row_del(0)"
   ]
  },
  {
   "cell_type": "code",
   "execution_count": 38,
   "metadata": {
    "collapsed": false
   },
   "outputs": [
    {
     "data": {
      "text/latex": [
       "$$\\left[\\begin{matrix}- \\frac{v_{1}}{5} + \\frac{19 v_{2}}{30} = 2\\\\v_{1} = 30\\end{matrix}\\right]$$"
      ]
     },
     "execution_count": 38,
     "metadata": {
     },
     "output_type": "execute_result"
    }
   ],
   "source": [
    "equ1a"
   ]
  },
  {
   "cell_type": "code",
   "execution_count": 39,
   "metadata": {
    "collapsed": false
   },
   "outputs": [
    {
     "data": {
      "text/latex": [
       "$$\\left \\{ v_{1} : 30, \\quad v_{2} : \\frac{240}{19}\\right \\}$$"
      ]
     },
     "execution_count": 39,
     "metadata": {
     },
     "output_type": "execute_result"
    }
   ],
   "source": [
    "solve(equ1a,[v1,v2])"
   ]
  },
  {
   "cell_type": "code",
   "execution_count": 0,
   "metadata": {
    "collapsed": false
   },
   "outputs": [
   ],
   "source": [
   ]
  }
 ],
 "metadata": {
  "kernelspec": {
   "display_name": "Python 3 (Anaconda)",
   "language": "python",
   "name": "anaconda3"
  },
  "language_info": {
   "codemirror_mode": {
    "name": "ipython",
    "version": 3
   },
   "file_extension": ".py",
   "mimetype": "text/x-python",
   "name": "python",
   "nbconvert_exporter": "python",
   "pygments_lexer": "ipython3",
   "version": "3.5.4"
  }
 },
 "nbformat": 4,
 "nbformat_minor": 0
}