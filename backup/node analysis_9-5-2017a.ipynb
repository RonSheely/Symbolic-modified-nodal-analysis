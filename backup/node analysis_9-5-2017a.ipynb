{
 "cells": [
  {
   "cell_type": "markdown",
   "metadata": {
    "collapsed": false
   },
   "source": [
    "# A python node analysis jupyter notebook"
   ]
  },
  {
   "cell_type": "markdown",
   "metadata": {
    "collapsed": false
   },
   "source": [
    "**Synopsis:** This notebook will read in a spice like circuit netlist file and compute the node equations. The code follows Erik Cheever's Analysis of  Resistive Circuits [page](http://www.swarthmore.edu/NatSci/echeeve1/Ref/mna/MNA1.html) to generate modified nodal equations. I somewhat followed his matlab file.\n",
    "\n",
    "**Description:**"
   ]
  },
  {
   "cell_type": "markdown",
   "metadata": {
    "collapsed": false
   },
   "source": [
    "```\n",
    "Date started: April 17, 2017\n",
    "file name: node analysis.ipynb\n",
    "Requires: Python version 3 or higher and a jupyter notebook\n",
    "Author: Tony\n",
    "\n",
    "Revision History\n",
    "7/1/2015: Ver 1 - coding started, derived from network.c code\n",
    "8/18/2017\n",
    "changed approach, now implementing a modified nodal analysis\n",
    "8/19/2017\n",
    "Wrote some code to generate symbolic matrices, works ok,\n",
    "so heading down the sympy path. Basic debugging finished,\n",
    "but still need to verify some circuits using Ls and Cs.\n",
    "8/30/2017\n",
    "Started to add code for op amps\n",
    "9/1/2017\n",
    "Code added to process op amps\n",
    "9/3/2017\n",
    "Added code to remove spice directives.\n",
    "Fixed orientation of current sources in I matrix.\n",
    "N2 is the arrow end of the current source.\n",
    "9/4/2017\n",
    "\n",
    "```"
   ]
  },
  {
   "cell_type": "code",
   "execution_count": 75,
   "metadata": {
    "collapsed": false
   },
   "outputs": [
   ],
   "source": [
    "import os\n",
    "from sympy import *\n",
    "import numpy as np\n",
    "import pandas as pd\n",
    "init_printing()"
   ]
  },
  {
   "cell_type": "code",
   "execution_count": 76,
   "metadata": {
    "collapsed": false
   },
   "outputs": [
   ],
   "source": [
    "# initialize some variables, count the types of elements\n",
    "num_rlc = 0 # number of passive elements\n",
    "num_ind = 0 # number of inductors\n",
    "num_v = 0    # number of independent voltage sources\n",
    "num_i = 0    # number of independent current sources\n",
    "num_opamps = 0   # number of op amps\n",
    "num_vcvs = 0     # number of controlled sources of various types\n",
    "num_vccs = 0\n",
    "num_cccs = 0\n",
    "num_ccvs = 0\n",
    "num_cpld_ind = 0 # number of coupled inductors"
   ]
  },
  {
   "cell_type": "markdown",
   "metadata": {
    "collapsed": false
   },
   "source": [
    "##### open file and preprocess it, file name extenstion is defaulted to .net\n",
    "- remove blank lines and comments\n",
    "- convert first letter of element name to upper case\n",
    "- removes extra spaces between entries\n",
    "- count number of entries on each line, make sure the count is correct"
   ]
  },
  {
   "cell_type": "code",
   "execution_count": 77,
   "metadata": {
    "collapsed": false
   },
   "outputs": [
   ],
   "source": [
    "fn = 'RCL circuit'\n",
    "fd1 = open(fn+'.net','r')\n",
    "content = fd1.readlines()\n",
    "content = [x.strip() for x in content]  #remove leading and trailing white space\n",
    "# remove empty lines\n",
    "while '' in content:\n",
    "    content.pop(content.index(''))\n",
    "\n",
    "# remove comment lines, these start with a asterisk *\n",
    "content = [n for n in content if not n.startswith('*')]\n",
    "# remove other comment lines, these start with a semicolon ;\n",
    "content = [n for n in content if not n.startswith(';')]\n",
    "# remove spice directives, these start with a period, .\n",
    "content = [n for n in content if not n.startswith('.')]\n",
    "# converts 1st letter to upper case\n",
    "#content = [x.upper() for x in content] <- this converts all to upper case\n",
    "content = [x.capitalize() for x in content]\n",
    "# removes extra spaces between entries\n",
    "content = [' '.join(x.split()) for x in content]"
   ]
  },
  {
   "cell_type": "code",
   "execution_count": 78,
   "metadata": {
    "collapsed": false
   },
   "outputs": [
   ],
   "source": [
    "line_cnt = len(content) # number of lines in the netlist\n",
    "branch_cnt = 0  # number of btanches in the netlist\n",
    "# check number of entries on each line\n",
    "for i in range(line_cnt):\n",
    "    x = content[i][0]\n",
    "    tk_cnt = len(content[i].split())\n",
    "\n",
    "    if (x == 'R') or (x == 'L') or (x == 'C'):\n",
    "        if tk_cnt != 4:\n",
    "            print(\"branch {:d} not formatted correctly, {:s}\".format(i,content[i]))\n",
    "            print(\"had {:d} items and should only be 4\".format(tk_cnt))\n",
    "        num_rlc += 1\n",
    "        branch_cnt += 1\n",
    "        if x == 'L':\n",
    "            num_ind += 1\n",
    "    elif x == 'V':\n",
    "        if tk_cnt != 4:\n",
    "            print(\"branch {:d} not formatted correctly, {:s}\".format(i,content[i]))\n",
    "            print(\"had {:d} items and should only be 4\".format(tk_cnt))\n",
    "        num_v += 1\n",
    "        branch_cnt += 1\n",
    "    elif x == 'I':\n",
    "        if tk_cnt != 4:\n",
    "            print(\"branch {:d} not formatted correctly, {:s}\".format(i,content[i]))\n",
    "            print(\"had {:d} items and should only be 4\".format(tk_cnt))\n",
    "        num_i += 1\n",
    "        branch_cnt += 1\n",
    "    elif x == 'O':\n",
    "        if tk_cnt != 4:\n",
    "            print(\"branch {:d} not formatted correctly, {:s}\".format(i,content[i]))\n",
    "            print(\"had {:d} items and should only be 4\".format(tk_cnt))\n",
    "        num_opamps += 1\n",
    "    elif x == 'E':\n",
    "        if (tk_cnt != 6):\n",
    "            print(\"branch {:d} not formatted correctly, {}\".format(i,content[i]))\n",
    "            print(\"had {:d} items and should only be 6\".format(tk_cnt))\n",
    "        num_vcvs += 1\n",
    "        branch_cnt += 1\n",
    "    elif x == 'G':\n",
    "        if (tk_cnt != 6):\n",
    "            print(\"branch {:d} not formatted correctly, {}\".format(i,content[i]))\n",
    "            print(\"had {:d} items and should only be 6\".format(tk_cnt))\n",
    "        num_vccs += 1\n",
    "        branch_cnt += 1\n",
    "    elif x == 'F':\n",
    "        if (tk_cnt != 5):\n",
    "            print(\"branch {:d} not formatted correctly, {}\".format(i,content[i]))\n",
    "            print(\"had {:d} items and should only be 5\".format(tk_cnt))\n",
    "        num_cccs += 1\n",
    "        branch_cnt += 1\n",
    "    elif x == 'H':\n",
    "        if (tk_cnt != 5):\n",
    "            print(\"branch {:d} not formatted correctly, {}\".format(i,content[i]))\n",
    "            print(\"had {:d} items and should only be 5\".format(tk_cnt))\n",
    "        num_ccvs += 1\n",
    "        branch_cnt += 1\n",
    "    elif x == 'K':\n",
    "        if (tk_cnt != 4):\n",
    "            print(\"branch {:d} not formatted correctly, {}\".format(i,content[i]))\n",
    "            print(\"had {:d} items and should only be 4\".format(tk_cnt))\n",
    "        num_cpld_ind += 1\n",
    "    else:\n",
    "        print(\"unknown element type in branch {:d}, {}\".format(i,content[i]))"
   ]
  },
  {
   "cell_type": "markdown",
   "metadata": {
    "collapsed": false
   },
   "source": [
    "##### parser\n",
    "- puts branch elements into structure\n",
    "- counts number of nodes\n",
    "\n",
    "data frame lables:\n",
    "- count: data frame index\n",
    "- element: type of element\n",
    "- p node: positive node\n",
    "- n node: negitive node, for a current source, the arrow terminal\n",
    "- cp node: controlling positive node of branch\n",
    "- cn node: controlling negitive node of branch\n",
    "- Vout: opamp output node\n",
    "- value: value of element or voltage\n",
    "- Vname: voltage source through which the controlling current flows. Need to add a zero volt voltage source to the controlling branch.\n",
    "- Lname1: name of coupled inductor 1\n",
    "- Lname2: name of coupled inductor 2\n",
    "\n",
    "```\n",
    "temp code delete later\n",
    "count = []        # data frame index\n",
    "element = []      # type of element\n",
    "p_node = []       # positive node\n",
    "n_node = []       # neg node, for a current source, the arrow terminal\n",
    "cp_node = []      # controlling positive node of branch\n",
    "cn_node = []      # controlling negitive node of branch\n",
    "Vout = []         # op amp output node\n",
    "value = []        # value of element or voltage\n",
    "v_name = []       # voltage source through which the controlling current flows\n",
    "l_name1 = []      # name of coupled inductor 1\n",
    "l_name2 = []      # name of coupled inductor 2\n",
    "df = pd.DataFrame(index=count, columns=['element','p node','n node','cp node','cn node',\n",
    "    'Vout','value','Vname','Lname1','Lname2'])\n",
    "```"
   ]
  },
  {
   "cell_type": "code",
   "execution_count": 79,
   "metadata": {
    "collapsed": false
   },
   "outputs": [
   ],
   "source": [
    "# build the pandas data frame\n",
    "df = pd.DataFrame(columns=['element','p node','n node','cp node','cn node',\n",
    "    'Vout','value','Vname','Lname1','Lname2'])"
   ]
  },
  {
   "cell_type": "markdown",
   "metadata": {
    "collapsed": false
   },
   "source": [
    "##### functions to load branch elements into data frame"
   ]
  },
  {
   "cell_type": "code",
   "execution_count": 80,
   "metadata": {
    "collapsed": false
   },
   "outputs": [
   ],
   "source": [
    "# loads voltage or current sources into branch structure\n",
    "def indep_source(line_nu):\n",
    "    tk = content[line_nu].split()\n",
    "    df.loc[line_nu,'element'] = tk[0]\n",
    "    df.loc[line_nu,'p node'] = int(tk[1])\n",
    "    df.loc[line_nu,'n node'] = int(tk[2])\n",
    "    df.loc[line_nu,'value'] = float(tk[3])\n",
    "\n",
    "# loads passive elements into branch structure\n",
    "def rlc_element(line_nu):\n",
    "    tk = content[line_nu].split()\n",
    "    df.loc[line_nu,'element'] = tk[0]\n",
    "    df.loc[line_nu,'p node'] = int(tk[1])\n",
    "    df.loc[line_nu,'n node'] = int(tk[2])\n",
    "    df.loc[line_nu,'value'] = float(tk[3])\n",
    "\n",
    "'''\n",
    "loads multi-terminal elements into branch structure\n",
    "Types:\n",
    "E - VCVS\n",
    "G - VCCS\n",
    "F - CCCS\n",
    "H - CCVS\n",
    "K - Coupled inductors\n",
    "O - Op Amps\n",
    "'''\n",
    "def opamp_sub_network(line_nu):\n",
    "    tk = content[line_nu].split()\n",
    "    df.loc[line_nu,'element'] = tk[0]\n",
    "    df.loc[line_nu,'p node'] = int(tk[1])\n",
    "    df.loc[line_nu,'n node'] = int(tk[2])\n",
    "    df.loc[line_nu,'Vout'] = int(tk[3])\n",
    "\n",
    "def vccs_sub_network(line_nu):\n",
    "    tk = content[line_nu].split()\n",
    "    df.loc[line_nu,'element'] = tk[0]\n",
    "    df.loc[line_nu,'p node'] = int(tk[1])\n",
    "    df.loc[line_nu,'n node'] = int(tk[2])\n",
    "    df.loc[line_nu,'cp node'] = int(tk[3])\n",
    "    df.loc[line_nu,'cn node'] = int(tk[4])\n",
    "    df.loc[line_nu,'value'] = float(tk[5])\n",
    "\n",
    "def vcvs_sub_network(line_nu):\n",
    "    tk = content[line_nu].split()\n",
    "    df.loc[line_nu,'element'] = tk[0]\n",
    "    df.loc[line_nu,'p node'] = int(tk[1])\n",
    "    df.loc[line_nu,'n node'] = int(tk[2])\n",
    "    df.loc[line_nu,'cp node'] = int(tk[3])\n",
    "    df.loc[line_nu,'cn node'] = int(tk[4])\n",
    "    df.loc[line_nu,'value'] = float(tk[5])\n",
    "\n",
    "def cccs_sub_network(line_nu):\n",
    "    tk = content[line_nu].split()\n",
    "    df.loc[line_nu,'element'] = tk[0]\n",
    "    df.loc[line_nu,'p node'] = int(tk[1])\n",
    "    df.loc[line_nu,'n node'] = int(tk[2])\n",
    "    df.loc[line_nu,'Vname'] = tk[3].capitalize()\n",
    "    df.loc[line_nu,'value'] = float(tk[4])\n",
    "\n",
    "def ccvs_sub_network(line_nu):\n",
    "    tk = content[line_nu].split()\n",
    "    df.loc[line_nu,'element'] = tk[0]\n",
    "    df.loc[line_nu,'p node'] = int(tk[1])\n",
    "    df.loc[line_nu,'n node'] = int(tk[2])\n",
    "    df.loc[line_nu,'Vname'] = tk[3].capitalize()\n",
    "    df.loc[line_nu,'value'] = float(tk[4])\n",
    "\n",
    "def cpld_ind_sub_network(line_nu):\n",
    "    tk = content[line_nu].split()\n",
    "    df.loc[line_nu,'element'] = tk[0]\n",
    "    df.loc[line_nu,'Lname1'] = tk[1].capitalize()\n",
    "    df.loc[line_nu,'Lname2'] = tk[2].capitalize()\n",
    "    df.loc[line_nu,'value'] = float(tk[3])"
   ]
  },
  {
   "cell_type": "code",
   "execution_count": 81,
   "metadata": {
    "collapsed": false
   },
   "outputs": [
   ],
   "source": [
    "# function to scan df and get largest node number\n",
    "def count_nodes():\n",
    "    # need to check that nodes are consecutive\n",
    "    # fill array with node numbers\n",
    "    p = np.zeros(line_cnt+1)\n",
    "    for i in range(line_cnt-1):\n",
    "        p[df['p node'][i]] = df['p node'][i]\n",
    "        p[df['n node'][i]] = df['n node'][i]\n",
    "\n",
    "    # find the largest node number\n",
    "    if df['n node'].max() > df['p node'].max():\n",
    "        largest = df['n node'].max()\n",
    "    else:\n",
    "        largest =  df['p node'].max()\n",
    "\n",
    "    largest = int(largest)\n",
    "    # check for unfilled elements, skip node 0\n",
    "    for i in range(1,largest):\n",
    "        if p[i] == 0:\n",
    "            print('nodes not in continuous order, node {:.0f} is missing'.format(p[i-1]+1))\n",
    "\n",
    "    return largest"
   ]
  },
  {
   "cell_type": "code",
   "execution_count": 82,
   "metadata": {
    "collapsed": false
   },
   "outputs": [
   ],
   "source": [
    "# load branch info into data frame\n",
    "for i in range(line_cnt):\n",
    "    x = content[i][0]\n",
    "\n",
    "    if (x == 'R') or (x == 'L') or (x == 'C'):\n",
    "        rlc_element(i)\n",
    "    elif (x == 'V') or (x == 'I'):\n",
    "        indep_source(i)\n",
    "    elif x == 'O':\n",
    "        opamp_sub_network(i)\n",
    "    elif x == 'E':\n",
    "        vcvs_sub_network(i)\n",
    "    elif x == 'G':\n",
    "        vccs_sub_network(i)\n",
    "    elif x == 'F':\n",
    "        cccs_sub_network(i)\n",
    "    elif x == 'H':\n",
    "        ccvs_sub_network(i)\n",
    "    elif x == 'K':\n",
    "        cpld_ind_sub_network(i)\n",
    "    else:\n",
    "        print(\"unknown element type in branch {:d}, {}\".format(i,content[i]))\n",
    "\n",
    "# count number of nodes\n",
    "num_nodes = count_nodes()"
   ]
  },
  {
   "cell_type": "code",
   "execution_count": 83,
   "metadata": {
    "collapsed": false
   },
   "outputs": [
    {
     "name": "stdout",
     "output_type": "stream",
     "text": [
      "Net list report\n",
      "number of lines in netlist: 6\n",
      "number of branches: 6\n",
      "number of nodes: 3\n",
      "number of passive components: 5\n",
      "number of inductors: 1\n",
      "number of independent voltage sources: 1\n",
      "number of independent current sources: 0\n",
      "number of op amps: 0\n",
      "\n",
      "Not implemented yet\n",
      "number of E - VCVS: 0\n",
      "number of G - VCCS: 0\n",
      "number of F - CCCS: 0\n",
      "number of F - CCCS: 0\n",
      "number of K - Coupled inductors: 0\n"
     ]
    }
   ],
   "source": [
    "# print a report\n",
    "print('Net list report')\n",
    "print('number of lines in netlist: {:d}'.format(line_cnt))\n",
    "print('number of branches: {:d}'.format(branch_cnt))\n",
    "print('number of nodes: {:d}'.format(num_nodes))\n",
    "print('number of passive components: {:d}'.format(num_rlc))\n",
    "print('number of inductors: {:d}'.format(num_ind))\n",
    "print('number of independent voltage sources: {:d}'.format(num_v))\n",
    "print('number of independent current sources: {:d}'.format(num_i))\n",
    "print('number of op amps: {:d}'.format(num_opamps))\n",
    "\n",
    "# not implemented yet\n",
    "print('\\nNot implemented yet')\n",
    "print('number of E - VCVS: {:d}'.format(num_vcvs))\n",
    "print('number of G - VCCS: {:d}'.format(num_vccs))\n",
    "print('number of F - CCCS: {:d}'.format(num_cccs))\n",
    "print('number of F - CCCS: {:d}'.format(num_ccvs))\n",
    "print('number of K - Coupled inductors: {:d}'.format(num_cpld_ind))"
   ]
  },
  {
   "cell_type": "code",
   "execution_count": 84,
   "metadata": {
    "collapsed": false
   },
   "outputs": [
    {
     "data": {
      "text/plain": [
       "['Vin 3 0 1',\n",
       " 'R2 3 2 1000',\n",
       " 'R1 1 0 1000',\n",
       " 'C1 1 0 1e-6',\n",
       " 'C2 2 1 10e-6',\n",
       " 'L1 1 0 0.001']"
      ]
     },
     "execution_count": 84,
     "metadata": {
     },
     "output_type": "execute_result"
    }
   ],
   "source": [
    "content"
   ]
  },
  {
   "cell_type": "code",
   "execution_count": 85,
   "metadata": {
    "collapsed": false
   },
   "outputs": [
    {
     "data": {
      "text/html": [
       "<div>\n",
       "<style>\n",
       "    .dataframe thead tr:only-child th {\n",
       "        text-align: right;\n",
       "    }\n",
       "\n",
       "    .dataframe thead th {\n",
       "        text-align: left;\n",
       "    }\n",
       "\n",
       "    .dataframe tbody tr th {\n",
       "        vertical-align: top;\n",
       "    }\n",
       "</style>\n",
       "<table border=\"1\" class=\"dataframe\">\n",
       "  <thead>\n",
       "    <tr style=\"text-align: right;\">\n",
       "      <th></th>\n",
       "      <th>element</th>\n",
       "      <th>p node</th>\n",
       "      <th>n node</th>\n",
       "      <th>cp node</th>\n",
       "      <th>cn node</th>\n",
       "      <th>Vout</th>\n",
       "      <th>value</th>\n",
       "      <th>Vname</th>\n",
       "      <th>Lname1</th>\n",
       "      <th>Lname2</th>\n",
       "    </tr>\n",
       "  </thead>\n",
       "  <tbody>\n",
       "    <tr>\n",
       "      <th>0</th>\n",
       "      <td>Vin</td>\n",
       "      <td>3</td>\n",
       "      <td>0</td>\n",
       "      <td>NaN</td>\n",
       "      <td>NaN</td>\n",
       "      <td>NaN</td>\n",
       "      <td>1</td>\n",
       "      <td>NaN</td>\n",
       "      <td>NaN</td>\n",
       "      <td>NaN</td>\n",
       "    </tr>\n",
       "    <tr>\n",
       "      <th>1</th>\n",
       "      <td>R2</td>\n",
       "      <td>3</td>\n",
       "      <td>2</td>\n",
       "      <td>NaN</td>\n",
       "      <td>NaN</td>\n",
       "      <td>NaN</td>\n",
       "      <td>1000</td>\n",
       "      <td>NaN</td>\n",
       "      <td>NaN</td>\n",
       "      <td>NaN</td>\n",
       "    </tr>\n",
       "    <tr>\n",
       "      <th>2</th>\n",
       "      <td>R1</td>\n",
       "      <td>1</td>\n",
       "      <td>0</td>\n",
       "      <td>NaN</td>\n",
       "      <td>NaN</td>\n",
       "      <td>NaN</td>\n",
       "      <td>1000</td>\n",
       "      <td>NaN</td>\n",
       "      <td>NaN</td>\n",
       "      <td>NaN</td>\n",
       "    </tr>\n",
       "    <tr>\n",
       "      <th>3</th>\n",
       "      <td>C1</td>\n",
       "      <td>1</td>\n",
       "      <td>0</td>\n",
       "      <td>NaN</td>\n",
       "      <td>NaN</td>\n",
       "      <td>NaN</td>\n",
       "      <td>1e-06</td>\n",
       "      <td>NaN</td>\n",
       "      <td>NaN</td>\n",
       "      <td>NaN</td>\n",
       "    </tr>\n",
       "    <tr>\n",
       "      <th>4</th>\n",
       "      <td>C2</td>\n",
       "      <td>2</td>\n",
       "      <td>1</td>\n",
       "      <td>NaN</td>\n",
       "      <td>NaN</td>\n",
       "      <td>NaN</td>\n",
       "      <td>1e-05</td>\n",
       "      <td>NaN</td>\n",
       "      <td>NaN</td>\n",
       "      <td>NaN</td>\n",
       "    </tr>\n",
       "    <tr>\n",
       "      <th>5</th>\n",
       "      <td>L1</td>\n",
       "      <td>1</td>\n",
       "      <td>0</td>\n",
       "      <td>NaN</td>\n",
       "      <td>NaN</td>\n",
       "      <td>NaN</td>\n",
       "      <td>0.001</td>\n",
       "      <td>NaN</td>\n",
       "      <td>NaN</td>\n",
       "      <td>NaN</td>\n",
       "    </tr>\n",
       "  </tbody>\n",
       "</table>\n",
       "</div>"
      ]
     },
     "execution_count": 85,
     "metadata": {
     },
     "output_type": "execute_result"
    }
   ],
   "source": [
    "df"
   ]
  },
  {
   "cell_type": "code",
   "execution_count": 86,
   "metadata": {
    "collapsed": false
   },
   "outputs": [
   ],
   "source": [
    "# store the data frame as a pickle file\n",
    "# df.to_pickle(fn+'.pkl')  # <- uncomment if needed"
   ]
  },
  {
   "cell_type": "code",
   "execution_count": 87,
   "metadata": {
    "collapsed": false
   },
   "outputs": [
   ],
   "source": [
    "# initialize some symbolic matrix with zeros\n",
    "# A is formed by [[G, C] [B, D]]\n",
    "# Z = [I,E]\n",
    "# X = [V, J]\n",
    "V = zeros(num_nodes,1)\n",
    "I = zeros(num_nodes,1)\n",
    "G = zeros(num_nodes,num_nodes)\n",
    "s = Symbol('s')  # the Laplace variable\n",
    "\n",
    "# count the number of element types that affect the size of the B, C, D, E and J arrays\n",
    "k = num_v+num_opamps+num_vcvs+num_ccvs+num_ind\n",
    "if (num_v+num_opamps) != 0:\n",
    "    B = zeros(num_nodes,num_v+num_opamps)\n",
    "    C = zeros(num_v+num_opamps,num_nodes)\n",
    "    D = zeros(num_v+num_opamps,num_v+num_opamps)\n",
    "    E = zeros(num_v+num_opamps,1)\n",
    "    J = zeros(num_v+num_opamps,1)"
   ]
  },
  {
   "cell_type": "markdown",
   "metadata": {
    "collapsed": false
   },
   "source": [
    "##### G matrix                  <span style=\"color:red\">\\----need to check on inductor treatment, doesn't verify with LTspice testing, inductor stamp affects the B,C and D arrays</span>\n",
    "The G matrix is n by n and is determined by the interconnections between the passive circuit elements (RLC's).  The G matrix is an nxn matrix formed in two steps:\n",
    "1. Each element in the diagonal matrix is equal to the sum of the conductance (one over the resistance) of each element connected to the corresponding node.  So the first diagonal element is the sum of conductances connected to node 1, the second diagonal element is the sum of conductances connected to node 2, and so on.\n",
    "2. The off diagonal elements are the negative conductance of the element connected to the pair of corresponding node.  Therefore a resistor between nodes 1 and 2 goes into the G matrix at location (1,2) and locations (2,1)."
   ]
  },
  {
   "cell_type": "raw",
   "metadata": {
    "collapsed": false
   },
   "source": [
    "case 'R',\n",
    "    g = ['1/' Element(i).Name];\n",
    "case 'L',\n",
    "    g = ['1/s/' Element(i).Name];\n",
    "case 'C',\n",
    "    g = ['s*' Element(i).Name];"
   ]
  },
  {
   "cell_type": "code",
   "execution_count": 88,
   "metadata": {
    "collapsed": false
   },
   "outputs": [
    {
     "data": {
      "text/latex": [
       "$$\\left[\\begin{matrix}C_{1} s + C_{2} s + \\frac{1}{R_{1}} + \\frac{1}{L_{1} s} & - C_{2} s & 0\\\\- C_{2} s & C_{2} s + \\frac{1}{R_{2}} & - \\frac{1}{R_{2}}\\\\0 & - \\frac{1}{R_{2}} & \\frac{1}{R_{2}}\\end{matrix}\\right]$$"
      ]
     },
     "execution_count": 88,
     "metadata": {
     },
     "output_type": "execute_result"
    }
   ],
   "source": [
    "# G matrix\n",
    "for i in range(branch_cnt):  # don't use branch count use # of rows in data frame\n",
    "    n1 = df.loc[i,'p node']\n",
    "    n2 = df.loc[i,'n node']\n",
    "    # process all the passive elements, save conductance to temp value\n",
    "    x = df.loc[i,'element'][0]   #get 1st letter of element name\n",
    "    if x == 'R':\n",
    "        g = 1/sympify(df.loc[i,'element'])\n",
    "    if x == 'L':\n",
    "        g = 1/s/sympify(df.loc[i,'element'])  # this matches Eric's code\n",
    "    if x == 'C':\n",
    "        g = s*sympify(df.loc[i,'element'])\n",
    "\n",
    "    if (x == 'R') or (x == 'L') or (x == 'C'):\n",
    "        # If neither side of the element is connected to ground\n",
    "        # then subtract it from appropriate location in matrix.\n",
    "        if (n1 != 0) and (n2 != 0):\n",
    "            G[n1-1,n2-1] += -g\n",
    "            G[n2-1,n1-1] += -g\n",
    "\n",
    "        # If node 1 is connected to ground, add element to diagonal of matrix\n",
    "        if n1 != 0:\n",
    "            G[n1-1,n1-1] += g\n",
    "\n",
    "        # same for for node 2\n",
    "        if n2 != 0:\n",
    "            G[n2-1,n2-1] += g\n",
    "\n",
    "G  # display the G matrix"
   ]
  },
  {
   "cell_type": "markdown",
   "metadata": {
    "collapsed": false
   },
   "source": [
    "##### I matrix\n",
    "The I matrix is an n by 1 matrix with each element of the matrix corresponding to a particular node.  The value of each element of I is determined by the sum of current sources into the corresponding node.  If there are no current sources connected to the node, the value is zero."
   ]
  },
  {
   "cell_type": "code",
   "execution_count": 89,
   "metadata": {
    "collapsed": false
   },
   "outputs": [
    {
     "data": {
      "text/latex": [
       "$$\\left[\\begin{matrix}0\\\\0\\\\0\\end{matrix}\\right]$$"
      ]
     },
     "execution_count": 89,
     "metadata": {
     },
     "output_type": "execute_result"
    }
   ],
   "source": [
    "# generate the I matrix, current sources have N2 = arrow end\n",
    "for i in range(branch_cnt):\n",
    "    n1 = df.loc[i,'p node']\n",
    "    n2 = df.loc[i,'n node']\n",
    "    # process all the passive elements, save conductance to temp value\n",
    "    x = df.loc[i,'element'][0]   #get 1st letter of element name\n",
    "    if x == 'I':\n",
    "        g = sympify(df.loc[i,'element'])\n",
    "        # sum the current into each node\n",
    "        if n1 != 0:\n",
    "            I[n1-1] -= g\n",
    "        if n2 != 0:\n",
    "            I[n2-1] += g\n",
    "\n",
    "I  # display the I matrix"
   ]
  },
  {
   "cell_type": "markdown",
   "metadata": {
    "collapsed": false
   },
   "source": [
    "##### V matrix\n",
    "The V matrixis an nx1 matrix formed of the node voltages.  Each element in V corresponds to the voltage at the equivalent node in the circuit"
   ]
  },
  {
   "cell_type": "code",
   "execution_count": 90,
   "metadata": {
    "collapsed": false
   },
   "outputs": [
    {
     "data": {
      "text/latex": [
       "$$\\left[\\begin{matrix}v_{1}\\\\v_{2}\\\\v_{3}\\end{matrix}\\right]$$"
      ]
     },
     "execution_count": 90,
     "metadata": {
     },
     "output_type": "execute_result"
    }
   ],
   "source": [
    "# generate the V matrix\n",
    "for i in range(num_nodes):\n",
    "    V[i] = sympify('v{:d}'.format(i+1))\n",
    "\n",
    "V  # display the V matrix"
   ]
  },
  {
   "cell_type": "markdown",
   "metadata": {
    "collapsed": false
   },
   "source": [
    "##### B Matrix\n",
    "Rules for making the B matrix\n",
    "The B matrix is an n by m matrix with only 0, 1 and -1 elements (except for controlled sources).  Each location in the matrix corresponds to a particular voltage source (first dimension) or a node (second dimension).  If the positive terminal of the ith voltage source is connected to node k, then the element (i,k) in the B matrix is a 1.  If the negative terminal of the ith voltage source is connected to node k, then the element (i,k) in the B matrix is a -1.  Otherwise, elements of the B matrix are zero."
   ]
  },
  {
   "cell_type": "code",
   "execution_count": 91,
   "metadata": {
    "collapsed": false
   },
   "outputs": [
    {
     "data": {
      "text/latex": [
       "$$\\left[\\begin{matrix}0\\\\0\\\\1\\end{matrix}\\right]$$"
      ]
     },
     "execution_count": 91,
     "metadata": {
     },
     "output_type": "execute_result"
    }
   ],
   "source": [
    "# generate the B Matrix\n",
    "# loop through all the branches and process independent voltage sources\n",
    "sn = 0   # count source number\n",
    "for i in range(branch_cnt):\n",
    "    n1 = df.loc[i,'p node']\n",
    "    n2 = df.loc[i,'n node']\n",
    "    # process all the independent voltage sources\n",
    "    x = df.loc[i,'element'][0]   #get 1st letter of element name\n",
    "    if x == 'V':\n",
    "        if num_v+num_opamps > 1:\n",
    "            if n1 != 0:\n",
    "                B[n1-1,sn] = 1\n",
    "            if n2 != 0:\n",
    "                B[n2-1,sn] = -1\n",
    "            sn += 1   #increment source count\n",
    "        else:\n",
    "            if n1 != 0:\n",
    "                B[n1-1] = 1\n",
    "            if n2 != 0:\n",
    "                B[n2-1] = -1\n",
    "\n",
    "# loop through all the branches and process op amps\n",
    "oan = 0   # running count of op amp number\n",
    "for i in range(branch_cnt):\n",
    "    n_vout = df.loc[i,'Vout'] # node connected to op amp output\n",
    "    # look for branches with op amps and process\n",
    "    x = df.loc[i,'element'][0]   # get 1st letter of element name\n",
    "    if x == 'O':\n",
    "        B[n_vout-1,oan+num_v] = 1\n",
    "        oan += 1   # increment op amp count\n",
    "\n",
    "B   # display the B matrix"
   ]
  },
  {
   "cell_type": "markdown",
   "metadata": {
    "collapsed": false
   },
   "source": [
    "##### J matrix\n",
    "The is an m by 1 matrix, with one entry for the current through each voltage source."
   ]
  },
  {
   "cell_type": "code",
   "execution_count": 92,
   "metadata": {
    "collapsed": false
   },
   "outputs": [
    {
     "data": {
      "text/latex": [
       "$$\\left[\\begin{matrix}I_{Vin}\\end{matrix}\\right]$$"
      ]
     },
     "execution_count": 92,
     "metadata": {
     },
     "output_type": "execute_result"
    }
   ],
   "source": [
    "# The J matrix is an mx1 matrix, with one entry for the current through each voltage source.\n",
    "sn = 0   # count source number\n",
    "oan = 0   #count op amp number\n",
    "for i in range(branch_cnt):\n",
    "    # process all the passive elements\n",
    "    x = df.loc[i,'element'][0]   #get 1st letter of element name\n",
    "    if x == 'V':\n",
    "        J[sn] = sympify('I_{:s}'.format(df.loc[i,'element']))\n",
    "        sn += 1\n",
    "    if x == 'O':  # this needs to be checked <---- needs debugging\n",
    "        J[oan+num_v] = sympify('I_{:s}'.format(df.loc[i,'element']))\n",
    "        oan += 1\n",
    "\n",
    "J  # diplay the J matrix"
   ]
  },
  {
   "cell_type": "markdown",
   "metadata": {
    "collapsed": false
   },
   "source": [
    "##### C matrix\n",
    "The C matrix is an m by n matrix with only 0, 1 and -1 elements (except for controlled sources).  Each location in the matrix corresponds to a particular node (first dimension) or voltage source (second dimension).  If the positive terminal of the ith voltage source is connected to node k, then the element (k,i) in the C matrix is a 1.  If the negative terminal of the ith voltage source is connected to node k, then the element (k,i) in the C matrix is a -1.  Otherwise, elements of the C matrix are zero."
   ]
  },
  {
   "cell_type": "code",
   "execution_count": 93,
   "metadata": {
    "collapsed": false
   },
   "outputs": [
    {
     "data": {
      "text/latex": [
       "$$\\left[\\begin{matrix}0 & 0 & 1\\end{matrix}\\right]$$"
      ]
     },
     "execution_count": 93,
     "metadata": {
     },
     "output_type": "execute_result"
    }
   ],
   "source": [
    "# generate the C matrix\n",
    "sn = 0   # count source number\n",
    "for i in range(branch_cnt):\n",
    "    n1 = df.loc[i,'p node']\n",
    "    n2 = df.loc[i,'n node']\n",
    "    # process all the independent voltage sources\n",
    "    x = df.loc[i,'element'][0]   #get 1st letter of element name\n",
    "    if x == 'V':\n",
    "        if num_v+num_opamps > 1:\n",
    "            if n1 != 0:\n",
    "                C[sn,n1-1] = 1\n",
    "            if n2 != 0:\n",
    "                C[sn,n2-1] = -1\n",
    "            sn += 1   #increment source count\n",
    "        else:\n",
    "            if n1 != 0:\n",
    "                C[n1-1] = 1\n",
    "            if n2 != 0:\n",
    "                C[n2-1] = -1\n",
    "\n",
    "# loop through all the branches and process op amps\n",
    "oan = 0   # running count of op amp number\n",
    "for i in range(branch_cnt):\n",
    "    n1 = df.loc[i,'p node']\n",
    "    n2 = df.loc[i,'n node']\n",
    "    n_vout = df.loc[i,'Vout'] # node connected to op amp output\n",
    "    # look for branches with op amps and process\n",
    "    x = df.loc[i,'element'][0]   # get 1st letter of element name\n",
    "    if x == 'O':\n",
    "        if n1 != 0:\n",
    "            C[oan+num_v,n1-1] = 1\n",
    "        if n2 != 0:\n",
    "            C[oan+num_v,n2-1] = -1\n",
    "        oan += 1  # increment op amp number\n",
    "\n",
    "C   # display the C matrix"
   ]
  },
  {
   "cell_type": "markdown",
   "metadata": {
    "collapsed": false
   },
   "source": [
    "##### D matrix\n",
    "The D matrix is an mxm matrix that is composed entirely of zeros.  (It can be non-zero if controlled sources are considered.)"
   ]
  },
  {
   "cell_type": "code",
   "execution_count": 94,
   "metadata": {
    "collapsed": false
   },
   "outputs": [
    {
     "data": {
      "text/latex": [
       "$$\\left[\\begin{matrix}0\\end{matrix}\\right]$$"
      ]
     },
     "execution_count": 94,
     "metadata": {
     },
     "output_type": "execute_result"
    }
   ],
   "source": [
    "# display the The D matrix\n",
    "D"
   ]
  },
  {
   "cell_type": "markdown",
   "metadata": {
    "collapsed": false
   },
   "source": [
    "##### E matrix\n",
    "The E matrix is mx1 and holds the values of the independent voltage sources."
   ]
  },
  {
   "cell_type": "code",
   "execution_count": 95,
   "metadata": {
    "collapsed": false
   },
   "outputs": [
    {
     "data": {
      "text/latex": [
       "$$\\left[\\begin{matrix}Vin\\end{matrix}\\right]$$"
      ]
     },
     "execution_count": 95,
     "metadata": {
     },
     "output_type": "execute_result"
    }
   ],
   "source": [
    "# generate the E matrix\n",
    "sn = 0   # count source number\n",
    "for i in range(branch_cnt):\n",
    "    # process all the passive elements\n",
    "    x = df.loc[i,'element'][0]   #get 1st letter of element name\n",
    "    if x == 'V':\n",
    "        E[sn] = sympify(df.loc[i,'element'])\n",
    "        sn += 1\n",
    "\n",
    "E   # display the E matrix"
   ]
  },
  {
   "cell_type": "markdown",
   "metadata": {
    "collapsed": false
   },
   "source": [
    "##### Z matrix\n",
    "The Z matrix holds the independent voltage and current sources and is the combination of 2 smaller matrices I and E.  The Z matrix is (m+n) by 1, n is the number of nodes, and m is the number of independent voltage sources.  The I matrix is n by 1 and contains the sum of the currents through the passive elements into the corresponding node (either zero, or the sum of independent current sources). The E matrix is m by 1 and holds the values of the independent voltage sources."
   ]
  },
  {
   "cell_type": "code",
   "execution_count": 96,
   "metadata": {
    "collapsed": false
   },
   "outputs": [
    {
     "data": {
      "text/latex": [
       "$$\\left [ 0, \\quad 0, \\quad 0, \\quad Vin\\right ]$$"
      ]
     },
     "execution_count": 96,
     "metadata": {
     },
     "output_type": "execute_result"
    }
   ],
   "source": [
    "Z = I[:] + E[:]\n",
    "Z  # display the Z matrix"
   ]
  },
  {
   "cell_type": "markdown",
   "metadata": {
    "collapsed": false
   },
   "source": [
    "##### X matrix\n",
    "The X matrix is an (n+m) by 1 vector that holds the unknown quantities (node voltages and the currents through the independent voltage sources). The top n elements are the n node voltages. The bottom m elements represent the currents through the m independent voltage sources in the circuit. The V matrix is n by 1 and holds the unknown voltages.  The J matrix is m by 1 and holds the unknown currents through the voltage sources"
   ]
  },
  {
   "cell_type": "code",
   "execution_count": 97,
   "metadata": {
    "collapsed": false
   },
   "outputs": [
    {
     "data": {
      "text/latex": [
       "$$\\left [ v_{1}, \\quad v_{2}, \\quad v_{3}, \\quad I_{Vin}\\right ]$$"
      ]
     },
     "execution_count": 97,
     "metadata": {
     },
     "output_type": "execute_result"
    }
   ],
   "source": [
    "X = V[:] + J[:]\n",
    "X  # display the X matrix"
   ]
  },
  {
   "cell_type": "markdown",
   "metadata": {
    "collapsed": false
   },
   "source": [
    "##### A matrix\n",
    "The A matrix is (m+n) by (m+n) and will be developed as the combination of 4 smaller matrices, G, B, C, and D."
   ]
  },
  {
   "cell_type": "code",
   "execution_count": 98,
   "metadata": {
    "collapsed": false
   },
   "outputs": [
    {
     "data": {
      "text/latex": [
       "$$\\left[\\begin{matrix}C_{1} s + C_{2} s + \\frac{1}{R_{1}} + \\frac{1}{L_{1} s} & - C_{2} s & 0 & 0\\\\- C_{2} s & C_{2} s + \\frac{1}{R_{2}} & - \\frac{1}{R_{2}} & 0\\\\0 & - \\frac{1}{R_{2}} & \\frac{1}{R_{2}} & 1\\\\0 & 0 & 1 & 0\\end{matrix}\\right]$$"
      ]
     },
     "execution_count": 98,
     "metadata": {
     },
     "output_type": "execute_result"
    }
   ],
   "source": [
    "n = num_nodes\n",
    "m = num_v+num_opamps\n",
    "A = zeros(m+n,m+n)\n",
    "for i in range(n):\n",
    "    for j in range(n):\n",
    "        A[i,j] = G[i,j]\n",
    "\n",
    "if num_v+num_opamps > 1:\n",
    "    for i in range(n):\n",
    "        for j in range(m):\n",
    "            A[i,n+j] = B[i,j]\n",
    "            A[n+j,i] = C[j,i]\n",
    "else:\n",
    "    for i in range(n):\n",
    "        A[i,n] = B[i]\n",
    "        A[n,i] = C[i]\n",
    "\n",
    "A  # display the A matrix"
   ]
  },
  {
   "cell_type": "code",
   "execution_count": 99,
   "metadata": {
    "collapsed": false
   },
   "outputs": [
    {
     "data": {
      "text/latex": [
       "$$\\left[\\begin{matrix}- C_{2} s v_{2} + v_{1} \\left(C_{1} s + C_{2} s + \\frac{1}{R_{1}} + \\frac{1}{L_{1} s}\\right) = 0\\\\- C_{2} s v_{1} + v_{2} \\left(C_{2} s + \\frac{1}{R_{2}}\\right) - \\frac{v_{3}}{R_{2}} = 0\\\\I_{Vin} - \\frac{v_{2}}{R_{2}} + \\frac{v_{3}}{R_{2}} = 0\\\\v_{3} = Vin\\end{matrix}\\right]$$"
      ]
     },
     "execution_count": 99,
     "metadata": {
     },
     "output_type": "execute_result"
    }
   ],
   "source": [
    "# generate the circuit equations\n",
    "n = num_nodes\n",
    "m = num_v+num_opamps\n",
    "eq_temp = 0  # temporary equation used to build up the equation\n",
    "equ = zeros(m+n,1)  #initialize the array to hold the equations\n",
    "for i in range(n+m):\n",
    "    for j in range(n+m):\n",
    "        eq_temp += A[i,j]*X[j]\n",
    "    equ[i] = Eq(eq_temp,Z[i])\n",
    "    eq_temp = 0\n",
    "\n",
    "equ   # display the equations"
   ]
  },
  {
   "cell_type": "markdown",
   "metadata": {
    "collapsed": false
   },
   "source": [
    "Use the str() function to convert sympy equations to strings.  These strings can be copid to a new notebook."
   ]
  },
  {
   "cell_type": "code",
   "execution_count": 100,
   "metadata": {
    "collapsed": false
   },
   "outputs": [
    {
     "data": {
      "text/plain": [
       "'Matrix([[Eq(-C2*s*v2 + v1*(C1*s + C2*s + 1/R1 + 1/(L1*s)), 0)], [Eq(-C2*s*v1 + v2*(C2*s + 1/R2) - v3/R2, 0)], [Eq(I_Vin - v2/R2 + v3/R2, 0)], [Eq(v3, Vin)]])'"
      ]
     },
     "execution_count": 100,
     "metadata": {
     },
     "output_type": "execute_result"
    }
   ],
   "source": [
    "str(equ)"
   ]
  },
  {
   "cell_type": "code",
   "execution_count": 101,
   "metadata": {
    "collapsed": false
   },
   "outputs": [
    {
     "data": {
      "text/plain": [
       "'{Vin, R1, L1, v2, R2, C2, v1, s, v3, I_Vin, C1}'"
      ]
     },
     "execution_count": 101,
     "metadata": {
     },
     "output_type": "execute_result"
    }
   ],
   "source": [
    "str(equ.free_symbols)"
   ]
  },
  {
   "cell_type": "code",
   "execution_count": 102,
   "metadata": {
    "collapsed": false
   },
   "outputs": [
    {
     "data": {
      "text/plain": [
       "'[v1, v2, v3, I_Vin]'"
      ]
     },
     "execution_count": 102,
     "metadata": {
     },
     "output_type": "execute_result"
    }
   ],
   "source": [
    "str(X)"
   ]
  },
  {
   "cell_type": "code",
   "execution_count": 103,
   "metadata": {
    "collapsed": false
   },
   "outputs": [
    {
     "data": {
      "text/html": [
       "<div>\n",
       "<style>\n",
       "    .dataframe thead tr:only-child th {\n",
       "        text-align: right;\n",
       "    }\n",
       "\n",
       "    .dataframe thead th {\n",
       "        text-align: left;\n",
       "    }\n",
       "\n",
       "    .dataframe tbody tr th {\n",
       "        vertical-align: top;\n",
       "    }\n",
       "</style>\n",
       "<table border=\"1\" class=\"dataframe\">\n",
       "  <thead>\n",
       "    <tr style=\"text-align: right;\">\n",
       "      <th></th>\n",
       "      <th>element</th>\n",
       "      <th>p node</th>\n",
       "      <th>n node</th>\n",
       "      <th>cp node</th>\n",
       "      <th>cn node</th>\n",
       "      <th>Vout</th>\n",
       "      <th>value</th>\n",
       "      <th>Vname</th>\n",
       "      <th>Lname1</th>\n",
       "      <th>Lname2</th>\n",
       "    </tr>\n",
       "  </thead>\n",
       "  <tbody>\n",
       "    <tr>\n",
       "      <th>0</th>\n",
       "      <td>Vin</td>\n",
       "      <td>3</td>\n",
       "      <td>0</td>\n",
       "      <td>NaN</td>\n",
       "      <td>NaN</td>\n",
       "      <td>NaN</td>\n",
       "      <td>1</td>\n",
       "      <td>NaN</td>\n",
       "      <td>NaN</td>\n",
       "      <td>NaN</td>\n",
       "    </tr>\n",
       "    <tr>\n",
       "      <th>1</th>\n",
       "      <td>R2</td>\n",
       "      <td>3</td>\n",
       "      <td>2</td>\n",
       "      <td>NaN</td>\n",
       "      <td>NaN</td>\n",
       "      <td>NaN</td>\n",
       "      <td>1000</td>\n",
       "      <td>NaN</td>\n",
       "      <td>NaN</td>\n",
       "      <td>NaN</td>\n",
       "    </tr>\n",
       "    <tr>\n",
       "      <th>2</th>\n",
       "      <td>R1</td>\n",
       "      <td>1</td>\n",
       "      <td>0</td>\n",
       "      <td>NaN</td>\n",
       "      <td>NaN</td>\n",
       "      <td>NaN</td>\n",
       "      <td>1000</td>\n",
       "      <td>NaN</td>\n",
       "      <td>NaN</td>\n",
       "      <td>NaN</td>\n",
       "    </tr>\n",
       "    <tr>\n",
       "      <th>3</th>\n",
       "      <td>C1</td>\n",
       "      <td>1</td>\n",
       "      <td>0</td>\n",
       "      <td>NaN</td>\n",
       "      <td>NaN</td>\n",
       "      <td>NaN</td>\n",
       "      <td>1e-06</td>\n",
       "      <td>NaN</td>\n",
       "      <td>NaN</td>\n",
       "      <td>NaN</td>\n",
       "    </tr>\n",
       "    <tr>\n",
       "      <th>4</th>\n",
       "      <td>C2</td>\n",
       "      <td>2</td>\n",
       "      <td>1</td>\n",
       "      <td>NaN</td>\n",
       "      <td>NaN</td>\n",
       "      <td>NaN</td>\n",
       "      <td>1e-05</td>\n",
       "      <td>NaN</td>\n",
       "      <td>NaN</td>\n",
       "      <td>NaN</td>\n",
       "    </tr>\n",
       "    <tr>\n",
       "      <th>5</th>\n",
       "      <td>L1</td>\n",
       "      <td>1</td>\n",
       "      <td>0</td>\n",
       "      <td>NaN</td>\n",
       "      <td>NaN</td>\n",
       "      <td>NaN</td>\n",
       "      <td>0.001</td>\n",
       "      <td>NaN</td>\n",
       "      <td>NaN</td>\n",
       "      <td>NaN</td>\n",
       "    </tr>\n",
       "  </tbody>\n",
       "</table>\n",
       "</div>"
      ]
     },
     "execution_count": 103,
     "metadata": {
     },
     "output_type": "execute_result"
    }
   ],
   "source": [
    "df"
   ]
  },
  {
   "cell_type": "code",
   "execution_count": 0,
   "metadata": {
    "collapsed": false
   },
   "outputs": [
   ],
   "source": [
   ]
  },
  {
   "cell_type": "code",
   "execution_count": 0,
   "metadata": {
    "collapsed": false
   },
   "outputs": [
   ],
   "source": [
   ]
  }
 ],
 "metadata": {
  "kernelspec": {
   "display_name": "Python 3 (Anaconda)",
   "language": "python",
   "name": "anaconda3"
  },
  "language_info": {
   "codemirror_mode": {
    "name": "ipython",
    "version": 3
   },
   "file_extension": ".py",
   "mimetype": "text/x-python",
   "name": "python",
   "nbconvert_exporter": "python",
   "pygments_lexer": "ipython3",
   "version": "3.5.4"
  }
 },
 "nbformat": 4,
 "nbformat_minor": 0
}