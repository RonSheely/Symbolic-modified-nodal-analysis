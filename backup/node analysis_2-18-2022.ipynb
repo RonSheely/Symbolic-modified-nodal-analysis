{
 "cells": [
  {
   "cell_type": "markdown",
   "metadata": {},
   "source": [
    "# Symbolic modified nodal analysis\n",
    "Last update: 18 Feb 2022\n",
    "\n",
    "# >> BUG note:\n",
    "18 Feb 2022: Noticed a bug when the independent voltage source is the last line in the netlist, moving to 1st line in the netlist generated what seems like correct equations. Investigation continues. For now, ordering the netlist with independent sources listed first in the net list seems to work. The problem is with generation of the Ev and J matrices. \n",
    "\n",
    "**Abstract:** The python code in this jupyter notebook will read in a spice like circuit netlist file and formulate a set of network equations in symbolic form using sympy. These equations can then be copied to a different notebook where the node voltages can be numerically solved using sympy or numpy.  Linear resistors, capacitors, inductors, independent sources and controlled sources are supported.\n",
    "\n",
    "**Introduction:** This node analysis code started as a translation from some C code to generate a nodal admittance matrix that I had written in 1988.  I wrote this code for two reasons.  Free versions of Spice for the PC didn't exist at the time and I wanted to use some of the code from the Numerical Recipes in C [[1]](#ref1) Book.  The original C code worked well and calculated numeric solutions.  I then started writing some C code to generate the matrices with symbolic values and then intended to use LISP to symbolically solve the equations.  I didn’t get too far with this effort.  The LISP code would generate huge symbolic strings with no simplification.  The output was a big pile of trash that was not in the least bit useful or decipherable.\n",
    "\n",
    "In 2014, I started to use python for my little coding projects and engineering calculations.  There are some nice python libraries for numeric and symbolic calculations (such as numpy and sympy), so I decided to try writing a python script to generate the node equations based on the old C code I had written many years before.  Part way into this project I discovered that there is a new nodal analysis technique being taught today in engineering school called the modified nodal analysis [[2]](#ref2)[[3]](#ref3).  My motivation for reviving this coding project is my continued interest in circuit analysis and synthesis.  \n",
    "\n",
    "**Description:** The modified nodal analysis provides an algorithmic method for generating systems of independent equations for linear circuit analysis. Some of my younger colleagues at work were taught this method, but I never heard of it until a short time ago. These days, I never really analyze a circuit by hand, unless it’s so simple that you can almost do it by inspection. Most problems that an electrical engineer encounters on the job are complex enough that they use computers to analyze the circuits. LTspice [[4]](#ref4) is the version of spice that I use, since it’s free and does a good job converging when analyzing switching circuits.\n",
    "\n",
    "My code started initially by following Erik Cheever's Analysis of Resistive Circuits, reference [[5]](#ref5) MATLAB code, to generate modified nodal equations. I somewhat followed his MATLAB file for resistors, capacitors, opamps and independent sources. The naming of the matrices follows his convention. The preprocessor and parser code was converted from my old C code. The use of pandas for a data frame is new and sympy [[6]](#ref6) is used to do the math and the use of element stamps is from reference [[7]](#ref7).\n",
    "\n",
    "Inductors are being addressed in the D matrix. Erik's code puts inductors into the G matrix as 1/s/L.  My code puts the inductor contribution into the D matrix and the unknown current from the inductor into the B and C matrices.  Coupled inductors also affect the D matrix, so it makes sense to allow the inductors to be in the D matrix rather than the G matrix.\n",
    "\n",
    "**Network equations:** The network equations are a set of independent equations expressed in this code in matrix form.  There is an equation for each node based on Kirchhoff's current law (KCL) [[8]](#ref8) and an equation for each current unknown.   The current unknowns are the currents from the voltages sources, op amps, voltage controlled voltage sources, current controlled voltage sources, current controlled current sources and inductors.\n",
    "\n",
    "Equation 1 is the network equations in matrix form.  \n",
    "\n",
    "$A\\cdot X = Z$\n",
    "\n",
    "The A matrix describes the connectivity of the resistors, capacitors and G type (VCCS) circuit elements.  The column vector X are the unknown node voltages and unknown currents terms from the voltage sources and inductors.  The column vector Z is made of the known voltages and currents.  The A is formed by four sub matrices, G, B, C and D, which are described below.\n",
    "\n",
    "$A = \\begin{bmatrix}G B\\\\C D\\end{bmatrix}$\n",
    "\n",
    "The matrix G is formed from the coefficients representing the KCL equations for each node.\n",
    "The positive diagonal of G$_{k,k}$ are the conductance terms of the resistor and capacitor elements connected to node k.  The off diagonal terms of G$_{k,j}$ are the resistors and capacitor conductances connecting node k to node j.  G type elements (VCCS) have input to the G matrix at the connection and controlling node positions.\n",
    "\n",
    "The B matrix describes the connectivity of the unknown branch currents.  Independent voltage sources, opamps, H, F and E type elements as well as inductors have inputs to the B matrix.\n",
    "\n",
    "The C matrix describes the connectivity of the unknown branch currents and is mainly the transpose of B the matrix, with the exception of the F type elements (CCCS) and includes the E type value. \n",
    "\n",
    "The D matrix also describes connectivity of the unknown currents.  The D matrix is composed of zeros unless there are controlled sources and inductors in the network.  \n",
    "\n",
    "The X vector is composed of the V and J vectors as shown below.   \n",
    "$X = \\begin{bmatrix}V\\\\J\\end{bmatrix}$  \n",
    "The V vector contains the node voltages which are the voltage unknowns to be solved for.  The J vector contains the unknown currents from each voltage source.\n",
    "\n",
    "The Z vector is composed of the I and Ev vectors as shown below.  \n",
    "$Z = \\begin{bmatrix}I\\\\Ev\\end{bmatrix}$  \n",
    "The I vector contains the known currents and the Ev vector contains the known voltages.  Ev is used as the variable because sympy uses e and E sometimes for the constant e=2.71, sometimes called Euler's number [[9]](#ref9).  The use of E or e as a symbol was causing some errors when the code was run.  \n",
    "\n",
    "Putting all the parts together:\n",
    "\n",
    "$\\begin{bmatrix}G B\\\\C D\\end{bmatrix} \\cdot \\begin{bmatrix}V\\\\J\\end{bmatrix} = \\begin{bmatrix}I\\\\Ev\\end{bmatrix}$\n",
    "\n",
    "**Stamps:** Stamps are templates for modifying the B, C and D matrices and facilitate the construction of the matrices. The stamps used in this implementation of the MNA follow the stamps of reference [[7]](#ref7).  \n",
    "\n",
    "**Code description:**  The code is divided in the following sections.  \n",
    "Preprocessor:  The preprocessor reads in the netlist text file and removes comments, extra spaces and blank lines.  The first letter of the element type is capitalized to make subsequent parsing of the file easier.  The number of lines are counted and the number of entries on each line are checked to make sure the count is consistent with the element type.\n",
    "\n",
    "Parser:  The parser code loads the preprocessed netlist into a data frame.  A report is generated which consists of a count of the element types in the netlist.  \n",
    "\n",
    "Matrix formulation: Each of the matrices and vectors are generated.  \n",
    "\n",
    "Circuit equation generation:  The circuit equations are generated in a for loop.  Sympy automatically does some simplification according to its default settings.  Two for loops perform the matrix multiplication on equation 1.  The Laplace variable s is used when inductors and capacitors are included in the circuit[[7]](#ref7).  \n",
    "\n",
    "**Code validation:**  The python code was verified by analyzing test circuits and comparing the results to LTspice.  A collection of worked circuits can be found in reference [[8]](#ref8).  See the revision history below for an indication of validation performed so far.  Other test circuits can be found in reference [[11]](#ref11).  [Test vectors](https://github.com/Tiburonboy/Symbolic-modified-nodal-analysis/tree/master/test%20circuits) can be found in the github repository for this project.  See the readme file in the test circuits folder for a description of the validation tests.  Code validation is on going at this time.  \n",
    "\n",
    "**Usage:**  The input file is a text file called the netlist.  It can be generated by using a text editor using the format listed below or by drawing the schematic and exporting the net list.  LTspice can be used to draw the schematic of the circuit to be analyzed.  The bit mapped image of the schematic can be copied and included in a document.  The net list can be imported into the python code and the circuit equations can be generated in symbolic form.  The [User’s guide](https://github.com/Tiburonboy/Symbolic-modified-nodal-analysis/blob/master/user_guide.md) can be found on github repository.\n",
    "\n",
    "**Change log:**  The code development change log can be found on github [here](https://github.com/Tiburonboy/Symbolic-modified-nodal-analysis/blob/master/Change%20Log.md).\n",
    "\n",
    "The backup history can also be found on github.\n",
    "[Backups](https://github.com/Tiburonboy/Symbolic-modified-nodal-analysis/tree/master/backup)\n",
    "\n",
    "**Survey of other symbolic circuit analysis code:**  The python code presented in this notebook is somewhat unique since python is open source, free and runs on a variety of platforms.  The code presented in this ipython notebook is portable.  As described below, this code is made available under a public domain license and archived in a github [repository](https://github.com/Tiburonboy/Symbolic-modified-nodal-analysis).  \n",
    "\n",
    "There are other symbolic circuit analysis codes available and some of these are described here.  Some of these codes are based on commercial software such as MATLAB [[12]](#ref12), TINA  [[13]](#ref13) and Maple [[14]](#ref14).  \n",
    "\n",
    "[SLiCAP](https://www.analog-electronics.eu/slicap/slicap.html) is a symbolic linear analysis tool.  SLiCAP runs in MATLAB.  \n",
    "\n",
    "[TINA](https://www.tina.com) is an acronym of Toolkit for Interactive Network Analysis.  The TINA design suite is a circuit simulator and PCB design software package for analyzing, designing, and real time testing of analog, digital, HDL, MCU, and mixed electronic circuits and their PCB layouts. TINA has some [symbolic analysis capability](https://www.tina.com/symbolic-analysis).\n",
    "\n",
    "Maple is a mathematical package and there is an application [note](https://www.maplesoft.com/applications/view.aspx?SID=1427) available describing its use in symbolic circuit analysis. The application note presents a method for evaluating, solving and designing a common, but not so simple pulse-mode high-gain transimpedance amplifier or TIA circuit. \n",
    "\n",
    "[Symbolic Circuit Analysis](https://rodanski.net/ben/work/symbolic/index.htm) is a web page devoted to symbolic circuit analysis.  \n",
    "\n",
    "[SAPWIN](http://www.ewh.ieee.org/soc/es/May2001/12/Begin.htm) is a windows program package for symbolic and numerical simulation of analog circuits.\n",
    "\n",
    "[Lcapy](https://github.com/mph-/lcapy) is an experimental Python package for teaching linear circuit analysis. It uses SymPy for symbolic mathematics.  \n",
    "\n",
    "**License:**  This work (includes python code, documentation, test circuits, etc.) is licensed under a Creative Commons Attribution-ShareAlike 4.0 International License.  \n",
    "Share — copy and redistribute the material in any medium or format  \n",
    "Adapt — remix, transform, and build upon the material for any purpose, even commercially.  \n",
    "https://creativecommons.org/licenses/by-sa/4.0/  \n",
    "\n",
    "<img alt=\"Creative Commons License\" style=\"border-width:0\" src=\"https://i.creativecommons.org/l/by-sa/4.0/88x31.png\" />\n",
    "\n",
    "---\n",
    "**References:**  \n",
    "<a id='ref1'></a>\n",
    "1. Numerical Recipes in C: The Art of Scientific Computing, William H. Press, Brian P. Flannery, Saul A. Teukolsky, William T. Vetterling, Cambridge University Press; 1988\n",
    "<a id='ref2'></a>\n",
    "1. The modified nodal approach to network analysis, Chung-Wen Ho, A. Ruehli, P. Brennan, IEEE Transactions on Circuits and Systems ( Volume: 22, Issue: 6, Jun 1975 )\n",
    "<a id='ref3'></a>\n",
    "1. [Modified nodal analysis](https://en.wikipedia.org/wiki/Modified_nodal_analysis), wikipedia.org, retrieved October 6, 2017\n",
    "<a id='ref4'></a>\n",
    "1. [LTspice](http://www.linear.com/solutions/ltspice), Linear Technology Corporation, retrieved October 6, 2017\n",
    "<a id='ref5'></a>\n",
    "1. [Analysis of  Resistive Circuits](http://www.swarthmore.edu/NatSci/echeeve1/Ref/mna/MNA1.html), retrieved October 6, 2017\n",
    "<a id='ref6'></a>\n",
    "1. [Sympy](https://www.scipy.org/), Scipy.org, retrieved October 8, 2017\n",
    "<a id='ref7'></a>\n",
    "1. [Laplace transform](https://en.wikipedia.org/wiki/Laplace_transform), wikipedia.org, retrieved December 3, 2017\n",
    "<a id='ref8'></a>\n",
    "1. ECE 570 Session 3, Computer Aided Engineering for Integrated Circuits, http://www2.engr.arizona.edu/~ece570/session3.pdf\n",
    "<a id='ref9'></a>\n",
    "1. [Kirchhoff's circuit laws](https://en.wikipedia.org/wiki/Kirchhoff%27s_circuit_laws), Wikipedia.com, retrieved October 8, 2017\n",
    "<a id='ref10'></a>\n",
    "1. [e (mathematical constant)](https://en.wikipedia.org/wiki/E_(mathematical_constant)), Wikipedia.com, retrieved October 8, 2017\n",
    "<a id='ref11'></a>\n",
    "1. Solved Problems, A Source of Free Solved Problems,[Category Archives: Electrical Circuits](http://www.solved-problems.com/circuits/electrical-circuits-problems/716/supernode-dependent-voltage-source/), retrieved October 6, 2017\n",
    "<a id='ref12'></a>\n",
    "1. [MATLAB](https://www.mathworks.com/products/matlab.html), retrieved October 6, 2017\n",
    "<a id='ref13'></a>\n",
    "1. [TINA](https://www.tina.com/), retrieved October 6, 2017\n",
    "<a id='ref14'></a>\n",
    "1. [Maple](https://www.maplesoft.com/), retrieved October 6, 2017\n"
   ]
  },
  {
   "cell_type": "code",
   "execution_count": 106,
   "metadata": {
    "collapsed": false
   },
   "outputs": [],
   "source": [
    "import os\n",
    "from sympy import *\n",
    "import numpy as np\n",
    "import pandas as pd\n",
    "init_printing()"
   ]
  },
  {
   "cell_type": "code",
   "execution_count": 107,
   "metadata": {
    "collapsed": false
   },
   "outputs": [],
   "source": [
    "# initialize variables\n",
    "num_rlc = 0 # number of passive elements\n",
    "num_ind = 0 # number of inductors\n",
    "num_v = 0    # number of independent voltage sources\n",
    "num_i = 0    # number of independent current sources\n",
    "i_unk = 0  # number of current unknowns\n",
    "num_opamps = 0   # number of op amps\n",
    "num_vcvs = 0     # number of controlled sources of various types\n",
    "num_vccs = 0\n",
    "num_cccs = 0\n",
    "num_ccvs = 0\n",
    "num_cpld_ind = 0 # number of coupled inductors"
   ]
  },
  {
   "cell_type": "markdown",
   "metadata": {},
   "source": [
    "## Open net list and preprocess it\n",
    "The following steps are performed:  \n",
    "1. file name extension is defaulted to .net\n",
    "2. remove blank lines and comments\n",
    "3. convert first letter of element name to upper case\n",
    "4. removes extra spaces between entries\n",
    "5. count number of entries on each line, make sure the count is correct, count each element type"
   ]
  },
  {
   "cell_type": "code",
   "execution_count": 108,
   "metadata": {
    "collapsed": false
   },
   "outputs": [],
   "source": [
    "fn = 'Johnson fig4-8a'  #'RCL circuit test' #'RLC_series' #'RLC_parallel' # net list\n",
    "fd1 = open(fn+'.net','r')\n",
    "content = fd1.readlines()\n",
    "content = [x.strip() for x in content]  #remove leading and trailing white space\n",
    "# remove empty lines\n",
    "while '' in content:\n",
    "    content.pop(content.index(''))\n",
    "\n",
    "# remove comment lines, these start with a asterisk *\n",
    "content = [n for n in content if not n.startswith('*')]\n",
    "# remove other comment lines, these start with a semicolon ;\n",
    "content = [n for n in content if not n.startswith(';')]\n",
    "# remove spice directives, these start with a period, .\n",
    "content = [n for n in content if not n.startswith('.')]\n",
    "# converts 1st letter to upper case\n",
    "#content = [x.upper() for x in content] <- this converts all to upper case\n",
    "content = [x.capitalize() for x in content]\n",
    "# removes extra spaces between entries\n",
    "content = [' '.join(x.split()) for x in content]"
   ]
  },
  {
   "cell_type": "code",
   "execution_count": 109,
   "metadata": {
    "collapsed": false
   },
   "outputs": [],
   "source": [
    "line_cnt = len(content) # number of lines in the netlist\n",
    "branch_cnt = 0  # number of branches in the netlist\n",
    "# check number of entries on each line, count each element type\n",
    "for i in range(line_cnt):\n",
    "    x = content[i][0]\n",
    "    tk_cnt = len(content[i].split()) # split the line into a list of words\n",
    "\n",
    "    if (x == 'R') or (x == 'L') or (x == 'C'):\n",
    "        if tk_cnt != 4:\n",
    "            print(\"branch {:d} not formatted correctly, {:s}\".format(i,content[i]))\n",
    "            print(\"had {:d} items and should only be 4\".format(tk_cnt))\n",
    "        num_rlc += 1\n",
    "        branch_cnt += 1\n",
    "        if x == 'L':\n",
    "            num_ind += 1\n",
    "    elif x == 'V':\n",
    "        if tk_cnt != 4:\n",
    "            print(\"branch {:d} not formatted correctly, {:s}\".format(i,content[i]))\n",
    "            print(\"had {:d} items and should only be 4\".format(tk_cnt))\n",
    "        num_v += 1\n",
    "        branch_cnt += 1\n",
    "    elif x == 'I':\n",
    "        if tk_cnt != 4:\n",
    "            print(\"branch {:d} not formatted correctly, {:s}\".format(i,content[i]))\n",
    "            print(\"had {:d} items and should only be 4\".format(tk_cnt))\n",
    "        num_i += 1\n",
    "        branch_cnt += 1\n",
    "    elif x == 'O':\n",
    "        if tk_cnt != 4:\n",
    "            print(\"branch {:d} not formatted correctly, {:s}\".format(i,content[i]))\n",
    "            print(\"had {:d} items and should only be 4\".format(tk_cnt))\n",
    "        num_opamps += 1\n",
    "    elif x == 'E':\n",
    "        if (tk_cnt != 6):\n",
    "            print(\"branch {:d} not formatted correctly, {:s}\".format(i,content[i]))\n",
    "            print(\"had {:d} items and should only be 6\".format(tk_cnt))\n",
    "        num_vcvs += 1\n",
    "        branch_cnt += 1\n",
    "    elif x == 'G':\n",
    "        if (tk_cnt != 6):\n",
    "            print(\"branch {:d} not formatted correctly, {:s}\".format(i,content[i]))\n",
    "            print(\"had {:d} items and should only be 6\".format(tk_cnt))\n",
    "        num_vccs += 1\n",
    "        branch_cnt += 1\n",
    "    elif x == 'F':\n",
    "        if (tk_cnt != 5):\n",
    "            print(\"branch {:d} not formatted correctly, {:s}\".format(i,content[i]))\n",
    "            print(\"had {:d} items and should only be 5\".format(tk_cnt))\n",
    "        num_cccs += 1\n",
    "        branch_cnt += 1\n",
    "    elif x == 'H':\n",
    "        if (tk_cnt != 5):\n",
    "            print(\"branch {:d} not formatted correctly, {:s}\".format(i,content[i]))\n",
    "            print(\"had {:d} items and should only be 5\".format(tk_cnt))\n",
    "        num_ccvs += 1\n",
    "        branch_cnt += 1\n",
    "    elif x == 'K':\n",
    "        if (tk_cnt != 4):\n",
    "            print(\"branch {:d} not formatted correctly, {:s}\".format(i,content[i]))\n",
    "            print(\"had {:d} items and should only be 4\".format(tk_cnt))\n",
    "        num_cpld_ind += 1\n",
    "    else:\n",
    "        print(\"unknown element type in branch {:d}, {:s}\".format(i,content[i]))"
   ]
  },
  {
   "cell_type": "markdown",
   "metadata": {},
   "source": [
    "## Parser\n",
    "The parser performs the following operations.\n",
    "1. puts branch elements into data frame\n",
    "2. counts number of nodes\n",
    "\n",
    "data frame labels:\n",
    "- element: type of element\n",
    "- p node: positive node\n",
    "- n node: negative node, for a current source, the arrow point terminal, LTspice puts the inductor phasing dot on this terminal\n",
    "- cp node: controlling positive node of branch\n",
    "- cn node: controlling negative node of branch\n",
    "- Vout: opamp output node\n",
    "- value: value of element or voltage\n",
    "- Vname: voltage source through which the controlling current flows. Need to add a zero volt voltage source to the controlling branch.\n",
    "- Lname1: name of coupled inductor 1\n",
    "- Lname2: name of coupled inductor 2"
   ]
  },
  {
   "cell_type": "code",
   "execution_count": 110,
   "metadata": {
    "collapsed": false
   },
   "outputs": [],
   "source": [
    "# build the pandas data frame\n",
    "df = pd.DataFrame(columns=['element','p node','n node','cp node','cn node',\n",
    "    'Vout','value','Vname','Lname1','Lname2'])\n",
    "\n",
    "# this data frame is for branches with unknown currents\n",
    "df2 = pd.DataFrame(columns=['element','p node','n node'])"
   ]
  },
  {
   "cell_type": "markdown",
   "metadata": {},
   "source": [
    "### Functions to load branch elements into data frame and check for gaps in node numbering"
   ]
  },
  {
   "cell_type": "code",
   "execution_count": 111,
   "metadata": {
    "collapsed": false
   },
   "outputs": [],
   "source": [
    "# loads voltage or current sources into branch structure\n",
    "def indep_source(line_nu):\n",
    "    tk = content[line_nu].split()\n",
    "    df.loc[line_nu,'element'] = tk[0]\n",
    "    df.loc[line_nu,'p node'] = int(tk[1])\n",
    "    df.loc[line_nu,'n node'] = int(tk[2])\n",
    "    df.loc[line_nu,'value'] = float(tk[3])\n",
    "\n",
    "# loads passive elements into branch structure\n",
    "def rlc_element(line_nu):\n",
    "    tk = content[line_nu].split()\n",
    "    df.loc[line_nu,'element'] = tk[0]\n",
    "    df.loc[line_nu,'p node'] = int(tk[1])\n",
    "    df.loc[line_nu,'n node'] = int(tk[2])\n",
    "    df.loc[line_nu,'value'] = float(tk[3])\n",
    "\n",
    "# loads multi-terminal elements into branch structure\n",
    "# O - Op Amps\n",
    "def opamp_sub_network(line_nu):\n",
    "    tk = content[line_nu].split()\n",
    "    df.loc[line_nu,'element'] = tk[0]\n",
    "    df.loc[line_nu,'p node'] = int(tk[1])\n",
    "    df.loc[line_nu,'n node'] = int(tk[2])\n",
    "    df.loc[line_nu,'Vout'] = int(tk[3])\n",
    "\n",
    "# G - VCCS\n",
    "def vccs_sub_network(line_nu):\n",
    "    tk = content[line_nu].split()\n",
    "    df.loc[line_nu,'element'] = tk[0]\n",
    "    df.loc[line_nu,'p node'] = int(tk[1])\n",
    "    df.loc[line_nu,'n node'] = int(tk[2])\n",
    "    df.loc[line_nu,'cp node'] = int(tk[3])\n",
    "    df.loc[line_nu,'cn node'] = int(tk[4])\n",
    "    df.loc[line_nu,'value'] = float(tk[5])\n",
    "\n",
    "# E - VCVS\n",
    "# in sympy E is the number 2.718, replacing E with Ea otherwise, sympify() errors out\n",
    "def vcvs_sub_network(line_nu):\n",
    "    tk = content[line_nu].split()\n",
    "    df.loc[line_nu,'element'] = tk[0].replace('E', 'Ea')\n",
    "    df.loc[line_nu,'p node'] = int(tk[1])\n",
    "    df.loc[line_nu,'n node'] = int(tk[2])\n",
    "    df.loc[line_nu,'cp node'] = int(tk[3])\n",
    "    df.loc[line_nu,'cn node'] = int(tk[4])\n",
    "    df.loc[line_nu,'value'] = float(tk[5])\n",
    "\n",
    "# F - CCCS\n",
    "def cccs_sub_network(line_nu):\n",
    "    tk = content[line_nu].split()\n",
    "    df.loc[line_nu,'element'] = tk[0]\n",
    "    df.loc[line_nu,'p node'] = int(tk[1])\n",
    "    df.loc[line_nu,'n node'] = int(tk[2])\n",
    "    df.loc[line_nu,'Vname'] = tk[3].capitalize()\n",
    "    df.loc[line_nu,'value'] = float(tk[4])\n",
    "\n",
    "# H - CCVS\n",
    "def ccvs_sub_network(line_nu):\n",
    "    tk = content[line_nu].split()\n",
    "    df.loc[line_nu,'element'] = tk[0]\n",
    "    df.loc[line_nu,'p node'] = int(tk[1])\n",
    "    df.loc[line_nu,'n node'] = int(tk[2])\n",
    "    df.loc[line_nu,'Vname'] = tk[3].capitalize()\n",
    "    df.loc[line_nu,'value'] = float(tk[4])\n",
    "\n",
    "# K - Coupled inductors\n",
    "def cpld_ind_sub_network(line_nu):\n",
    "    tk = content[line_nu].split()\n",
    "    df.loc[line_nu,'element'] = tk[0]\n",
    "    df.loc[line_nu,'Lname1'] = tk[1].capitalize()\n",
    "    df.loc[line_nu,'Lname2'] = tk[2].capitalize()\n",
    "    df.loc[line_nu,'value'] = float(tk[3])\n",
    "\n",
    "# function to scan df and get largest node number\n",
    "def count_nodes():\n",
    "    # need to check that nodes are consecutive\n",
    "    # fill array with node numbers\n",
    "    p = np.zeros(line_cnt+1)\n",
    "    for i in range(line_cnt):\n",
    "        # need to skip coupled inductor 'K' statements\n",
    "        if df.loc[i,'element'][0] != 'K': #get 1st letter of element name\n",
    "            p[df['p node'][i]] = df['p node'][i]\n",
    "            p[df['n node'][i]] = df['n node'][i]\n",
    "\n",
    "    # find the largest node number\n",
    "    if df['n node'].max() > df['p node'].max():\n",
    "        largest = df['n node'].max()\n",
    "    else:\n",
    "        largest =  df['p node'].max()\n",
    "\n",
    "    largest = int(largest)\n",
    "    # check for unfilled elements, skip node 0\n",
    "    for i in range(1,largest):\n",
    "        if p[i] == 0:\n",
    "            print('nodes not in continuous order, node {:.0f} is missing'.format(p[i-1]+1))\n",
    "\n",
    "    return largest"
   ]
  },
  {
   "cell_type": "markdown",
   "metadata": {},
   "source": [
    "### Load circuit netlist into the data frames"
   ]
  },
  {
   "cell_type": "code",
   "execution_count": 112,
   "metadata": {
    "collapsed": false
   },
   "outputs": [],
   "source": [
    "# load branch info into data frame\n",
    "for i in range(line_cnt):\n",
    "    x = content[i][0]\n",
    "\n",
    "    if (x == 'R') or (x == 'L') or (x == 'C'):\n",
    "        rlc_element(i)\n",
    "    elif (x == 'V') or (x == 'I'):\n",
    "        indep_source(i)\n",
    "    elif x == 'O':\n",
    "        opamp_sub_network(i)\n",
    "    elif x == 'E':\n",
    "        vcvs_sub_network(i)\n",
    "    elif x == 'G':\n",
    "        vccs_sub_network(i)\n",
    "    elif x == 'F':\n",
    "        cccs_sub_network(i)\n",
    "    elif x == 'H':\n",
    "        ccvs_sub_network(i)\n",
    "    elif x == 'K':\n",
    "        cpld_ind_sub_network(i)\n",
    "    else:\n",
    "        print(\"unknown element type in branch {:d}, {:s}\".format(i,content[i]))\n",
    "\n",
    "# count number of nodes\n",
    "num_nodes = count_nodes()\n",
    "\n",
    "# Build df2: consists of branches with current unknowns, used for C & D matrices\n",
    "# walk through data frame and find these parameters\n",
    "count = 0\n",
    "for i in range(len(df)):\n",
    "    # process all the elements creating unknown currents\n",
    "    x = df.loc[i,'element'][0]   #get 1st letter of element name\n",
    "    if (x == 'L') or (x == 'V') or (x == 'O') or (x == 'E') or (x == 'H') or (x == 'F'):\n",
    "        df2.loc[count,'element'] = df.loc[i,'element']\n",
    "        df2.loc[count,'p node'] = df.loc[i,'p node']\n",
    "        df2.loc[count,'n node'] = df.loc[i,'n node']\n",
    "        count += 1"
   ]
  },
  {
   "cell_type": "markdown",
   "metadata": {},
   "source": [
    "## Print net list report"
   ]
  },
  {
   "cell_type": "code",
   "execution_count": 113,
   "metadata": {
    "collapsed": false
   },
   "outputs": [
    {
     "name": "stdout",
     "output_type": "stream",
     "text": [
      "Net list report\n",
      "number of lines in netlist: 9\n",
      "number of branches: 9\n",
      "number of nodes: 5\n",
      "number of unknown currents: 4\n",
      "number of RLC (passive components): 4\n",
      "number of inductors: 1\n",
      "number of independent voltage sources: 2\n",
      "number of independent current sources: 1\n",
      "number of op amps: 0\n",
      "number of E - VCVS: 0\n",
      "number of G - VCCS: 1\n",
      "number of F - CCCS: 0\n",
      "number of H - CCVS: 1\n",
      "number of K - Coupled inductors: 0\n"
     ]
    }
   ],
   "source": [
    "# print a report\n",
    "print('Net list report')\n",
    "print('number of lines in netlist: {:d}'.format(line_cnt))\n",
    "print('number of branches: {:d}'.format(branch_cnt))\n",
    "print('number of nodes: {:d}'.format(num_nodes))\n",
    "# count the number of element types that affect the size of the B, C, D, E and J arrays\n",
    "# these are current unknows\n",
    "i_unk = num_v+num_opamps+num_vcvs+num_ccvs+num_cccs+num_ind\n",
    "print('number of unknown currents: {:d}'.format(i_unk))\n",
    "print('number of RLC (passive components): {:d}'.format(num_rlc))\n",
    "print('number of inductors: {:d}'.format(num_ind))\n",
    "print('number of independent voltage sources: {:d}'.format(num_v))\n",
    "print('number of independent current sources: {:d}'.format(num_i))\n",
    "print('number of op amps: {:d}'.format(num_opamps))\n",
    "print('number of E - VCVS: {:d}'.format(num_vcvs))\n",
    "print('number of G - VCCS: {:d}'.format(num_vccs))\n",
    "print('number of F - CCCS: {:d}'.format(num_cccs))\n",
    "print('number of H - CCVS: {:d}'.format(num_ccvs))\n",
    "print('number of K - Coupled inductors: {:d}'.format(num_cpld_ind))"
   ]
  },
  {
   "cell_type": "code",
   "execution_count": 114,
   "metadata": {
    "collapsed": false
   },
   "outputs": [
    {
     "data": {
      "text/html": [
       "<div>\n",
       "<style scoped>\n",
       "    .dataframe tbody tr th:only-of-type {\n",
       "        vertical-align: middle;\n",
       "    }\n",
       "\n",
       "    .dataframe tbody tr th {\n",
       "        vertical-align: top;\n",
       "    }\n",
       "\n",
       "    .dataframe thead th {\n",
       "        text-align: right;\n",
       "    }\n",
       "</style>\n",
       "<table border=\"1\" class=\"dataframe\">\n",
       "  <thead>\n",
       "    <tr style=\"text-align: right;\">\n",
       "      <th></th>\n",
       "      <th>element</th>\n",
       "      <th>p node</th>\n",
       "      <th>n node</th>\n",
       "      <th>cp node</th>\n",
       "      <th>cn node</th>\n",
       "      <th>Vout</th>\n",
       "      <th>value</th>\n",
       "      <th>Vname</th>\n",
       "      <th>Lname1</th>\n",
       "      <th>Lname2</th>\n",
       "    </tr>\n",
       "  </thead>\n",
       "  <tbody>\n",
       "    <tr>\n",
       "      <th>0</th>\n",
       "      <td>V1</td>\n",
       "      <td>1</td>\n",
       "      <td>0</td>\n",
       "      <td>NaN</td>\n",
       "      <td>NaN</td>\n",
       "      <td>NaN</td>\n",
       "      <td>1</td>\n",
       "      <td>NaN</td>\n",
       "      <td>NaN</td>\n",
       "      <td>NaN</td>\n",
       "    </tr>\n",
       "    <tr>\n",
       "      <th>1</th>\n",
       "      <td>V2</td>\n",
       "      <td>0</td>\n",
       "      <td>5</td>\n",
       "      <td>NaN</td>\n",
       "      <td>NaN</td>\n",
       "      <td>NaN</td>\n",
       "      <td>0</td>\n",
       "      <td>NaN</td>\n",
       "      <td>NaN</td>\n",
       "      <td>NaN</td>\n",
       "    </tr>\n",
       "    <tr>\n",
       "      <th>2</th>\n",
       "      <td>I1</td>\n",
       "      <td>4</td>\n",
       "      <td>0</td>\n",
       "      <td>NaN</td>\n",
       "      <td>NaN</td>\n",
       "      <td>NaN</td>\n",
       "      <td>9</td>\n",
       "      <td>NaN</td>\n",
       "      <td>NaN</td>\n",
       "      <td>NaN</td>\n",
       "    </tr>\n",
       "    <tr>\n",
       "      <th>3</th>\n",
       "      <td>H1</td>\n",
       "      <td>2</td>\n",
       "      <td>3</td>\n",
       "      <td>NaN</td>\n",
       "      <td>NaN</td>\n",
       "      <td>NaN</td>\n",
       "      <td>3</td>\n",
       "      <td>V2</td>\n",
       "      <td>NaN</td>\n",
       "      <td>NaN</td>\n",
       "    </tr>\n",
       "    <tr>\n",
       "      <th>4</th>\n",
       "      <td>G1</td>\n",
       "      <td>0</td>\n",
       "      <td>3</td>\n",
       "      <td>1</td>\n",
       "      <td>4</td>\n",
       "      <td>NaN</td>\n",
       "      <td>2</td>\n",
       "      <td>NaN</td>\n",
       "      <td>NaN</td>\n",
       "      <td>NaN</td>\n",
       "    </tr>\n",
       "    <tr>\n",
       "      <th>5</th>\n",
       "      <td>R1</td>\n",
       "      <td>1</td>\n",
       "      <td>4</td>\n",
       "      <td>NaN</td>\n",
       "      <td>NaN</td>\n",
       "      <td>NaN</td>\n",
       "      <td>2</td>\n",
       "      <td>NaN</td>\n",
       "      <td>NaN</td>\n",
       "      <td>NaN</td>\n",
       "    </tr>\n",
       "    <tr>\n",
       "      <th>6</th>\n",
       "      <td>C1</td>\n",
       "      <td>1</td>\n",
       "      <td>2</td>\n",
       "      <td>NaN</td>\n",
       "      <td>NaN</td>\n",
       "      <td>NaN</td>\n",
       "      <td>1</td>\n",
       "      <td>NaN</td>\n",
       "      <td>NaN</td>\n",
       "      <td>NaN</td>\n",
       "    </tr>\n",
       "    <tr>\n",
       "      <th>7</th>\n",
       "      <td>L1</td>\n",
       "      <td>4</td>\n",
       "      <td>3</td>\n",
       "      <td>NaN</td>\n",
       "      <td>NaN</td>\n",
       "      <td>NaN</td>\n",
       "      <td>1</td>\n",
       "      <td>NaN</td>\n",
       "      <td>NaN</td>\n",
       "      <td>NaN</td>\n",
       "    </tr>\n",
       "    <tr>\n",
       "      <th>8</th>\n",
       "      <td>R4</td>\n",
       "      <td>2</td>\n",
       "      <td>5</td>\n",
       "      <td>NaN</td>\n",
       "      <td>NaN</td>\n",
       "      <td>NaN</td>\n",
       "      <td>2</td>\n",
       "      <td>NaN</td>\n",
       "      <td>NaN</td>\n",
       "      <td>NaN</td>\n",
       "    </tr>\n",
       "  </tbody>\n",
       "</table>\n",
       "</div>"
      ],
      "text/plain": [
       "  element p node n node cp node cn node Vout value Vname Lname1 Lname2\n",
       "0      V1      1      0     NaN     NaN  NaN     1   NaN    NaN    NaN\n",
       "1      V2      0      5     NaN     NaN  NaN     0   NaN    NaN    NaN\n",
       "2      I1      4      0     NaN     NaN  NaN     9   NaN    NaN    NaN\n",
       "3      H1      2      3     NaN     NaN  NaN     3    V2    NaN    NaN\n",
       "4      G1      0      3       1       4  NaN     2   NaN    NaN    NaN\n",
       "5      R1      1      4     NaN     NaN  NaN     2   NaN    NaN    NaN\n",
       "6      C1      1      2     NaN     NaN  NaN     1   NaN    NaN    NaN\n",
       "7      L1      4      3     NaN     NaN  NaN     1   NaN    NaN    NaN\n",
       "8      R4      2      5     NaN     NaN  NaN     2   NaN    NaN    NaN"
      ]
     },
     "execution_count": 114,
     "metadata": {},
     "output_type": "execute_result"
    }
   ],
   "source": [
    "df"
   ]
  },
  {
   "cell_type": "code",
   "execution_count": 115,
   "metadata": {
    "collapsed": false
   },
   "outputs": [
    {
     "data": {
      "text/html": [
       "<div>\n",
       "<style scoped>\n",
       "    .dataframe tbody tr th:only-of-type {\n",
       "        vertical-align: middle;\n",
       "    }\n",
       "\n",
       "    .dataframe tbody tr th {\n",
       "        vertical-align: top;\n",
       "    }\n",
       "\n",
       "    .dataframe thead th {\n",
       "        text-align: right;\n",
       "    }\n",
       "</style>\n",
       "<table border=\"1\" class=\"dataframe\">\n",
       "  <thead>\n",
       "    <tr style=\"text-align: right;\">\n",
       "      <th></th>\n",
       "      <th>element</th>\n",
       "      <th>p node</th>\n",
       "      <th>n node</th>\n",
       "    </tr>\n",
       "  </thead>\n",
       "  <tbody>\n",
       "    <tr>\n",
       "      <th>0</th>\n",
       "      <td>V1</td>\n",
       "      <td>1</td>\n",
       "      <td>0</td>\n",
       "    </tr>\n",
       "    <tr>\n",
       "      <th>1</th>\n",
       "      <td>V2</td>\n",
       "      <td>0</td>\n",
       "      <td>5</td>\n",
       "    </tr>\n",
       "    <tr>\n",
       "      <th>2</th>\n",
       "      <td>H1</td>\n",
       "      <td>2</td>\n",
       "      <td>3</td>\n",
       "    </tr>\n",
       "    <tr>\n",
       "      <th>3</th>\n",
       "      <td>L1</td>\n",
       "      <td>4</td>\n",
       "      <td>3</td>\n",
       "    </tr>\n",
       "  </tbody>\n",
       "</table>\n",
       "</div>"
      ],
      "text/plain": [
       "  element p node n node\n",
       "0      V1      1      0\n",
       "1      V2      0      5\n",
       "2      H1      2      3\n",
       "3      L1      4      3"
      ]
     },
     "execution_count": 115,
     "metadata": {},
     "output_type": "execute_result"
    }
   ],
   "source": [
    "df2"
   ]
  },
  {
   "cell_type": "code",
   "execution_count": 116,
   "metadata": {
    "collapsed": false
   },
   "outputs": [],
   "source": [
    "# store the data frame as a pickle file\n",
    "# df.to_pickle(fn+'.pkl')  # <- uncomment if needed"
   ]
  },
  {
   "cell_type": "code",
   "execution_count": 117,
   "metadata": {
    "collapsed": false
   },
   "outputs": [],
   "source": [
    "# initialize some symbolic matrix with zeros\n",
    "# A is formed by [[G, C] [B, D]]\n",
    "# Z = [I,E]\n",
    "# X = [V, J]\n",
    "V = zeros(num_nodes,1)\n",
    "I = zeros(num_nodes,1)\n",
    "G = zeros(num_nodes,num_nodes)  # also called Yr, the reduced nodal matrix\n",
    "s = Symbol('s')  # the Laplace variable\n",
    "\n",
    "# count the number of element types that affect the size of the B, C, D, E and J arrays\n",
    "# these are element types that have unknown currents\n",
    "i_unk = num_v+num_opamps+num_vcvs+num_ccvs+num_ind+num_cccs\n",
    "# if i_unk == 0, just generate empty arrays\n",
    "B = zeros(num_nodes,i_unk)\n",
    "C = zeros(i_unk,num_nodes)\n",
    "D = zeros(i_unk,i_unk)\n",
    "Ev = zeros(i_unk,1)\n",
    "J = zeros(i_unk,1)"
   ]
  },
  {
   "cell_type": "markdown",
   "metadata": {},
   "source": [
    "#### some debugging notes:\n",
    "Is it possible to have i_unk == 0 ?, what about a network with only current sources?  This would make B = 0 for example. Did one test, need to run others  \n",
    "Is there a valid op amp case where B is n by 1?"
   ]
  },
  {
   "cell_type": "markdown",
   "metadata": {},
   "source": [
    "## G matrix\n",
    "The G matrix is n by n, where n is the number of nodes. The matrix is formed by the interconnections between the resistors, capacitors and VCCS type elements.  In the original paper G is called Yr, where Yr is a reduced form of the nodal matrix excluding the contributions due to voltage sources, current controlling elements, etc.  In python row and columns are: G[row, column]\n"
   ]
  },
  {
   "cell_type": "code",
   "execution_count": 118,
   "metadata": {
    "collapsed": false
   },
   "outputs": [
    {
     "data": {
      "text/latex": [
       "$$\\left[\\begin{matrix}C_{1} s + \\frac{1}{R_{1}} & - C_{1} s & 0 & - \\frac{1}{R_{1}} & 0\\\\- C_{1} s & C_{1} s + \\frac{1}{R_{4}} & 0 & 0 & - \\frac{1}{R_{4}}\\\\- g_{1} & 0 & 0 & g_{1} & 0\\\\- \\frac{1}{R_{1}} & 0 & 0 & \\frac{1}{R_{1}} & 0\\\\0 & - \\frac{1}{R_{4}} & 0 & 0 & \\frac{1}{R_{4}}\\end{matrix}\\right]$$"
      ],
      "text/plain": [
       "⎡       1                 -1      ⎤\n",
       "⎢C₁⋅s + ──    -C₁⋅s    0  ───   0 ⎥\n",
       "⎢       R₁                 R₁     ⎥\n",
       "⎢                                 ⎥\n",
       "⎢                  1           -1 ⎥\n",
       "⎢  -C₁⋅s    C₁⋅s + ──  0   0   ───⎥\n",
       "⎢                  R₄           R₄⎥\n",
       "⎢                                 ⎥\n",
       "⎢   -g₁         0      0  g₁    0 ⎥\n",
       "⎢                                 ⎥\n",
       "⎢   -1                    1       ⎥\n",
       "⎢   ───         0      0  ──    0 ⎥\n",
       "⎢    R₁                   R₁      ⎥\n",
       "⎢                                 ⎥\n",
       "⎢              -1              1  ⎥\n",
       "⎢    0         ───     0   0   ── ⎥\n",
       "⎣               R₄             R₄ ⎦"
      ]
     },
     "execution_count": 118,
     "metadata": {},
     "output_type": "execute_result"
    }
   ],
   "source": [
    "# G matrix\n",
    "for i in range(len(df)):  # process each row in the data frame\n",
    "    n1 = df.loc[i,'p node']\n",
    "    n2 = df.loc[i,'n node']\n",
    "    cn1 = df.loc[i,'cp node']\n",
    "    cn2 = df.loc[i,'cn node']\n",
    "    # process all the passive elements, save conductance to temp value\n",
    "    x = df.loc[i,'element'][0]   #get 1st letter of element name\n",
    "    if x == 'R':\n",
    "        g = 1/sympify(df.loc[i,'element'])\n",
    "    if x == 'C':\n",
    "        g = s*sympify(df.loc[i,'element'])\n",
    "    if x == 'G':   #vccs type element\n",
    "        g = sympify(df.loc[i,'element'].lower())  # use a symbol for gain value\n",
    "\n",
    "    if (x == 'R') or (x == 'C'):\n",
    "        # If neither side of the element is connected to ground\n",
    "        # then subtract it from the appropriate location in the matrix.\n",
    "        if (n1 != 0) and (n2 != 0):\n",
    "            G[n1-1,n2-1] += -g\n",
    "            G[n2-1,n1-1] += -g\n",
    "\n",
    "        # If node 1 is connected to ground, add element to diagonal of matrix\n",
    "        if n1 != 0:\n",
    "            G[n1-1,n1-1] += g\n",
    "\n",
    "        # same for for node 2\n",
    "        if n2 != 0:\n",
    "            G[n2-1,n2-1] += g\n",
    "\n",
    "    if x == 'G':    #vccs type element\n",
    "        # check to see if any terminal is grounded\n",
    "        # then stamp the matrix\n",
    "        if n1 != 0 and cn1 != 0:\n",
    "            G[n1-1,cn1-1] += g\n",
    "\n",
    "        if n2 != 0 and cn2 != 0:\n",
    "            G[n2-1,cn2-1] += g\n",
    "\n",
    "        if n1 != 0 and cn2 != 0:\n",
    "            G[n1-1,cn2-1] -= g\n",
    "\n",
    "        if n2 != 0 and cn1 != 0:\n",
    "            G[n2-1,cn1-1] -= g\n",
    "\n",
    "G  # display the G matrix"
   ]
  },
  {
   "cell_type": "markdown",
   "metadata": {},
   "source": [
    "## B Matrix\n",
    "The B matrix is an n by m matrix with only 0, 1 and -1 elements, where n = number of nodes and m is the number of current unknowns, i_unk. There is one column for each unknown current. The code loop through all the branches and process elements that have stamps for the B matrix:  \n",
    "- Voltage sources (V)\n",
    "- Opamps (O)\n",
    "- CCVS (H)\n",
    "- CCCS (F)\n",
    "- VCVS (E)\n",
    "- Inductors (L)  \n",
    "\n",
    "The order of the columns is as they appear in the netlist.  CCCS (F) does not get its own column because the controlling current is through a zero volt voltage source, called Vname and is already in the net list."
   ]
  },
  {
   "cell_type": "code",
   "execution_count": 119,
   "metadata": {
    "collapsed": false
   },
   "outputs": [
    {
     "data": {
      "text/latex": [
       "$$\\left[\\begin{matrix}1 & 0 & 0 & 0\\\\0 & 0 & 1 & 0\\\\0 & 0 & -1 & -1\\\\0 & 0 & 0 & 1\\\\0 & -1 & 0 & 0\\end{matrix}\\right]$$"
      ],
      "text/plain": [
       "⎡1  0   0   0 ⎤\n",
       "⎢             ⎥\n",
       "⎢0  0   1   0 ⎥\n",
       "⎢             ⎥\n",
       "⎢0  0   -1  -1⎥\n",
       "⎢             ⎥\n",
       "⎢0  0   0   1 ⎥\n",
       "⎢             ⎥\n",
       "⎣0  -1  0   0 ⎦"
      ]
     },
     "execution_count": 119,
     "metadata": {},
     "output_type": "execute_result"
    }
   ],
   "source": [
    "# generate the B Matrix\n",
    "sn = 0   # count source number as code walks through the data frame\n",
    "for i in range(len(df)):\n",
    "    n1 = df.loc[i,'p node']\n",
    "    n2 = df.loc[i,'n node']\n",
    "    n_vout = df.loc[i,'Vout'] # node connected to op amp output\n",
    "\n",
    "    # process elements with input to B matrix\n",
    "    x = df.loc[i,'element'][0]   #get 1st letter of element name\n",
    "    if x == 'V':\n",
    "        if i_unk > 1:  #is B greater than 1 by n?, V\n",
    "            if n1 != 0:\n",
    "                B[n1-1,sn] = 1\n",
    "            if n2 != 0:\n",
    "                B[n2-1,sn] = -1\n",
    "        else:\n",
    "            if n1 != 0:\n",
    "                B[n1-1] = 1\n",
    "            if n2 != 0:\n",
    "                B[n2-1] = -1\n",
    "        sn += 1   #increment source count\n",
    "    if x == 'O':  # op amp type, output connection of the opamg goes in the B matrix\n",
    "        B[n_vout-1,sn] = 1\n",
    "        sn += 1   # increment source count\n",
    "    if (x == 'H') or (x == 'F'):  # H: ccvs, F: cccs,\n",
    "        if i_unk > 1:  #is B greater than 1 by n?, H, F\n",
    "            # check to see if any terminal is grounded\n",
    "            # then stamp the matrix\n",
    "            if n1 != 0:\n",
    "                B[n1-1,sn] = 1\n",
    "            if n2 != 0:\n",
    "                B[n2-1,sn] = -1\n",
    "        else:\n",
    "            if n1 != 0:\n",
    "                B[n1-1] = 1\n",
    "            if n2 != 0:\n",
    "                B[n2-1] = -1\n",
    "        sn += 1   #increment source count\n",
    "    if x == 'E':   # vcvs type, only ik column is altered at n1 and n2\n",
    "        if i_unk > 1:  #is B greater than 1 by n?, E\n",
    "            if n1 != 0:\n",
    "                B[n1-1,sn] = 1\n",
    "            if n2 != 0:\n",
    "                B[n2-1,sn] = -1\n",
    "        else:\n",
    "            if n1 != 0:\n",
    "                B[n1-1] = 1\n",
    "            if n2 != 0:\n",
    "                B[n2-1] = -1\n",
    "        sn += 1   #increment source count\n",
    "    if x == 'L':\n",
    "        if i_unk > 1:  #is B greater than 1 by n?, L\n",
    "            if n1 != 0:\n",
    "                B[n1-1,sn] = 1\n",
    "            if n2 != 0:\n",
    "                B[n2-1,sn] = -1\n",
    "        else:\n",
    "            if n1 != 0:\n",
    "                B[n1-1] = 1\n",
    "            if n2 != 0:\n",
    "                B[n2-1] = -1\n",
    "        sn += 1   #increment source count\n",
    "\n",
    "# check source count\n",
    "if sn != i_unk:\n",
    "    print('source number, sn={:d} not equal to i_unk={:d} in matrix B'.format(sn,i_unk))\n",
    "\n",
    "B   # display the B matrix"
   ]
  },
  {
   "cell_type": "markdown",
   "metadata": {},
   "source": [
    "## C matrix\n",
    "The C matrix is an m by n matrix with only 0, 1 and -1 elements (except for controlled sources).  The code is similar to the B matrix code, except the indices are swapped.   The code loops through all the branches and process elements that have stamps for the C matrix:  \n",
    "- Voltage sources (V)\n",
    "- Opamps (O)\n",
    "- CCVS (H)\n",
    "- CCCS (F)\n",
    "- VCVS (E)\n",
    "- Inductors (L)\n",
    "\n",
    "References use in the debugging of the opamp stamp:  \n",
    "Design of Analog Circuits Through Symbolic Analysis\n",
    "edited by Mourad Fakhfakh, Esteban Tlelo-Cuautle, Francisco V. Fernández  \n",
    "Computer Aided Design and Design Automation\n",
    "edited by Wai-Kai Chen  \n",
    "http://users.ecs.soton.ac.uk/mz/CctSim/chap1_4.htm\n"
   ]
  },
  {
   "cell_type": "code",
   "execution_count": 120,
   "metadata": {
    "collapsed": false
   },
   "outputs": [],
   "source": [
    "# find the the column position in the C and D matrix for controlled sources\n",
    "# needs to return the node numbers and branch number of controlling branch\n",
    "def find_vname(name):\n",
    "    # need to walk through data frame and find these parameters\n",
    "    for i in range(len(df2)):\n",
    "        # process all the elements creating unknown currents\n",
    "        if name == df2.loc[i,'element']:\n",
    "            n1 = df2.loc[i,'p node']\n",
    "            n2 = df2.loc[i,'n node']\n",
    "            return n1, n2, i  # n1, n2 & col_num are from the branch of the controlling element\n",
    "\n",
    "    print('failed to find matching branch element in find_vname')"
   ]
  },
  {
   "cell_type": "code",
   "execution_count": 121,
   "metadata": {
    "collapsed": false
   },
   "outputs": [
    {
     "data": {
      "text/latex": [
       "$$\\left[\\begin{matrix}1 & 0 & 0 & 0 & 0\\\\0 & 0 & 0 & 0 & -1\\\\0 & 1 & -1 & 0 & 0\\\\0 & 0 & -1 & 1 & 0\\end{matrix}\\right]$$"
      ],
      "text/plain": [
       "⎡1  0  0   0  0 ⎤\n",
       "⎢               ⎥\n",
       "⎢0  0  0   0  -1⎥\n",
       "⎢               ⎥\n",
       "⎢0  1  -1  0  0 ⎥\n",
       "⎢               ⎥\n",
       "⎣0  0  -1  1  0 ⎦"
      ]
     },
     "execution_count": 121,
     "metadata": {},
     "output_type": "execute_result"
    }
   ],
   "source": [
    "# generate the C Matrix\n",
    "sn = 0   # count source number as code walks through the data frame\n",
    "for i in range(len(df)):\n",
    "    n1 = df.loc[i,'p node']\n",
    "    n2 = df.loc[i,'n node']\n",
    "    cn1 = df.loc[i,'cp node'] # nodes for controlled sources\n",
    "    cn2 = df.loc[i,'cn node']\n",
    "    n_vout = df.loc[i,'Vout'] # node connected to op amp output\n",
    "\n",
    "    # process elements with input to B matrix\n",
    "    x = df.loc[i,'element'][0]   #get 1st letter of element name\n",
    "    if x == 'V':\n",
    "        if i_unk > 1:  #is B greater than 1 by n?, V\n",
    "            if n1 != 0:\n",
    "                C[sn,n1-1] = 1\n",
    "            if n2 != 0:\n",
    "                C[sn,n2-1] = -1\n",
    "        else:\n",
    "            if n1 != 0:\n",
    "                C[n1-1] = 1\n",
    "            if n2 != 0:\n",
    "                C[n2-1] = -1\n",
    "        sn += 1   #increment source count\n",
    "\n",
    "    if x == 'O':  # op amp type, input connections of the opamp go into the C matrix\n",
    "        # C[sn,n_vout-1] = 1\n",
    "        if i_unk > 1:  #is B greater than 1 by n?, O\n",
    "            # check to see if any terminal is grounded\n",
    "            # then stamp the matrix\n",
    "            if n1 != 0:\n",
    "                C[sn,n1-1] = 1\n",
    "            if n2 != 0:\n",
    "                C[sn,n2-1] = -1\n",
    "        else:\n",
    "            if n1 != 0:\n",
    "                C[n1-1] = 1\n",
    "            if n2 != 0:\n",
    "                C[n2-1] = -1\n",
    "        sn += 1   # increment source count\n",
    "\n",
    "    if x == 'F':  # need to count F (cccs) types\n",
    "        sn += 1   #increment source count\n",
    "    if x == 'H':  # H: ccvs\n",
    "        if i_unk > 1:  #is B greater than 1 by n?, H\n",
    "            # check to see if any terminal is grounded\n",
    "            # then stamp the matrix\n",
    "            if n1 != 0:\n",
    "                C[sn,n1-1] = 1\n",
    "            if n2 != 0:\n",
    "                C[sn,n2-1] = -1\n",
    "        else:\n",
    "            if n1 != 0:\n",
    "                C[n1-1] = 1\n",
    "            if n2 != 0:\n",
    "                C[n2-1] = -1\n",
    "        sn += 1   #increment source count\n",
    "    if x == 'E':   # vcvs type, ik column is altered at n1 and n2, cn1 & cn2 get value\n",
    "        if i_unk > 1:  #is B greater than 1 by n?, E\n",
    "            if n1 != 0:\n",
    "                C[sn,n1-1] = 1\n",
    "            if n2 != 0:\n",
    "                C[sn,n2-1] = -1\n",
    "            # add entry for cp and cn of the controlling voltage\n",
    "            if cn1 != 0:\n",
    "                C[sn,cn1-1] = -sympify(df.loc[i,'element'].lower())\n",
    "            if cn2 != 0:\n",
    "                C[sn,cn2-1] = sympify(df.loc[i,'element'].lower())\n",
    "        else:\n",
    "            if n1 != 0:\n",
    "                C[n1-1] = 1\n",
    "            if n2 != 0:\n",
    "                C[n2-1] = -1\n",
    "            vn1, vn2, df2_index = find_vname(df.loc[i,'Vname'])\n",
    "            if vn1 != 0:\n",
    "                C[vn1-1] = -sympify(df.loc[i,'element'].lower())\n",
    "            if vn2 != 0:\n",
    "                C[vn2-1] = sympify(df.loc[i,'element'].lower())\n",
    "        sn += 1   #increment source count\n",
    "\n",
    "    if x == 'L':\n",
    "        if i_unk > 1:  #is B greater than 1 by n?, L\n",
    "            if n1 != 0:\n",
    "                C[sn,n1-1] = 1\n",
    "            if n2 != 0:\n",
    "                C[sn,n2-1] = -1\n",
    "        else:\n",
    "            if n1 != 0:\n",
    "                C[n1-1] = 1\n",
    "            if n2 != 0:\n",
    "                C[n2-1] = -1\n",
    "        sn += 1   #increment source count\n",
    "\n",
    "# check source count\n",
    "if sn != i_unk:\n",
    "    print('source number, sn={:d} not equal to i_unk={:d} in matrix C'.format(sn,i_unk))\n",
    "\n",
    "C   # display the C matrix"
   ]
  },
  {
   "cell_type": "markdown",
   "metadata": {},
   "source": [
    "## D matrix\n",
    "The D matrix is an m by m matrix, where m is the number of unknown currents.\n",
    "> m = i_unk = num_v+num_opamps+num_vcvs+num_ccvs+num_ind+num_cccs\n",
    "\n",
    "Stamps that affect the D matrix are: inductor, ccvs and cccs  \n",
    "inductors: minus sign added to keep current flow convention consistent  \n",
    "\n",
    "Coupled inductors notes:  \n",
    "Can the K statement be anywhere in the net list, even before Lx and Ly?  \n",
    "12/6/2017 doing some debugging on with coupled inductors  \n",
    "LTspice seems to put the phasing dot on the neg node when it generates the netlist  \n",
    "This code uses M for mutual inductance, LTspice uses k for the coupling coefficient."
   ]
  },
  {
   "cell_type": "code",
   "execution_count": 122,
   "metadata": {
    "collapsed": false
   },
   "outputs": [
    {
     "data": {
      "text/latex": [
       "$$\\left[\\begin{matrix}0 & 0 & 0 & 0\\\\0 & 0 & 0 & 0\\\\0 & - h_{1} & 0 & 0\\\\0 & 0 & 0 & - L_{1} s\\end{matrix}\\right]$$"
      ],
      "text/plain": [
       "⎡0   0   0    0  ⎤\n",
       "⎢                ⎥\n",
       "⎢0   0   0    0  ⎥\n",
       "⎢                ⎥\n",
       "⎢0  -h₁  0    0  ⎥\n",
       "⎢                ⎥\n",
       "⎣0   0   0  -L₁⋅s⎦"
      ]
     },
     "execution_count": 122,
     "metadata": {},
     "output_type": "execute_result"
    }
   ],
   "source": [
    "# generate the D Matrix\n",
    "sn = 0   # count source number as code walks through the data frame\n",
    "for i in range(len(df)):\n",
    "    n1 = df.loc[i,'p node']\n",
    "    n2 = df.loc[i,'n node']\n",
    "    #cn1 = df.loc[i,'cp node'] # nodes for controlled sources\n",
    "    #cn2 = df.loc[i,'cn node']\n",
    "    #n_vout = df.loc[i,'Vout'] # node connected to op amp output\n",
    "\n",
    "    # process elements with input to D matrix\n",
    "    x = df.loc[i,'element'][0]   #get 1st letter of element name\n",
    "    if (x == 'V') or (x == 'O') or (x == 'E'):  # need to count V, E & O types\n",
    "        sn += 1   #increment source count\n",
    "\n",
    "    if x == 'L':\n",
    "        if i_unk > 1:  #is D greater than 1 by 1?\n",
    "            D[sn,sn] += -s*sympify(df.loc[i,'element'])\n",
    "        else:\n",
    "            D[sn] += -s*sympify(df.loc[i,'element'])\n",
    "        sn += 1   #increment source count\n",
    "\n",
    "    if x == 'H':  # H: ccvs\n",
    "        # if there is a H type, D is m by m\n",
    "        # need to find the vn for Vname\n",
    "        # then stamp the matrix\n",
    "        vn1, vn2, df2_index = find_vname(df.loc[i,'Vname'])\n",
    "        D[sn,df2_index] += -sympify(df.loc[i,'element'].lower())\n",
    "        sn += 1   #increment source count\n",
    "\n",
    "    if x == 'F':  # F: cccs\n",
    "        # if there is a F type, D is m by m\n",
    "        # need to find the vn for Vname\n",
    "        # then stamp the matrix\n",
    "        vn1, vn2, df2_index = find_vname(df.loc[i,'Vname'])\n",
    "        D[sn,df2_index] += -sympify(df.loc[i,'element'].lower())\n",
    "        D[sn,sn] = 1\n",
    "        sn += 1   #increment source count\n",
    "\n",
    "    if x == 'K':  # K: coupled inductors, KXX LYY LZZ value\n",
    "        # if there is a K type, D is m by m\n",
    "        vn1, vn2, ind1_index = find_vname(df.loc[i,'Lname1'])  # get i_unk position for Lx\n",
    "        vn1, vn2, ind2_index = find_vname(df.loc[i,'Lname2'])  # get i_unk position for Ly\n",
    "        # enter sM on diagonals = value*sqrt(LXX*LZZ)\n",
    "\n",
    "        D[ind1_index,ind2_index] += -s*sympify('M{:s}'.format(df.loc[i,'element'].lower()[1:]))  # s*Mxx\n",
    "        D[ind2_index,ind1_index] += -s*sympify('M{:s}'.format(df.loc[i,'element'].lower()[1:]))  # -s*Mxx\n",
    "\n",
    "# display the The D matrix\n",
    "D"
   ]
  },
  {
   "cell_type": "markdown",
   "metadata": {},
   "source": [
    "## V matrix\n",
    "The V matrix is an n by 1 matrix formed of the node voltages, where n is the number of nodes. Each element in V corresponds to the voltage at the node.  \n",
    "\n",
    "Maybe make small v's v_1 so as not to confuse v1 with V1."
   ]
  },
  {
   "cell_type": "code",
   "execution_count": 123,
   "metadata": {
    "collapsed": false
   },
   "outputs": [
    {
     "data": {
      "text/latex": [
       "$$\\left[\\begin{matrix}v_{1}\\\\v_{2}\\\\v_{3}\\\\v_{4}\\\\v_{5}\\end{matrix}\\right]$$"
      ],
      "text/plain": [
       "⎡v₁⎤\n",
       "⎢  ⎥\n",
       "⎢v₂⎥\n",
       "⎢  ⎥\n",
       "⎢v₃⎥\n",
       "⎢  ⎥\n",
       "⎢v₄⎥\n",
       "⎢  ⎥\n",
       "⎣v₅⎦"
      ]
     },
     "execution_count": 123,
     "metadata": {},
     "output_type": "execute_result"
    }
   ],
   "source": [
    "# generate the V matrix\n",
    "for i in range(num_nodes):\n",
    "    V[i] = sympify('v{:d}'.format(i+1))\n",
    "\n",
    "V  # display the V matrix"
   ]
  },
  {
   "cell_type": "markdown",
   "metadata": {},
   "source": [
    "## J matrix\n",
    "The J matrix is an m by 1 matrix, where m is the number of unknown currents.\n",
    ">i_unk = num_v+num_opamps+num_vcvs+num_ccvs+num_ind+num_cccs"
   ]
  },
  {
   "cell_type": "code",
   "execution_count": 124,
   "metadata": {
    "collapsed": false
   },
   "outputs": [
    {
     "data": {
      "text/latex": [
       "$$\\left[\\begin{matrix}I_{V1}\\\\I_{V2}\\\\I_{H1}\\\\I_{L1}\\end{matrix}\\right]$$"
      ],
      "text/plain": [
       "⎡I_V1⎤\n",
       "⎢    ⎥\n",
       "⎢I_V2⎥\n",
       "⎢    ⎥\n",
       "⎢I_H1⎥\n",
       "⎢    ⎥\n",
       "⎣I_L1⎦"
      ]
     },
     "execution_count": 124,
     "metadata": {},
     "output_type": "execute_result"
    }
   ],
   "source": [
    "# The J matrix is an mx1 matrix, with one entry for each i_unk from a source\n",
    "#sn = 0   # count i_unk source number\n",
    "#oan = 0   #count op amp number\n",
    "for i in range(len(df2)):\n",
    "    # process all the unknown currents\n",
    "    J[i] = sympify('I_{:s}'.format(df2.loc[i,'element']))\n",
    "\n",
    "J  # diplay the J matrix"
   ]
  },
  {
   "cell_type": "markdown",
   "metadata": {},
   "source": [
    "## I matrix\n",
    "The I matrix is an n by 1 matrix, where n is the number of nodes. The value of each element of I is determined by the sum of current sources into the corresponding node. If there are no current sources connected to the node, the value is zero."
   ]
  },
  {
   "cell_type": "code",
   "execution_count": 125,
   "metadata": {
    "collapsed": false
   },
   "outputs": [
    {
     "data": {
      "text/latex": [
       "$$\\left[\\begin{matrix}0\\\\0\\\\0\\\\- I_{1}\\\\0\\end{matrix}\\right]$$"
      ],
      "text/plain": [
       "⎡ 0 ⎤\n",
       "⎢   ⎥\n",
       "⎢ 0 ⎥\n",
       "⎢   ⎥\n",
       "⎢ 0 ⎥\n",
       "⎢   ⎥\n",
       "⎢-I₁⎥\n",
       "⎢   ⎥\n",
       "⎣ 0 ⎦"
      ]
     },
     "execution_count": 125,
     "metadata": {},
     "output_type": "execute_result"
    }
   ],
   "source": [
    "# generate the I matrix, current sources have n2 = arrow end of the element\n",
    "for i in range(len(df)):\n",
    "    n1 = df.loc[i,'p node']\n",
    "    n2 = df.loc[i,'n node']\n",
    "    # process all the passive elements, save conductance to temp value\n",
    "    x = df.loc[i,'element'][0]   #get 1st letter of element name\n",
    "    if x == 'I':\n",
    "        g = sympify(df.loc[i,'element'])\n",
    "        # sum the current into each node\n",
    "        if n1 != 0:\n",
    "            I[n1-1] -= g\n",
    "        if n2 != 0:\n",
    "            I[n2-1] += g\n",
    "\n",
    "I  # display the I matrix"
   ]
  },
  {
   "cell_type": "markdown",
   "metadata": {},
   "source": [
    "## Ev matrix\n",
    "The Ev matrix is mx1 and holds the values of the independent voltage sources."
   ]
  },
  {
   "cell_type": "code",
   "execution_count": 126,
   "metadata": {
    "collapsed": false
   },
   "outputs": [
    {
     "data": {
      "text/latex": [
       "$$\\left[\\begin{matrix}V_{1}\\\\V_{2}\\\\0\\\\0\\end{matrix}\\right]$$"
      ],
      "text/plain": [
       "⎡V₁⎤\n",
       "⎢  ⎥\n",
       "⎢V₂⎥\n",
       "⎢  ⎥\n",
       "⎢0 ⎥\n",
       "⎢  ⎥\n",
       "⎣0 ⎦"
      ]
     },
     "execution_count": 126,
     "metadata": {},
     "output_type": "execute_result"
    }
   ],
   "source": [
    "# generate the E matrix\n",
    "sn = 0   # count source number\n",
    "for i in range(len(df)):\n",
    "    # process all the passive elements\n",
    "    x = df.loc[i,'element'][0]   #get 1st letter of element name\n",
    "    if x == 'V':\n",
    "        Ev[sn] = sympify(df.loc[i,'element'])\n",
    "        sn += 1\n",
    "\n",
    "Ev   # display the E matrix"
   ]
  },
  {
   "cell_type": "markdown",
   "metadata": {},
   "source": [
    "## Z matrix\n",
    "The Z matrix holds the independent voltage and current sources and is the combination of 2 smaller matrices I and Ev. The Z matrix is (m+n) by 1, n is the number of nodes, and m is the number of independent voltage sources. The I matrix is n by 1 and contains the sum of the currents through the passive elements into the corresponding node (either zero, or the sum of independent current sources). The Ev matrix is m by 1 and holds the values of the independent voltage sources."
   ]
  },
  {
   "cell_type": "code",
   "execution_count": 127,
   "metadata": {
    "collapsed": false
   },
   "outputs": [
    {
     "data": {
      "image/png": "[encoded data removed]",
      "text/latex": [
       "$$\\left [ 0, \\quad 0, \\quad 0, \\quad - I_{1}, \\quad 0, \\quad V_{1}, \\quad V_{2}, \\quad 0, \\quad 0\\right ]$$"
      ],
      "text/plain": [
       "[0, 0, 0, -I₁, 0, V₁, V₂, 0, 0]"
      ]
     },
     "execution_count": 127,
     "metadata": {},
     "output_type": "execute_result"
    }
   ],
   "source": [
    "Z = I[:] + Ev[:]  # the + operator in python concatinates the lists\n",
    "Z  # display the Z matrix"
   ]
  },
  {
   "cell_type": "markdown",
   "metadata": {},
   "source": [
    "## X matrix\n",
    "The X matrix is an (n+m) by 1 vector that holds the unknown quantities (node voltages and the currents through the independent voltage sources). The top n elements are the n node voltages. The bottom m elements represent the currents through the m independent voltage sources in the circuit. The V matrix is n by 1 and holds the unknown voltages. The J matrix is m by 1 and holds the unknown currents through the voltage sources"
   ]
  },
  {
   "cell_type": "code",
   "execution_count": 128,
   "metadata": {
    "collapsed": false
   },
   "outputs": [
    {
     "data": {
      "image/png": "[encoded data removed]",
      "text/latex": [
       "$$\\left [ v_{1}, \\quad v_{2}, \\quad v_{3}, \\quad v_{4}, \\quad v_{5}, \\quad I_{V1}, \\quad I_{V2}, \\quad I_{H1}, \\quad I_{L1}\\right ]$$"
      ],
      "text/plain": [
       "[v₁, v₂, v₃, v₄, v₅, I_V1, I_V2, I_H1, I_L1]"
      ]
     },
     "execution_count": 128,
     "metadata": {},
     "output_type": "execute_result"
    }
   ],
   "source": [
    "X = V[:] + J[:]  # the + operator in python concatinates the lists\n",
    "X  # display the X matrix"
   ]
  },
  {
   "cell_type": "markdown",
   "metadata": {},
   "source": [
    "## A matrix\n",
    "The A matrix is (m+n) by (m+n) and will be developed as the combination of 4 smaller matrices, G, B, C, and D."
   ]
  },
  {
   "cell_type": "code",
   "execution_count": 129,
   "metadata": {
    "collapsed": false
   },
   "outputs": [
    {
     "data": {
      "text/latex": [
       "$$\\left[\\begin{matrix}C_{1} s + \\frac{1}{R_{1}} & - C_{1} s & 0 & - \\frac{1}{R_{1}} & 0 & 1 & 0 & 0 & 0\\\\- C_{1} s & C_{1} s + \\frac{1}{R_{4}} & 0 & 0 & - \\frac{1}{R_{4}} & 0 & 0 & 1 & 0\\\\- g_{1} & 0 & 0 & g_{1} & 0 & 0 & 0 & -1 & -1\\\\- \\frac{1}{R_{1}} & 0 & 0 & \\frac{1}{R_{1}} & 0 & 0 & 0 & 0 & 1\\\\0 & - \\frac{1}{R_{4}} & 0 & 0 & \\frac{1}{R_{4}} & 0 & -1 & 0 & 0\\\\1 & 0 & 0 & 0 & 0 & 0 & 0 & 0 & 0\\\\0 & 0 & 0 & 0 & -1 & 0 & 0 & 0 & 0\\\\0 & 1 & -1 & 0 & 0 & 0 & - h_{1} & 0 & 0\\\\0 & 0 & -1 & 1 & 0 & 0 & 0 & 0 & - L_{1} s\\end{matrix}\\right]$$"
      ],
      "text/plain": [
       "⎡       1                  -1                         ⎤\n",
       "⎢C₁⋅s + ──    -C₁⋅s    0   ───   0   1   0   0     0  ⎥\n",
       "⎢       R₁                  R₁                        ⎥\n",
       "⎢                                                     ⎥\n",
       "⎢                  1            -1                    ⎥\n",
       "⎢  -C₁⋅s    C₁⋅s + ──  0    0   ───  0   0   1     0  ⎥\n",
       "⎢                  R₄            R₄                   ⎥\n",
       "⎢                                                     ⎥\n",
       "⎢   -g₁         0      0   g₁    0   0   0   -1   -1  ⎥\n",
       "⎢                                                     ⎥\n",
       "⎢   -1                     1                          ⎥\n",
       "⎢   ───         0      0   ──    0   0   0   0     1  ⎥\n",
       "⎢    R₁                    R₁                         ⎥\n",
       "⎢                                                     ⎥\n",
       "⎢              -1               1                     ⎥\n",
       "⎢    0         ───     0    0   ──   0  -1   0     0  ⎥\n",
       "⎢               R₄              R₄                    ⎥\n",
       "⎢                                                     ⎥\n",
       "⎢    1          0      0    0    0   0   0   0     0  ⎥\n",
       "⎢                                                     ⎥\n",
       "⎢    0          0      0    0   -1   0   0   0     0  ⎥\n",
       "⎢                                                     ⎥\n",
       "⎢    0          1      -1   0    0   0  -h₁  0     0  ⎥\n",
       "⎢                                                     ⎥\n",
       "⎣    0          0      -1   1    0   0   0   0   -L₁⋅s⎦"
      ]
     },
     "execution_count": 129,
     "metadata": {},
     "output_type": "execute_result"
    }
   ],
   "source": [
    "n = num_nodes\n",
    "m = i_unk\n",
    "A = zeros(m+n,m+n)\n",
    "for i in range(n):\n",
    "    for j in range(n):\n",
    "        A[i,j] = G[i,j]\n",
    "\n",
    "if i_unk > 1:\n",
    "    for i in range(n):\n",
    "        for j in range(m):\n",
    "            A[i,n+j] = B[i,j]\n",
    "            A[n+j,i] = C[j,i]\n",
    "\n",
    "    for i in range(m):\n",
    "        for j in range(m):\n",
    "            A[n+i,n+j] = D[i,j]\n",
    "\n",
    "if i_unk == 1:\n",
    "    for i in range(n):\n",
    "        A[i,n] = B[i]\n",
    "        A[n,i] = C[i]\n",
    "\n",
    "A  # display the A matrix"
   ]
  },
  {
   "cell_type": "markdown",
   "metadata": {},
   "source": [
    "## generate the circuit equations"
   ]
  },
  {
   "cell_type": "code",
   "execution_count": 130,
   "metadata": {
    "collapsed": false
   },
   "outputs": [
    {
     "data": {
      "text/latex": [
       "$$\\left[\\begin{matrix}- C_{1} s v_{2} + I_{V1} + v_{1} \\left(C_{1} s + \\frac{1}{R_{1}}\\right) - \\frac{v_{4}}{R_{1}} = 0\\\\- C_{1} s v_{1} + I_{H1} + v_{2} \\left(C_{1} s + \\frac{1}{R_{4}}\\right) - \\frac{v_{5}}{R_{4}} = 0\\\\- I_{H1} - I_{L1} - g_{1} v_{1} + g_{1} v_{4} = 0\\\\I_{L1} - \\frac{v_{1}}{R_{1}} + \\frac{v_{4}}{R_{1}} = - I_{1}\\\\- I_{V2} - \\frac{v_{2}}{R_{4}} + \\frac{v_{5}}{R_{4}} = 0\\\\v_{1} = V_{1}\\\\- v_{5} = V_{2}\\\\- I_{V2} h_{1} + v_{2} - v_{3} = 0\\\\- I_{L1} L_{1} s - v_{3} + v_{4} = 0\\end{matrix}\\right]$$"
      ],
      "text/plain": [
       "⎡                     ⎛       1 ⎞   v₄    ⎤\n",
       "⎢-C₁⋅s⋅v₂ + I_V1 + v₁⋅⎜C₁⋅s + ──⎟ - ── = 0⎥\n",
       "⎢                     ⎝       R₁⎠   R₁    ⎥\n",
       "⎢                                         ⎥\n",
       "⎢                     ⎛       1 ⎞   v₅    ⎥\n",
       "⎢-C₁⋅s⋅v₁ + I_H1 + v₂⋅⎜C₁⋅s + ──⎟ - ── = 0⎥\n",
       "⎢                     ⎝       R₄⎠   R₄    ⎥\n",
       "⎢                                         ⎥\n",
       "⎢    -I_H1 - I_L1 - g₁⋅v₁ + g₁⋅v₄ = 0     ⎥\n",
       "⎢                                         ⎥\n",
       "⎢                 v₁   v₄                 ⎥\n",
       "⎢          I_L1 - ── + ── = -I₁           ⎥\n",
       "⎢                 R₁   R₁                 ⎥\n",
       "⎢                                         ⎥\n",
       "⎢                   v₂   v₅               ⎥\n",
       "⎢           -I_V2 - ── + ── = 0           ⎥\n",
       "⎢                   R₄   R₄               ⎥\n",
       "⎢                                         ⎥\n",
       "⎢                 v₁ = V₁                 ⎥\n",
       "⎢                                         ⎥\n",
       "⎢                -v₅ = V₂                 ⎥\n",
       "⎢                                         ⎥\n",
       "⎢         -I_V2⋅h₁ + v₂ - v₃ = 0          ⎥\n",
       "⎢                                         ⎥\n",
       "⎣        -I_L1⋅L₁⋅s - v₃ + v₄ = 0         ⎦"
      ]
     },
     "execution_count": 130,
     "metadata": {},
     "output_type": "execute_result"
    }
   ],
   "source": [
    "n = num_nodes\n",
    "m = i_unk\n",
    "eq_temp = 0  # temporary equation used to build up the equation\n",
    "equ = zeros(m+n,1)  #initialize the array to hold the equations\n",
    "for i in range(n+m):\n",
    "    for j in range(n+m):\n",
    "        eq_temp += A[i,j]*X[j]\n",
    "    equ[i] = Eq(eq_temp,Z[i])\n",
    "    eq_temp = 0\n",
    "\n",
    "equ   # display the equations"
   ]
  },
  {
   "cell_type": "markdown",
   "metadata": {},
   "source": [
    "Use the str() function to convert sympy equations to strings.  These strings can be copied to a new notebook."
   ]
  },
  {
   "cell_type": "code",
   "execution_count": 131,
   "metadata": {
    "collapsed": false
   },
   "outputs": [
    {
     "data": {
      "text/plain": [
       "'Matrix([[Eq(-C1*s*v2 + I_V1 + v1*(C1*s + 1/R1) - v4/R1, 0)], [Eq(-C1*s*v1 + I_H1 + v2*(C1*s + 1/R4) - v5/R4, 0)], [Eq(-I_H1 - I_L1 - g1*v1 + g1*v4, 0)], [Eq(I_L1 - v1/R1 + v4/R1, -I1)], [Eq(-I_V2 - v2/R4 + v5/R4, 0)], [Eq(v1, V1)], [Eq(-v5, V2)], [Eq(-I_V2*h1 + v2 - v3, 0)], [Eq(-I_L1*L1*s - v3 + v4, 0)]])'"
      ]
     },
     "execution_count": 131,
     "metadata": {},
     "output_type": "execute_result"
    }
   ],
   "source": [
    "str(equ)"
   ]
  },
  {
   "cell_type": "code",
   "execution_count": 132,
   "metadata": {
    "collapsed": false
   },
   "outputs": [
    {
     "data": {
      "text/plain": [
       "'{V1, v4, R4, I1, v3, v5, I_V2, I_V1, h1, I_L1, s, C1, R1, V2, v1, g1, L1, v2, I_H1}'"
      ]
     },
     "execution_count": 132,
     "metadata": {},
     "output_type": "execute_result"
    }
   ],
   "source": [
    "str(equ.free_symbols)"
   ]
  },
  {
   "cell_type": "code",
   "execution_count": 133,
   "metadata": {
    "collapsed": false
   },
   "outputs": [
    {
     "data": {
      "text/plain": [
       "'[v1, v2, v3, v4, v5, I_V1, I_V2, I_H1, I_L1]'"
      ]
     },
     "execution_count": 133,
     "metadata": {},
     "output_type": "execute_result"
    }
   ],
   "source": [
    "str(X)"
   ]
  },
  {
   "cell_type": "code",
   "execution_count": null,
   "metadata": {
    "collapsed": false
   },
   "outputs": [],
   "source": []
  },
  {
   "cell_type": "code",
   "execution_count": null,
   "metadata": {},
   "outputs": [],
   "source": []
  }
 ],
 "metadata": {
  "kernelspec": {
   "display_name": "Python 3",
   "language": "python",
   "name": "python3"
  },
  "language_info": {
   "codemirror_mode": {
    "name": "ipython",
    "version": 3
   },
   "file_extension": ".py",
   "mimetype": "text/x-python",
   "name": "python",
   "nbconvert_exporter": "python",
   "pygments_lexer": "ipython3",
   "version": "3.7.3"
  }
 },
 "nbformat": 4,
 "nbformat_minor": 2
}
